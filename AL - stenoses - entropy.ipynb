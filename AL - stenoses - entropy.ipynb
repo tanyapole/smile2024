{
 "cells": [
  {
   "cell_type": "code",
   "execution_count": 24,
   "id": "39058e05-8f10-4cd8-8658-ae33981f9209",
   "metadata": {},
   "outputs": [],
   "source": [
    "import gc\n",
    "import numpy as np\n",
    "import torch\n",
    "import torch.nn as nn\n",
    "import segmentation_models_pytorch as smp\n",
    "import utils, segmentation\n",
    "from tqdm.auto import tqdm"
   ]
  },
  {
   "cell_type": "code",
   "execution_count": 2,
   "id": "95b179fd-bf2d-4eb6-b32f-dbedec5565cd",
   "metadata": {},
   "outputs": [
    {
     "name": "stdout",
     "output_type": "stream",
     "text": [
      "cuda:0\n"
     ]
    }
   ],
   "source": [
    "device = torch.device('cuda:0') if torch.cuda.is_available() else torch.device('cpu')\n",
    "# device = torch.device('cpu')\n",
    "print(device)"
   ]
  },
  {
   "cell_type": "code",
   "execution_count": 22,
   "id": "30728ba4-6fd6-4e50-8bf3-3e69f9121d5c",
   "metadata": {},
   "outputs": [],
   "source": [
    "class PartialDs(torch.utils.data.Dataset):\n",
    "    def __init__(self, ds, idxs):\n",
    "        self.ds = ds\n",
    "        self.idxs = idxs\n",
    "    \n",
    "    def __len__(self):\n",
    "        return len(self.idxs)\n",
    "    \n",
    "    def __getitem__(self, i): \n",
    "        return self.ds[self.idxs[i]]\n",
    "\n",
    "def compute_entropies(out):\n",
    "    prob = out.detach().cpu().softmax(dim=1)\n",
    "    assert ((prob.sum(dim=1) - 1).abs() < 1e-5).all()\n",
    "    entropy = - prob * prob.log()\n",
    "    entropy = entropy.sum(dim=1) # sum over classes\n",
    "    entropy = entropy.mean(dim=(-1,-2)) # average over pixels\n",
    "    return entropy\n",
    "\n",
    "def create_model():\n",
    "    return smp.Unet(\n",
    "        encoder_name=\"resnet18\",        # choose encoder, e.g. mobilenet_v2 or efficientnet-b7\n",
    "        encoder_weights=\"imagenet\",     # use `imagenet` pre-trained weights for encoder initialization\n",
    "        in_channels=3,                  # model input channels (1 for gray-scale images, 3 for RGB, etc.)\n",
    "        classes=2,                      # model output channels (number of classes in your dataset)\n",
    "    )\n",
    "\n",
    "def create_optimizer(model):\n",
    "    return torch.optim.SGD(model.parameters(), lr=1e-1)"
   ]
  },
  {
   "cell_type": "code",
   "execution_count": 8,
   "id": "f9eaa47f-929a-43d5-b4af-ed66b2fd65dc",
   "metadata": {},
   "outputs": [],
   "source": [
    "ds_full = segmentation.SegmentationDataset('./stenoses_data/train/', 2)\n",
    "ds_test = segmentation.SegmentationDataset('./stenoses_data/test/', 2)\n",
    "\n",
    "batch_size = 8\n",
    "dl_full = torch.utils.data.DataLoader(ds_full, batch_size=batch_size, shuffle=False, drop_last=False)\n",
    "dl_test = torch.utils.data.DataLoader(ds_test, batch_size=batch_size, shuffle=False, drop_last=False)"
   ]
  },
  {
   "cell_type": "code",
   "execution_count": 13,
   "id": "30247f1b-e743-4580-b01f-c539f36b0de5",
   "metadata": {},
   "outputs": [],
   "source": [
    "w = 0.\n",
    "for imgs, masks in dl_full:\n",
    "    w += masks.sum() / (masks.numel() * len(dl_full))\n",
    "loss_fn = nn.CrossEntropyLoss(weight=torch.Tensor([1 / (1-w), 1/ w])).to(device)"
   ]
  },
  {
   "cell_type": "code",
   "execution_count": 16,
   "id": "a86ad94b-09ac-4471-9fc0-cedf14ad655c",
   "metadata": {},
   "outputs": [],
   "source": [
    "model = create_model().to(device)\n",
    "optimizer = create_optimizer(model)"
   ]
  },
  {
   "cell_type": "code",
   "execution_count": 36,
   "id": "b118463a-6223-4a06-852e-85f744554f14",
   "metadata": {},
   "outputs": [
    {
     "data": {
      "text/plain": [
       "(598, 59)"
      ]
     },
     "execution_count": 36,
     "metadata": {},
     "output_type": "execute_result"
    }
   ],
   "source": [
    "N = len(ds_full)\n",
    "N_step = int(N*0.1)\n",
    "N, N_step"
   ]
  },
  {
   "cell_type": "code",
   "execution_count": 37,
   "id": "c4553031-2dc7-404c-9570-833cf8467a68",
   "metadata": {},
   "outputs": [],
   "source": [
    "idxs = list(range(N))\n",
    "np.random.seed(0)\n",
    "np.random.shuffle(idxs)\n",
    "labeled_idxs, unlabeled_idxs = idxs[:N_step], idxs[N_step:]"
   ]
  },
  {
   "cell_type": "code",
   "execution_count": 38,
   "id": "88c04902-bd67-4ff2-b738-eab385eeef07",
   "metadata": {},
   "outputs": [
    {
     "name": "stdout",
     "output_type": "stream",
     "text": [
      ">>>>>>>>>>>> Iter 0\n"
     ]
    },
    {
     "data": {
      "application/vnd.jupyter.widget-view+json": {
       "model_id": "2911ce51ec43471787fec15a5facd8cd",
       "version_major": 2,
       "version_minor": 0
      },
      "text/plain": [
       "Epoch:   0%|          | 0/30 [00:00<?, ?it/s]"
      ]
     },
     "metadata": {},
     "output_type": "display_data"
    },
    {
     "name": "stdout",
     "output_type": "stream",
     "text": [
      "0 0.3922 0.7044 tensor([0.0018])\n",
      "1 0.2308 1.1152 tensor([0.0031])\n",
      "2 0.1208 0.2910 tensor([0.0761])\n",
      "3 0.2856 0.7441 tensor([0.0055])\n",
      "4 0.1518 1.2459 tensor([0.0169])\n",
      "5 0.8364 10.1640 tensor([0.0023])\n",
      "6 0.4502 1.7940 tensor([0.0140])\n",
      "7 0.2337 0.6182 tensor([0.0358])\n",
      "8 0.1190 0.1933 tensor([0.0569])\n",
      "9 0.0760 0.6274 tensor([0.0807])\n",
      "10 0.0628 0.2620 tensor([0.2193])\n",
      "11 0.0333 0.1016 tensor([0.0539])\n",
      "12 0.0487 0.1719 tensor([0.0658])\n",
      "13 0.0355 0.2528 tensor([0.2424])\n",
      "14 0.0225 0.1768 tensor([0.0688])\n",
      "15 0.0236 0.2066 tensor([0.2889])\n",
      "16 0.0168 0.1270 tensor([0.2406])\n",
      "17 0.0368 2.9822 tensor([0.0090])\n",
      "18 0.1015 0.0970 tensor([0.0948])\n",
      "19 0.0254 0.1762 tensor([0.2325])\n",
      "20 0.0250 0.0662 tensor([0.1401])\n",
      "21 0.0183 0.2365 tensor([0.3025])\n",
      "22 0.0153 0.1806 tensor([0.3047])\n",
      "23 0.0116 0.1244 tensor([0.1906])\n",
      "24 0.0105 0.1744 tensor([0.3327])\n",
      "25 0.0095 0.2087 tensor([0.3619])\n",
      "26 0.0109 0.1736 tensor([0.3120])\n",
      "27 0.0088 0.1582 tensor([0.2989])\n",
      "28 0.0097 0.1771 tensor([0.2748])\n",
      "29 0.0081 0.1760 tensor([0.3601])\n",
      "\n",
      ">>>>>>>>>>>> Iter 1\n"
     ]
    },
    {
     "data": {
      "application/vnd.jupyter.widget-view+json": {
       "model_id": "787c048ab43045f39a7f02a92cc70d88",
       "version_major": 2,
       "version_minor": 0
      },
      "text/plain": [
       "Epoch:   0%|          | 0/30 [00:00<?, ?it/s]"
      ]
     },
     "metadata": {},
     "output_type": "display_data"
    },
    {
     "name": "stdout",
     "output_type": "stream",
     "text": [
      "0 0.4297 1.9850 tensor([0.0027])\n",
      "1 0.2042 0.2709 tensor([0.0460])\n",
      "2 0.0568 0.1632 tensor([0.0197])\n",
      "3 0.0473 0.1089 tensor([0.0584])\n",
      "4 0.2227 1.4695 tensor([0.0104])\n",
      "5 0.1012 0.2929 tensor([0.1568])\n",
      "6 0.0511 0.6965 tensor([0.0289])\n",
      "7 0.1381 0.2184 tensor([0.0187])\n",
      "8 0.0715 0.2270 tensor([0.0279])\n",
      "9 0.0638 0.1094 tensor([0.0314])\n",
      "10 0.0418 0.2563 tensor([0.1261])\n",
      "11 0.0751 0.5806 tensor([0.0128])\n",
      "12 0.1658 0.6892 tensor([0.0509])\n",
      "13 0.0702 0.4384 tensor([0.0948])\n",
      "14 0.0369 0.1046 tensor([0.0872])\n",
      "15 0.0221 0.3407 tensor([0.1548])\n",
      "16 0.0182 0.2752 tensor([0.2010])\n",
      "17 0.0169 0.1274 tensor([0.1426])\n",
      "18 0.0141 0.4090 tensor([0.1952])\n",
      "19 0.5389 0.6774 tensor([0.0058])\n",
      "20 0.1499 0.2618 tensor([0.0866])\n",
      "21 0.1163 0.1605 tensor([0.0720])\n",
      "22 0.0638 0.0963 tensor([0.1215])\n",
      "23 0.0382 0.6074 tensor([0.3053])\n",
      "24 0.0526 0.0941 tensor([0.0221])\n",
      "25 0.0408 0.5295 tensor([0.1478])\n",
      "26 0.0310 0.7797 tensor([0.2325])\n",
      "27 0.0210 0.2351 tensor([0.3157])\n",
      "28 0.0161 0.7076 tensor([0.3258])\n",
      "29 0.0130 0.0656 tensor([0.2428])\n",
      "\n",
      ">>>>>>>>>>>> Iter 2\n"
     ]
    },
    {
     "data": {
      "application/vnd.jupyter.widget-view+json": {
       "model_id": "14aac50f4a744ea9a3a1c813bbe7541e",
       "version_major": 2,
       "version_minor": 0
      },
      "text/plain": [
       "Epoch:   0%|          | 0/30 [00:00<?, ?it/s]"
      ]
     },
     "metadata": {},
     "output_type": "display_data"
    },
    {
     "name": "stdout",
     "output_type": "stream",
     "text": [
      "0 0.3675 0.2903 tensor([0.0503])\n",
      "1 0.1687 0.1024 tensor([0.0196])\n",
      "2 0.0748 0.0434 tensor([0.1083])\n",
      "3 0.0239 0.0646 tensor([0.3530])\n",
      "4 0.0177 0.0178 tensor([0.2337])\n",
      "5 0.0115 0.0238 tensor([0.3377])\n",
      "6 0.0093 0.0259 tensor([0.4037])\n",
      "7 0.0077 0.0314 tensor([0.4237])\n",
      "8 0.0064 0.0398 tensor([0.4865])\n",
      "9 0.0069 0.0670 tensor([0.4786])\n",
      "10 0.0054 0.0152 tensor([0.3625])\n",
      "11 0.0047 0.1532 tensor([0.5971])\n",
      "12 0.0136 0.0138 tensor([0.1793])\n",
      "13 0.0082 0.0740 tensor([0.5949])\n",
      "14 0.0060 0.0122 tensor([0.3940])\n",
      "15 0.0050 0.0365 tensor([0.5338])\n",
      "16 0.0051 0.0412 tensor([0.5498])\n",
      "17 0.0045 0.0091 tensor([0.3855])\n",
      "18 0.0041 0.0454 tensor([0.5675])\n",
      "19 0.0037 0.0270 tensor([0.5301])\n",
      "20 0.0043 0.0267 tensor([0.5090])\n",
      "21 0.0034 0.0547 tensor([0.6000])\n",
      "22 0.0033 0.0604 tensor([0.5981])\n",
      "23 0.0031 0.0500 tensor([0.5839])\n",
      "24 0.0029 0.0712 tensor([0.6100])\n",
      "25 0.0030 0.0481 tensor([0.5803])\n",
      "26 0.0028 0.0925 tensor([0.6367])\n",
      "27 0.0027 0.1124 tensor([0.6325])\n",
      "28 0.0026 0.1587 tensor([0.6558])\n",
      "29 0.0027 0.0587 tensor([0.5919])\n",
      "\n",
      ">>>>>>>>>>>> Iter 3\n"
     ]
    },
    {
     "data": {
      "application/vnd.jupyter.widget-view+json": {
       "model_id": "08291b825f9d48c29eb14bce0f20ff7e",
       "version_major": 2,
       "version_minor": 0
      },
      "text/plain": [
       "Epoch:   0%|          | 0/30 [00:00<?, ?it/s]"
      ]
     },
     "metadata": {},
     "output_type": "display_data"
    },
    {
     "name": "stdout",
     "output_type": "stream",
     "text": [
      "0 0.4479 0.1937 tensor([0.0704])\n",
      "1 0.2461 1.0223 tensor([0.0208])\n",
      "2 0.0835 0.1894 tensor([0.1178])\n",
      "3 0.0273 0.0460 tensor([0.1311])\n",
      "4 0.0220 0.0715 tensor([0.1272])\n",
      "5 0.0153 0.0884 tensor([0.3619])\n",
      "6 0.0152 0.2609 tensor([0.1841])\n",
      "7 0.0459 0.1636 tensor([0.3047])\n",
      "8 0.0129 0.0674 tensor([0.3215])\n",
      "9 0.0097 0.0807 tensor([0.3509])\n",
      "10 0.2718 0.1337 tensor([0.0996])\n",
      "11 0.0542 0.0628 tensor([0.1253])\n",
      "12 0.0331 0.0653 tensor([0.2378])\n",
      "13 0.0167 0.0292 tensor([0.2581])\n",
      "14 0.0621 0.0338 tensor([0.1198])\n",
      "15 0.0204 0.0305 tensor([0.1697])\n",
      "16 0.0152 0.0203 tensor([0.1317])\n",
      "17 0.0119 0.0214 tensor([0.2340])\n",
      "18 0.0097 0.0185 tensor([0.2104])\n",
      "19 0.0087 0.0280 tensor([0.2460])\n",
      "20 0.0081 0.0294 tensor([0.2923])\n",
      "21 0.0108 0.0496 tensor([0.3202])\n",
      "22 0.0066 0.0356 tensor([0.3408])\n",
      "23 0.0059 0.0438 tensor([0.3631])\n",
      "24 0.0058 0.0237 tensor([0.3014])\n",
      "25 0.0053 0.0474 tensor([0.1454])\n",
      "26 0.0061 0.0285 tensor([0.3707])\n",
      "27 0.0046 0.0402 tensor([0.3733])\n",
      "28 0.0044 0.0524 tensor([0.3920])\n",
      "29 0.0043 0.0561 tensor([0.4038])\n",
      "\n",
      ">>>>>>>>>>>> Iter 4\n"
     ]
    },
    {
     "data": {
      "application/vnd.jupyter.widget-view+json": {
       "model_id": "b50dc51247f948faae82e83ba9f3b318",
       "version_major": 2,
       "version_minor": 0
      },
      "text/plain": [
       "Epoch:   0%|          | 0/30 [00:00<?, ?it/s]"
      ]
     },
     "metadata": {},
     "output_type": "display_data"
    },
    {
     "name": "stdout",
     "output_type": "stream",
     "text": [
      "0 0.2050 0.2399 tensor([0.0696])\n",
      "1 0.0431 0.0778 tensor([0.1175])\n",
      "2 0.0226 0.0291 tensor([0.1098])\n",
      "3 0.0142 0.0687 tensor([0.2993])\n",
      "4 0.0093 0.0401 tensor([0.2535])\n",
      "5 0.0075 0.1064 tensor([0.3818])\n",
      "6 0.0061 0.1212 tensor([0.4334])\n",
      "7 0.0059 0.0695 tensor([0.3397])\n",
      "8 0.0050 0.1326 tensor([0.4442])\n",
      "9 0.0052 0.0727 tensor([0.4157])\n",
      "10 0.0043 0.1081 tensor([0.4603])\n",
      "11 0.0065 0.1139 tensor([0.3733])\n",
      "12 0.0040 0.1293 tensor([0.4087])\n",
      "13 0.0040 0.1104 tensor([0.3954])\n",
      "14 0.0035 0.1543 tensor([0.4818])\n",
      "15 0.0034 0.1722 tensor([0.4909])\n",
      "16 0.0035 0.2043 tensor([0.4937])\n",
      "17 0.0033 0.1522 tensor([0.4636])\n",
      "18 0.0032 0.1456 tensor([0.4783])\n",
      "19 0.0030 0.0736 tensor([0.3791])\n",
      "20 0.0034 0.1793 tensor([0.5000])\n",
      "21 0.0028 0.1318 tensor([0.4577])\n",
      "22 0.0028 0.1279 tensor([0.4700])\n",
      "23 0.0025 0.1972 tensor([0.5160])\n",
      "24 0.0024 0.1634 tensor([0.4990])\n",
      "25 0.0023 0.1810 tensor([0.5221])\n",
      "26 0.0024 0.1383 tensor([0.5317])\n",
      "27 0.0022 0.1756 tensor([0.5349])\n",
      "28 0.0023 0.1972 tensor([0.5307])\n",
      "29 0.0023 0.1515 tensor([0.5321])\n",
      "\n",
      ">>>>>>>>>>>> Iter 5\n"
     ]
    },
    {
     "data": {
      "application/vnd.jupyter.widget-view+json": {
       "model_id": "73e7d4d4785b47c48c04d84dceabbe0e",
       "version_major": 2,
       "version_minor": 0
      },
      "text/plain": [
       "Epoch:   0%|          | 0/30 [00:00<?, ?it/s]"
      ]
     },
     "metadata": {},
     "output_type": "display_data"
    },
    {
     "name": "stdout",
     "output_type": "stream",
     "text": [
      "0 0.2077 0.2174 tensor([0.1378])\n",
      "1 0.0435 0.0908 tensor([0.0673])\n",
      "2 0.0262 0.0924 tensor([0.1825])\n",
      "3 0.0147 0.0891 tensor([0.2205])\n",
      "4 0.0095 0.0831 tensor([0.2123])\n",
      "5 0.0083 0.1440 tensor([0.2808])\n",
      "6 0.0068 0.1299 tensor([0.3184])\n",
      "7 0.0072 0.2920 tensor([0.3800])\n",
      "8 0.0097 0.0819 tensor([0.2098])\n",
      "9 0.0079 0.2769 tensor([0.2905])\n",
      "10 0.0060 0.2445 tensor([0.3656])\n",
      "11 0.0053 0.1410 tensor([0.3945])\n",
      "12 0.0046 0.1130 tensor([0.3046])\n",
      "13 0.0044 0.2412 tensor([0.4270])\n",
      "14 0.0062 0.1464 tensor([0.3416])\n",
      "15 0.0041 0.1660 tensor([0.4456])\n",
      "16 0.0037 0.1508 tensor([0.3856])\n",
      "17 0.0038 0.2152 tensor([0.4372])\n",
      "18 0.0034 0.2085 tensor([0.4169])\n",
      "19 0.0032 0.3585 tensor([0.4926])\n",
      "20 0.0034 0.2342 tensor([0.4033])\n",
      "21 0.0032 0.2409 tensor([0.4256])\n",
      "22 0.0028 0.2147 tensor([0.4380])\n",
      "23 0.0029 0.3103 tensor([0.5178])\n",
      "24 0.0028 0.3869 tensor([0.5155])\n",
      "25 0.0028 0.2823 tensor([0.4944])\n",
      "26 0.0026 0.3302 tensor([0.4830])\n",
      "27 0.0025 0.3755 tensor([0.4940])\n",
      "28 0.0024 0.3755 tensor([0.4757])\n",
      "29 0.0026 0.4255 tensor([0.5037])\n",
      "\n",
      ">>>>>>>>>>>> Iter 6\n"
     ]
    },
    {
     "data": {
      "application/vnd.jupyter.widget-view+json": {
       "model_id": "7bd43470200642959f34b693d5968f57",
       "version_major": 2,
       "version_minor": 0
      },
      "text/plain": [
       "Epoch:   0%|          | 0/30 [00:00<?, ?it/s]"
      ]
     },
     "metadata": {},
     "output_type": "display_data"
    },
    {
     "name": "stdout",
     "output_type": "stream",
     "text": [
      "0 0.1495 0.1456 tensor([0.0180])\n",
      "1 0.0431 0.2839 tensor([0.1871])\n",
      "2 0.0147 0.1432 tensor([0.2421])\n",
      "3 0.0125 0.2884 tensor([0.4327])\n",
      "4 0.0189 6.0143 tensor([0.0028])\n",
      "5 0.0515 0.2270 tensor([0.0978])\n",
      "6 0.0187 0.0621 tensor([0.2892])\n",
      "7 0.0101 0.0281 tensor([0.2572])\n",
      "8 0.0087 0.0569 tensor([0.3552])\n",
      "9 0.0084 0.0875 tensor([0.3418])\n",
      "10 0.0067 0.1263 tensor([0.3918])\n",
      "11 0.0056 0.0497 tensor([0.2040])\n",
      "12 0.0051 0.1055 tensor([0.4203])\n",
      "13 0.0042 0.0927 tensor([0.4528])\n",
      "14 0.0039 0.1458 tensor([0.5328])\n",
      "15 0.0045 0.1625 tensor([0.4703])\n",
      "16 0.0039 0.1381 tensor([0.5143])\n",
      "17 0.0040 0.1557 tensor([0.4174])\n",
      "18 0.0036 0.1382 tensor([0.4049])\n",
      "19 0.0034 0.1256 tensor([0.5213])\n",
      "20 0.0031 0.1711 tensor([0.5703])\n",
      "21 0.0030 0.1834 tensor([0.5862])\n",
      "22 0.0029 0.1422 tensor([0.5773])\n",
      "23 0.0031 0.1372 tensor([0.5034])\n",
      "24 0.0027 0.1841 tensor([0.5497])\n",
      "25 0.0026 0.1362 tensor([0.5379])\n",
      "26 0.0025 0.1559 tensor([0.5275])\n",
      "27 0.0025 0.2505 tensor([0.5815])\n",
      "28 0.0024 0.2239 tensor([0.5693])\n",
      "29 0.0023 0.2471 tensor([0.5871])\n",
      "\n",
      ">>>>>>>>>>>> Iter 7\n"
     ]
    },
    {
     "data": {
      "application/vnd.jupyter.widget-view+json": {
       "model_id": "7fe9aeabeb5b4c0b8131e1ba2bc2904a",
       "version_major": 2,
       "version_minor": 0
      },
      "text/plain": [
       "Epoch:   0%|          | 0/30 [00:00<?, ?it/s]"
      ]
     },
     "metadata": {},
     "output_type": "display_data"
    },
    {
     "name": "stdout",
     "output_type": "stream",
     "text": [
      "0 0.1606 0.0810 tensor([0.0443])\n",
      "1 0.0284 0.1458 tensor([0.2030])\n",
      "2 0.0188 0.2733 tensor([0.3417])\n",
      "3 0.0095 0.2998 tensor([0.0291])\n",
      "4 0.0106 0.2782 tensor([0.3776])\n",
      "5 0.0057 0.3300 tensor([0.4260])\n",
      "6 0.0053 0.3601 tensor([0.4158])\n",
      "7 0.0043 0.3525 tensor([0.4504])\n",
      "8 0.0049 0.1521 tensor([0.3459])\n",
      "9 0.0041 0.5079 tensor([0.4671])\n",
      "10 0.0036 0.2957 tensor([0.4137])\n",
      "11 0.0034 0.6182 tensor([0.4775])\n",
      "12 0.0031 0.6310 tensor([0.4735])\n",
      "13 0.0035 0.6776 tensor([0.4630])\n",
      "14 0.0029 0.6520 tensor([0.4961])\n",
      "15 0.0027 0.3855 tensor([0.4768])\n",
      "16 0.0026 0.7256 tensor([0.5117])\n",
      "17 0.0024 0.6518 tensor([0.5029])\n",
      "18 0.0023 0.7386 tensor([0.5070])\n",
      "19 0.0025 0.5225 tensor([0.4928])\n",
      "20 0.0023 0.7149 tensor([0.4927])\n",
      "21 0.0022 0.7670 tensor([0.5097])\n",
      "22 0.0021 0.7692 tensor([0.5145])\n",
      "23 0.0021 0.6943 tensor([0.5122])\n",
      "24 0.0021 0.7594 tensor([0.5069])\n",
      "25 0.0023 0.6402 tensor([0.5023])\n",
      "26 0.0020 0.8671 tensor([0.5044])\n",
      "27 0.0018 0.7340 tensor([0.5164])\n",
      "28 0.0022 0.7211 tensor([0.5361])\n",
      "29 0.0019 0.6843 tensor([0.5338])\n",
      "\n",
      ">>>>>>>>>>>> Iter 8\n"
     ]
    },
    {
     "data": {
      "application/vnd.jupyter.widget-view+json": {
       "model_id": "6bfba6e1097f4a49bf832ce2570b9311",
       "version_major": 2,
       "version_minor": 0
      },
      "text/plain": [
       "Epoch:   0%|          | 0/30 [00:00<?, ?it/s]"
      ]
     },
     "metadata": {},
     "output_type": "display_data"
    },
    {
     "name": "stdout",
     "output_type": "stream",
     "text": [
      "0 0.1794 0.0822 tensor([0.0618])\n",
      "1 0.0672 0.0844 tensor([0.0408])\n",
      "2 0.0341 0.0859 tensor([0.1254])\n",
      "3 0.0167 0.2901 tensor([0.2183])\n",
      "4 0.0106 0.3729 tensor([0.1873])\n",
      "5 0.0078 0.4210 tensor([0.2930])\n",
      "6 0.0065 0.2550 tensor([0.2824])\n",
      "7 0.0053 0.6577 tensor([0.3247])\n",
      "8 0.0045 0.3382 tensor([0.3375])\n",
      "9 0.0046 0.8443 tensor([0.3088])\n",
      "10 0.0041 0.6376 tensor([0.3326])\n",
      "11 0.0037 0.8353 tensor([0.3111])\n",
      "12 0.0034 0.9003 tensor([0.3375])\n",
      "13 0.0033 0.5608 tensor([0.3278])\n",
      "14 0.0030 0.7179 tensor([0.3691])\n",
      "15 0.0031 0.8090 tensor([0.3777])\n",
      "16 0.0028 0.5004 tensor([0.3334])\n",
      "17 0.0028 1.0730 tensor([0.3610])\n",
      "18 0.0027 1.0672 tensor([0.3506])\n",
      "19 0.0027 0.8493 tensor([0.3565])\n",
      "20 0.0024 0.4560 tensor([0.3059])\n",
      "21 0.0027 0.7683 tensor([0.4012])\n",
      "22 0.0025 0.8096 tensor([0.3793])\n",
      "23 0.0022 1.2691 tensor([0.3515])\n",
      "24 0.0023 1.2566 tensor([0.3704])\n",
      "25 0.0022 1.0252 tensor([0.3818])\n",
      "26 0.0021 1.1999 tensor([0.3624])\n",
      "27 0.0020 1.3967 tensor([0.3586])\n",
      "28 0.0022 1.1502 tensor([0.3648])\n",
      "29 0.0021 0.7052 tensor([0.4045])\n",
      "\n",
      ">>>>>>>>>>>> Iter 9\n"
     ]
    },
    {
     "data": {
      "application/vnd.jupyter.widget-view+json": {
       "model_id": "55c7d47fd26a406faa879b0f5d137f48",
       "version_major": 2,
       "version_minor": 0
      },
      "text/plain": [
       "Epoch:   0%|          | 0/30 [00:00<?, ?it/s]"
      ]
     },
     "metadata": {},
     "output_type": "display_data"
    },
    {
     "name": "stdout",
     "output_type": "stream",
     "text": [
      "0 0.2554 0.1258 tensor([0.0367])\n",
      "1 0.0280 0.0633 tensor([0.1762])\n",
      "2 0.0119 0.0838 tensor([0.1499])\n",
      "3 0.0073 0.1754 tensor([0.3337])\n",
      "4 0.0059 0.1678 tensor([0.3370])\n",
      "5 0.0049 0.2482 tensor([0.3903])\n",
      "6 0.0053 0.1894 tensor([0.3112])\n",
      "7 0.0043 0.1980 tensor([0.3741])\n",
      "8 0.0054 0.1261 tensor([0.3195])\n",
      "9 0.0049 0.2779 tensor([0.4366])\n",
      "10 0.0033 0.2323 tensor([0.4338])\n",
      "11 0.0030 0.2441 tensor([0.5050])\n",
      "12 0.0028 0.2354 tensor([0.4853])\n",
      "13 0.0027 0.1960 tensor([0.3966])\n",
      "14 0.0025 0.2905 tensor([0.5087])\n",
      "15 0.0024 0.2212 tensor([0.4538])\n",
      "16 0.0024 0.2778 tensor([0.5047])\n",
      "17 0.0025 0.2971 tensor([0.5027])\n",
      "18 0.0023 0.3434 tensor([0.4996])\n",
      "19 0.0022 0.3454 tensor([0.4820])\n",
      "20 0.0021 0.2983 tensor([0.5111])\n",
      "21 0.0022 0.2656 tensor([0.5018])\n",
      "22 0.0020 0.3390 tensor([0.5132])\n",
      "23 0.0019 0.3138 tensor([0.5060])\n",
      "24 0.0019 0.3455 tensor([0.5164])\n",
      "25 0.0019 0.3905 tensor([0.5284])\n",
      "26 0.0019 0.3573 tensor([0.5253])\n",
      "27 0.0018 0.3719 tensor([0.5126])\n",
      "28 0.0017 0.3298 tensor([0.5132])\n",
      "29 0.0017 0.3247 tensor([0.5230])\n",
      "\n"
     ]
    }
   ],
   "source": [
    "for n_iter in range(10):\n",
    "    print(f'>>>>>>>>>>>> Iter {n_iter}')\n",
    "    del model\n",
    "    del optimizer\n",
    "    gc.collect()\n",
    "    ds_train = PartialDs(ds_full, labeled_idxs)\n",
    "    dl_train = torch.utils.data.DataLoader(ds_train, batch_size=batch_size, shuffle=True, drop_last=True)\n",
    "\n",
    "    model = create_model().to(device)\n",
    "    optimizer = create_optimizer(model)\n",
    "\n",
    "    num_epochs = 30\n",
    "    for epoch in tqdm(range(num_epochs), desc='Epoch'):\n",
    "        trn_loss = utils.train(dl_train, loss_fn, model, optimizer)\n",
    "        val_loss, val_IoUs = segmentation.evaluate(dl_test, loss_fn, model)\n",
    "        print(epoch, f'{trn_loss:.4f}', f'{val_loss:.4f}', val_IoUs)\n",
    "    print()\n",
    "\n",
    "    ds_unlabeled = PartialDs(ds_full, unlabeled_idxs)\n",
    "    dl_unlabeled = torch.utils.data.DataLoader(ds_unlabeled, batch_size=batch_size, shuffle=False, drop_last=False)\n",
    "    model.eval()    \n",
    "    entropies = []\n",
    "    for inp, tgt in dl_unlabeled:\n",
    "        with torch.no_grad():\n",
    "            out = model(inp.to(device))\n",
    "        entropies.append(compute_entropies(out))\n",
    "    entropies = torch.cat(entropies)\n",
    "    order = entropies.sort(descending=True).indices\n",
    "    labeled_idxs += torch.tensor(unlabeled_idxs)[order[:N_step]].tolist()\n",
    "    unlabeled_idxs = torch.tensor(unlabeled_idxs)[order[N_step:]].tolist()"
   ]
  },
  {
   "cell_type": "code",
   "execution_count": null,
   "id": "0f9fe763-8e8a-4613-a8ff-456b63c40fb4",
   "metadata": {},
   "outputs": [],
   "source": []
  }
 ],
 "metadata": {
  "kernelspec": {
   "display_name": "stenoses",
   "language": "python",
   "name": "stenoses"
  },
  "language_info": {
   "codemirror_mode": {
    "name": "ipython",
    "version": 3
   },
   "file_extension": ".py",
   "mimetype": "text/x-python",
   "name": "python",
   "nbconvert_exporter": "python",
   "pygments_lexer": "ipython3",
   "version": "3.10.15"
  }
 },
 "nbformat": 4,
 "nbformat_minor": 5
}
