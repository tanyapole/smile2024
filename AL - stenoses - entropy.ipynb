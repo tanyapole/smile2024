{
 "cells": [
  {
   "cell_type": "code",
   "execution_count": 1,
   "id": "39058e05-8f10-4cd8-8658-ae33981f9209",
   "metadata": {},
   "outputs": [],
   "source": [
    "import gc\n",
    "import numpy as np\n",
    "import torch\n",
    "import torch.nn as nn\n",
    "import segmentation_models_pytorch as smp\n",
    "import utils, segmentation, AL, presentation\n",
    "from tqdm.auto import tqdm"
   ]
  },
  {
   "cell_type": "code",
   "execution_count": 2,
   "id": "95b179fd-bf2d-4eb6-b32f-dbedec5565cd",
   "metadata": {},
   "outputs": [
    {
     "name": "stdout",
     "output_type": "stream",
     "text": [
      "cuda:0\n"
     ]
    }
   ],
   "source": [
    "device = torch.device('cuda:0') if torch.cuda.is_available() else torch.device('cpu')\n",
    "# device = torch.device('cpu')\n",
    "print(device)"
   ]
  },
  {
   "cell_type": "code",
   "execution_count": 3,
   "id": "f9eaa47f-929a-43d5-b4af-ed66b2fd65dc",
   "metadata": {},
   "outputs": [],
   "source": [
    "ds_full = segmentation.SegmentationDataset('./cut_stenoses_data/train/', 2)\n",
    "ds_test = segmentation.SegmentationDataset('./cut_stenoses_data/test/', 2)\n",
    "\n",
    "batch_size = 8\n",
    "dl_full = torch.utils.data.DataLoader(ds_full, batch_size=batch_size, shuffle=False, drop_last=False)\n",
    "dl_test = torch.utils.data.DataLoader(ds_test, batch_size=batch_size, shuffle=False, drop_last=False)"
   ]
  },
  {
   "cell_type": "code",
   "execution_count": 4,
   "id": "30247f1b-e743-4580-b01f-c539f36b0de5",
   "metadata": {},
   "outputs": [],
   "source": [
    "# w = 0.\n",
    "# for imgs, masks in dl_full:\n",
    "#     w += masks.sum() / (masks.numel() * len(dl_full))\n",
    "# loss_fn = nn.CrossEntropyLoss(weight=torch.Tensor([1 / (1-w), 1/ w])).to(device)\n",
    "loss_fn = nn.CrossEntropyLoss()"
   ]
  },
  {
   "cell_type": "code",
   "execution_count": 5,
   "id": "a86ad94b-09ac-4471-9fc0-cedf14ad655c",
   "metadata": {},
   "outputs": [],
   "source": [
    "model = presentation.create_model().to(device)\n",
    "optimizer = presentation.create_optimizer(model)"
   ]
  },
  {
   "cell_type": "code",
   "execution_count": 6,
   "id": "b118463a-6223-4a06-852e-85f744554f14",
   "metadata": {},
   "outputs": [
    {
     "data": {
      "text/plain": [
       "(598, 59)"
      ]
     },
     "execution_count": 6,
     "metadata": {},
     "output_type": "execute_result"
    }
   ],
   "source": [
    "N = len(ds_full)\n",
    "N_step = int(N*0.1)\n",
    "N, N_step"
   ]
  },
  {
   "cell_type": "code",
   "execution_count": 7,
   "id": "c4553031-2dc7-404c-9570-833cf8467a68",
   "metadata": {},
   "outputs": [],
   "source": [
    "idxs = list(range(N))\n",
    "np.random.seed(0)\n",
    "np.random.shuffle(idxs)\n",
    "labeled_idxs, unlabeled_idxs = idxs[:N_step], idxs[N_step:]"
   ]
  },
  {
   "cell_type": "code",
   "execution_count": 8,
   "id": "88c04902-bd67-4ff2-b738-eab385eeef07",
   "metadata": {},
   "outputs": [
    {
     "name": "stdout",
     "output_type": "stream",
     "text": [
      ">>>>>>>>>>>> Iter 0\n"
     ]
    },
    {
     "data": {
      "application/vnd.jupyter.widget-view+json": {
       "model_id": "dc3f6b6cdca94ea88f86d9a1e1d551e2",
       "version_major": 2,
       "version_minor": 0
      },
      "text/plain": [
       "Epoch:   0%|          | 0/30 [00:00<?, ?it/s]"
      ]
     },
     "metadata": {},
     "output_type": "display_data"
    },
    {
     "name": "stdout",
     "output_type": "stream",
     "text": [
      "0 0.2718 0.1588 tensor([0.])\n",
      "1 0.0182 0.0289 tensor([0.])\n",
      "2 0.0138 0.0277 tensor([0.])\n",
      "3 0.0114 0.0255 tensor([0.])\n",
      "4 0.0099 0.0271 tensor([0.])\n",
      "5 0.0089 0.0267 tensor([0.])\n",
      "6 0.0081 0.0269 tensor([0.])\n",
      "7 0.0080 0.0278 tensor([0.])\n",
      "8 0.0074 0.0272 tensor([0.])\n",
      "9 0.0074 0.0273 tensor([0.])\n",
      "10 0.0072 0.0286 tensor([0.])\n",
      "11 0.0071 0.0257 tensor([0.])\n",
      "12 0.0070 0.0288 tensor([0.])\n",
      "13 0.0070 0.0296 tensor([0.])\n",
      "14 0.0068 0.0281 tensor([0.])\n",
      "15 0.0068 0.0261 tensor([0.])\n",
      "16 0.0067 0.0255 tensor([0.])\n",
      "17 0.0064 0.0267 tensor([0.])\n",
      "18 0.0064 0.0291 tensor([0.])\n",
      "19 0.0063 0.0266 tensor([0.])\n",
      "20 0.0062 0.0271 tensor([0.])\n",
      "21 0.0060 0.0283 tensor([0.])\n",
      "22 0.0061 0.0300 tensor([0.])\n",
      "23 0.0060 0.0297 tensor([0.])\n",
      "24 0.0058 0.0268 tensor([0.])\n",
      "25 0.0058 0.0275 tensor([0.])\n",
      "26 0.0057 0.0269 tensor([0.])\n",
      "27 0.0056 0.0294 tensor([0.])\n",
      "28 0.0056 0.0289 tensor([0.])\n",
      "29 0.0056 0.0285 tensor([0.])\n",
      "\n",
      ">>>>>>>>>>>> Iter 1\n"
     ]
    },
    {
     "data": {
      "application/vnd.jupyter.widget-view+json": {
       "model_id": "bfe28e0604124ca7a03fe39bd7a4b5ce",
       "version_major": 2,
       "version_minor": 0
      },
      "text/plain": [
       "Epoch:   0%|          | 0/30 [00:00<?, ?it/s]"
      ]
     },
     "metadata": {},
     "output_type": "display_data"
    },
    {
     "name": "stdout",
     "output_type": "stream",
     "text": [
      "0 0.0941 0.0310 tensor([0.])\n",
      "1 0.0148 0.0203 tensor([0.])\n",
      "2 0.0103 0.0210 tensor([0.])\n",
      "3 0.0090 0.0229 tensor([0.])\n",
      "4 0.0082 0.0235 tensor([0.])\n",
      "5 0.0077 0.0231 tensor([0.])\n",
      "6 0.0075 0.0228 tensor([0.])\n",
      "7 0.0072 0.0203 tensor([0.])\n",
      "8 0.0068 0.0226 tensor([0.])\n",
      "9 0.0067 0.0232 tensor([0.])\n",
      "10 0.0065 0.0232 tensor([0.])\n",
      "11 0.0062 0.0241 tensor([0.])\n",
      "12 0.0061 0.0180 tensor([0.])\n",
      "13 0.0059 0.0242 tensor([0.])\n",
      "14 0.0058 0.0244 tensor([0.])\n",
      "15 0.0057 0.0235 tensor([0.])\n",
      "16 0.0055 0.0252 tensor([0.1380])\n",
      "17 0.0054 0.0212 tensor([0.1814])\n",
      "18 0.0052 0.0240 tensor([0.1838])\n",
      "19 0.0052 0.0242 tensor([0.2184])\n",
      "20 0.0050 0.0279 tensor([0.1946])\n",
      "21 0.0049 0.0276 tensor([0.2058])\n",
      "22 0.0050 0.0196 tensor([0.3214])\n",
      "23 0.0048 0.0288 tensor([0.1957])\n",
      "24 0.0048 0.0270 tensor([0.2479])\n",
      "25 0.0046 0.0292 tensor([0.2335])\n",
      "26 0.0045 0.0282 tensor([0.2466])\n",
      "27 0.0044 0.0262 tensor([0.2773])\n",
      "28 0.0043 0.0281 tensor([0.2538])\n",
      "29 0.0043 0.0292 tensor([0.2630])\n",
      "\n",
      ">>>>>>>>>>>> Iter 2\n"
     ]
    },
    {
     "data": {
      "application/vnd.jupyter.widget-view+json": {
       "model_id": "cb2c6e040be04e6f986c8358ef276542",
       "version_major": 2,
       "version_minor": 0
      },
      "text/plain": [
       "Epoch:   0%|          | 0/30 [00:00<?, ?it/s]"
      ]
     },
     "metadata": {},
     "output_type": "display_data"
    },
    {
     "name": "stdout",
     "output_type": "stream",
     "text": [
      "0 0.0391 0.0293 tensor([2.2148e-05])\n",
      "1 0.0125 0.0257 tensor([0.0002])\n",
      "2 0.0091 0.0271 tensor([8.0074e-05])\n",
      "3 0.0079 0.0281 tensor([0.0002])\n",
      "4 0.0072 0.0274 tensor([0.0004])\n",
      "5 0.0067 0.0297 tensor([0.0014])\n",
      "6 0.0064 0.0286 tensor([0.0050])\n",
      "7 0.0061 0.0292 tensor([0.0182])\n",
      "8 0.0060 0.0308 tensor([0.1692])\n",
      "9 0.0057 0.0296 tensor([0.2072])\n",
      "10 0.0054 0.0313 tensor([0.2064])\n",
      "11 0.0052 0.0303 tensor([0.2629])\n",
      "12 0.0050 0.0320 tensor([0.2518])\n",
      "13 0.0048 0.0319 tensor([0.2652])\n",
      "14 0.0047 0.0315 tensor([0.2716])\n",
      "15 0.0045 0.0324 tensor([0.2769])\n",
      "16 0.0044 0.0326 tensor([0.2756])\n",
      "17 0.0043 0.0335 tensor([0.2801])\n",
      "18 0.0043 0.0337 tensor([0.2891])\n",
      "19 0.0042 0.0325 tensor([0.2946])\n",
      "20 0.0040 0.0330 tensor([0.2907])\n",
      "21 0.0039 0.0323 tensor([0.2961])\n",
      "22 0.0038 0.0329 tensor([0.3026])\n",
      "23 0.0037 0.0332 tensor([0.3036])\n",
      "24 0.0036 0.0330 tensor([0.3051])\n",
      "25 0.0035 0.0325 tensor([0.3033])\n",
      "26 0.0035 0.0336 tensor([0.3061])\n",
      "27 0.0034 0.0339 tensor([0.3103])\n",
      "28 0.0033 0.0335 tensor([0.3118])\n",
      "29 0.0033 0.0328 tensor([0.3079])\n",
      "\n",
      ">>>>>>>>>>>> Iter 3\n"
     ]
    },
    {
     "data": {
      "application/vnd.jupyter.widget-view+json": {
       "model_id": "7b77fa92bb8b4762891c9cc0294f0fca",
       "version_major": 2,
       "version_minor": 0
      },
      "text/plain": [
       "Epoch:   0%|          | 0/30 [00:00<?, ?it/s]"
      ]
     },
     "metadata": {},
     "output_type": "display_data"
    },
    {
     "name": "stdout",
     "output_type": "stream",
     "text": [
      "0 0.0782 0.0217 tensor([0.])\n",
      "1 0.0102 0.0243 tensor([0.])\n",
      "2 0.0088 0.0245 tensor([0.])\n",
      "3 0.0081 0.0241 tensor([0.])\n",
      "4 0.0075 0.0268 tensor([0.])\n",
      "5 0.0071 0.0282 tensor([0.])\n",
      "6 0.0069 0.0245 tensor([0.])\n",
      "7 0.0064 0.0267 tensor([0.])\n",
      "8 0.0061 0.0254 tensor([0.])\n",
      "9 0.0058 0.0242 tensor([0.])\n",
      "10 0.0056 0.0280 tensor([0.2072])\n",
      "11 0.0054 0.0176 tensor([0.3240])\n",
      "12 0.0052 0.0273 tensor([0.2683])\n",
      "13 0.0050 0.0269 tensor([0.2695])\n",
      "14 0.0047 0.0255 tensor([0.2831])\n",
      "15 0.0046 0.0274 tensor([0.2830])\n",
      "16 0.0044 0.0290 tensor([0.2763])\n",
      "17 0.0043 0.0261 tensor([0.2950])\n",
      "18 0.0041 0.0252 tensor([0.3121])\n",
      "19 0.0040 0.0259 tensor([0.3081])\n",
      "20 0.0039 0.0259 tensor([0.3090])\n",
      "21 0.0037 0.0278 tensor([0.3073])\n",
      "22 0.0036 0.0266 tensor([0.3143])\n",
      "23 0.0035 0.0283 tensor([0.3065])\n",
      "24 0.0034 0.0270 tensor([0.3134])\n",
      "25 0.0034 0.0233 tensor([0.3389])\n",
      "26 0.0033 0.0273 tensor([0.3177])\n",
      "27 0.0033 0.0260 tensor([0.3318])\n",
      "28 0.0031 0.0257 tensor([0.3302])\n",
      "29 0.0030 0.0251 tensor([0.3335])\n",
      "\n",
      ">>>>>>>>>>>> Iter 4\n"
     ]
    },
    {
     "data": {
      "application/vnd.jupyter.widget-view+json": {
       "model_id": "40e63de5df1b4063942150543dee2119",
       "version_major": 2,
       "version_minor": 0
      },
      "text/plain": [
       "Epoch:   0%|          | 0/30 [00:00<?, ?it/s]"
      ]
     },
     "metadata": {},
     "output_type": "display_data"
    },
    {
     "name": "stdout",
     "output_type": "stream",
     "text": [
      "0 0.0396 0.0253 tensor([0.])\n",
      "1 0.0101 0.0261 tensor([0.])\n",
      "2 0.0081 0.0280 tensor([0.])\n",
      "3 0.0073 0.0315 tensor([0.])\n",
      "4 0.0067 0.0301 tensor([0.])\n",
      "5 0.0063 0.0298 tensor([0.])\n",
      "6 0.0059 0.0287 tensor([0.0577])\n",
      "7 0.0056 0.0258 tensor([0.1103])\n",
      "8 0.0052 0.0307 tensor([0.0969])\n",
      "9 0.0050 0.0294 tensor([0.1370])\n",
      "10 0.0049 0.0313 tensor([0.1422])\n",
      "11 0.0046 0.0311 tensor([0.1547])\n",
      "12 0.0044 0.0301 tensor([0.1892])\n",
      "13 0.0042 0.0298 tensor([0.1890])\n",
      "14 0.0040 0.0323 tensor([0.1654])\n",
      "15 0.0040 0.0313 tensor([0.1784])\n",
      "16 0.0038 0.0314 tensor([0.1910])\n",
      "17 0.0037 0.0299 tensor([0.2326])\n",
      "18 0.0035 0.0327 tensor([0.1914])\n",
      "19 0.0034 0.0300 tensor([0.2470])\n",
      "20 0.0034 0.0317 tensor([0.2160])\n",
      "21 0.0032 0.0294 tensor([0.2523])\n",
      "22 0.0031 0.0298 tensor([0.2545])\n",
      "23 0.0030 0.0309 tensor([0.2466])\n",
      "24 0.0030 0.0295 tensor([0.2851])\n",
      "25 0.0028 0.0331 tensor([0.2419])\n",
      "26 0.0035 0.0277 tensor([0.3030])\n",
      "27 0.0028 0.0285 tensor([0.3025])\n",
      "28 0.0027 0.0280 tensor([0.3124])\n",
      "29 0.0026 0.0299 tensor([0.2905])\n",
      "\n",
      ">>>>>>>>>>>> Iter 5\n"
     ]
    },
    {
     "data": {
      "application/vnd.jupyter.widget-view+json": {
       "model_id": "3b83ead489ed46dfb95f21f28e681241",
       "version_major": 2,
       "version_minor": 0
      },
      "text/plain": [
       "Epoch:   0%|          | 0/30 [00:00<?, ?it/s]"
      ]
     },
     "metadata": {},
     "output_type": "display_data"
    },
    {
     "name": "stdout",
     "output_type": "stream",
     "text": [
      "0 0.0440 0.0229 tensor([0.])\n",
      "1 0.0086 0.0212 tensor([0.])\n",
      "2 0.0074 0.0216 tensor([0.])\n",
      "3 0.0067 0.0224 tensor([0.])\n",
      "4 0.0062 0.0213 tensor([0.])\n",
      "5 0.0057 0.0237 tensor([0.])\n",
      "6 0.0054 0.0204 tensor([0.2712])\n",
      "7 0.0051 0.0232 tensor([0.2746])\n",
      "8 0.0048 0.0231 tensor([0.3003])\n",
      "9 0.0046 0.0192 tensor([0.3702])\n",
      "10 0.0043 0.0217 tensor([0.3546])\n",
      "11 0.0041 0.0228 tensor([0.3437])\n",
      "12 0.0039 0.0196 tensor([0.3873])\n",
      "13 0.0038 0.0179 tensor([0.4217])\n",
      "14 0.0036 0.0219 tensor([0.3682])\n",
      "15 0.0034 0.0213 tensor([0.3831])\n",
      "16 0.0033 0.0203 tensor([0.4057])\n",
      "17 0.0031 0.0212 tensor([0.3979])\n",
      "18 0.0031 0.0195 tensor([0.4213])\n",
      "19 0.0030 0.0196 tensor([0.4254])\n",
      "20 0.0029 0.0207 tensor([0.4146])\n",
      "21 0.0027 0.0218 tensor([0.4099])\n",
      "22 0.0027 0.0215 tensor([0.4178])\n",
      "23 0.0026 0.0221 tensor([0.4199])\n",
      "24 0.0026 0.0237 tensor([0.3987])\n",
      "25 0.0025 0.0192 tensor([0.4480])\n",
      "26 0.0024 0.0199 tensor([0.4456])\n",
      "27 0.0023 0.0220 tensor([0.4266])\n",
      "28 0.0023 0.0215 tensor([0.4327])\n",
      "29 0.0022 0.0212 tensor([0.4475])\n",
      "\n",
      ">>>>>>>>>>>> Iter 6\n"
     ]
    },
    {
     "data": {
      "application/vnd.jupyter.widget-view+json": {
       "model_id": "e1e9be53dd384232a3b384e7b4a60033",
       "version_major": 2,
       "version_minor": 0
      },
      "text/plain": [
       "Epoch:   0%|          | 0/30 [00:00<?, ?it/s]"
      ]
     },
     "metadata": {},
     "output_type": "display_data"
    },
    {
     "name": "stdout",
     "output_type": "stream",
     "text": [
      "0 0.0354 0.0217 tensor([0.])\n",
      "1 0.0083 0.0226 tensor([0.])\n",
      "2 0.0071 0.0249 tensor([0.])\n",
      "3 0.0065 0.0232 tensor([0.])\n",
      "4 0.0059 0.0234 tensor([0.])\n",
      "5 0.0054 0.0242 tensor([0.2724])\n",
      "6 0.0051 0.0251 tensor([0.2964])\n",
      "7 0.0048 0.0246 tensor([0.3183])\n",
      "8 0.0046 0.0240 tensor([0.3212])\n",
      "9 0.0043 0.0261 tensor([0.3242])\n",
      "10 0.0041 0.0252 tensor([0.3326])\n",
      "11 0.0039 0.0224 tensor([0.3560])\n",
      "12 0.0037 0.0204 tensor([0.3773])\n",
      "13 0.0035 0.0249 tensor([0.3451])\n",
      "14 0.0034 0.0247 tensor([0.3516])\n",
      "15 0.0032 0.0238 tensor([0.3597])\n",
      "16 0.0031 0.0253 tensor([0.3548])\n",
      "17 0.0030 0.0229 tensor([0.3773])\n",
      "18 0.0029 0.0218 tensor([0.3788])\n",
      "19 0.0028 0.0248 tensor([0.3698])\n",
      "20 0.0027 0.0242 tensor([0.3758])\n",
      "21 0.0026 0.0251 tensor([0.3700])\n",
      "22 0.0025 0.0251 tensor([0.3761])\n",
      "23 0.0024 0.0235 tensor([0.3817])\n",
      "24 0.0024 0.0254 tensor([0.3817])\n",
      "25 0.0023 0.0281 tensor([0.3555])\n",
      "26 0.0022 0.0235 tensor([0.3901])\n",
      "27 0.0022 0.0237 tensor([0.3973])\n",
      "28 0.0021 0.0239 tensor([0.3980])\n",
      "29 0.0021 0.0247 tensor([0.3950])\n",
      "\n",
      ">>>>>>>>>>>> Iter 7\n"
     ]
    },
    {
     "data": {
      "application/vnd.jupyter.widget-view+json": {
       "model_id": "9de90132d23f40c5986e3b16c1266e2d",
       "version_major": 2,
       "version_minor": 0
      },
      "text/plain": [
       "Epoch:   0%|          | 0/30 [00:00<?, ?it/s]"
      ]
     },
     "metadata": {},
     "output_type": "display_data"
    },
    {
     "name": "stdout",
     "output_type": "stream",
     "text": [
      "0 0.0304 0.0206 tensor([0.])\n",
      "1 0.0078 0.0247 tensor([0.])\n",
      "2 0.0067 0.0230 tensor([0.])\n",
      "3 0.0059 0.0192 tensor([0.])\n",
      "4 0.0054 0.0218 tensor([0.2243])\n",
      "5 0.0050 0.0225 tensor([0.2773])\n",
      "6 0.0046 0.0230 tensor([0.2957])\n",
      "7 0.0043 0.0221 tensor([0.3247])\n",
      "8 0.0041 0.0218 tensor([0.3336])\n",
      "9 0.0038 0.0208 tensor([0.3657])\n",
      "10 0.0037 0.0207 tensor([0.3869])\n",
      "11 0.0034 0.0190 tensor([0.4153])\n",
      "12 0.0032 0.0209 tensor([0.3903])\n",
      "13 0.0031 0.0173 tensor([0.4407])\n",
      "14 0.0030 0.0206 tensor([0.4049])\n",
      "15 0.0028 0.0199 tensor([0.4159])\n",
      "16 0.0027 0.0212 tensor([0.4059])\n",
      "17 0.0026 0.0196 tensor([0.4295])\n",
      "18 0.0025 0.0197 tensor([0.4278])\n",
      "19 0.0024 0.0186 tensor([0.4482])\n",
      "20 0.0023 0.0196 tensor([0.4394])\n",
      "21 0.0023 0.0163 tensor([0.4848])\n",
      "22 0.0022 0.0192 tensor([0.4543])\n",
      "23 0.0021 0.0196 tensor([0.4501])\n",
      "24 0.0021 0.0181 tensor([0.4679])\n",
      "25 0.0020 0.0183 tensor([0.4744])\n",
      "26 0.0020 0.0182 tensor([0.4788])\n",
      "27 0.0019 0.0189 tensor([0.4687])\n",
      "28 0.0019 0.0188 tensor([0.4782])\n",
      "29 0.0018 0.0191 tensor([0.4738])\n",
      "\n",
      ">>>>>>>>>>>> Iter 8\n"
     ]
    },
    {
     "data": {
      "application/vnd.jupyter.widget-view+json": {
       "model_id": "9a8862b14347455f924431bcabc458dd",
       "version_major": 2,
       "version_minor": 0
      },
      "text/plain": [
       "Epoch:   0%|          | 0/30 [00:00<?, ?it/s]"
      ]
     },
     "metadata": {},
     "output_type": "display_data"
    },
    {
     "name": "stdout",
     "output_type": "stream",
     "text": [
      "0 0.0304 0.0271 tensor([0.])\n",
      "1 0.0074 0.0272 tensor([0.])\n",
      "2 0.0064 0.0246 tensor([0.])\n",
      "3 0.0057 0.0253 tensor([0.])\n",
      "4 0.0052 0.0272 tensor([0.2015])\n",
      "5 0.0048 0.0273 tensor([0.2556])\n",
      "6 0.0044 0.0247 tensor([0.3117])\n",
      "7 0.0041 0.0259 tensor([0.3157])\n",
      "8 0.0039 0.0242 tensor([0.3398])\n",
      "9 0.0036 0.0252 tensor([0.3548])\n",
      "10 0.0034 0.0246 tensor([0.3722])\n",
      "11 0.0033 0.0224 tensor([0.4061])\n",
      "12 0.0031 0.0279 tensor([0.3506])\n",
      "13 0.0030 0.0237 tensor([0.4026])\n",
      "14 0.0028 0.0247 tensor([0.3965])\n",
      "15 0.0027 0.0239 tensor([0.4138])\n",
      "16 0.0025 0.0240 tensor([0.4092])\n",
      "17 0.0025 0.0233 tensor([0.4228])\n",
      "18 0.0024 0.0267 tensor([0.3901])\n",
      "19 0.0024 0.0231 tensor([0.4249])\n",
      "20 0.0024 0.0242 tensor([0.4160])\n",
      "21 0.0022 0.0242 tensor([0.4171])\n",
      "22 0.0021 0.0246 tensor([0.4202])\n",
      "23 0.0020 0.0227 tensor([0.4396])\n",
      "24 0.0020 0.0230 tensor([0.4421])\n",
      "25 0.0019 0.0231 tensor([0.4449])\n",
      "26 0.0019 0.0237 tensor([0.4312])\n",
      "27 0.0018 0.0230 tensor([0.4477])\n",
      "28 0.0018 0.0238 tensor([0.4376])\n",
      "29 0.0018 0.0225 tensor([0.4473])\n",
      "\n",
      ">>>>>>>>>>>> Iter 9\n"
     ]
    },
    {
     "data": {
      "application/vnd.jupyter.widget-view+json": {
       "model_id": "551fb8442f82434aabf1fa409214ad12",
       "version_major": 2,
       "version_minor": 0
      },
      "text/plain": [
       "Epoch:   0%|          | 0/30 [00:00<?, ?it/s]"
      ]
     },
     "metadata": {},
     "output_type": "display_data"
    },
    {
     "name": "stdout",
     "output_type": "stream",
     "text": [
      "0 0.0202 0.0174 tensor([8.2320e-05])\n",
      "1 0.0069 0.0202 tensor([8.0599e-05])\n",
      "2 0.0058 0.0237 tensor([0.0027])\n",
      "3 0.0052 0.0205 tensor([0.2344])\n",
      "4 0.0046 0.0205 tensor([0.2941])\n",
      "5 0.0043 0.0216 tensor([0.3072])\n",
      "6 0.0040 0.0212 tensor([0.3334])\n",
      "7 0.0037 0.0210 tensor([0.3530])\n",
      "8 0.0035 0.0210 tensor([0.3717])\n",
      "9 0.0033 0.0229 tensor([0.3516])\n",
      "10 0.0031 0.0209 tensor([0.3908])\n",
      "11 0.0029 0.0205 tensor([0.4163])\n",
      "12 0.0028 0.0187 tensor([0.4497])\n",
      "13 0.0026 0.0202 tensor([0.4277])\n",
      "14 0.0025 0.0200 tensor([0.4369])\n",
      "15 0.0021 0.0189 tensor([0.4483])\n",
      "16 0.0016 0.0228 tensor([0.3996])\n",
      "17 0.0015 0.0191 tensor([0.4535])\n",
      "18 0.0013 0.0199 tensor([0.4535])\n",
      "19 0.0013 0.0190 tensor([0.4636])\n",
      "20 0.0013 0.0187 tensor([0.4698])\n",
      "21 0.0012 0.0177 tensor([0.4853])\n",
      "22 0.0011 0.0181 tensor([0.4808])\n",
      "23 0.0011 0.0180 tensor([0.4893])\n",
      "24 0.0010 0.0163 tensor([0.5125])\n",
      "25 0.0010 0.0179 tensor([0.4968])\n",
      "26 0.0010 0.0183 tensor([0.4951])\n",
      "27 0.0010 0.0159 tensor([0.5280])\n",
      "28 0.0010 0.0188 tensor([0.4912])\n",
      "29 0.0009 0.0171 tensor([0.5164])\n",
      "\n"
     ]
    }
   ],
   "source": [
    "for n_iter in range(10):\n",
    "    print(f'>>>>>>>>>>>> Iter {n_iter}')\n",
    "    del model\n",
    "    del optimizer\n",
    "    gc.collect()\n",
    "    ds_train = AL.PartialDs(ds_full, labeled_idxs)\n",
    "    dl_train = torch.utils.data.DataLoader(ds_train, batch_size=batch_size, shuffle=True, drop_last=True)\n",
    "\n",
    "    model = presentation.create_model().to(device)\n",
    "    optimizer = presentation.create_optimizer(model)\n",
    "\n",
    "    num_epochs = 30\n",
    "    for epoch in tqdm(range(num_epochs), desc='Epoch'):\n",
    "        trn_loss = utils.train(dl_train, loss_fn, model, optimizer)\n",
    "        val_loss, val_IoUs = segmentation.evaluate(dl_test, loss_fn, model)\n",
    "        print(epoch, f'{trn_loss:.4f}', f'{val_loss:.4f}', val_IoUs)\n",
    "    print()\n",
    "\n",
    "    ds_unlabeled = AL.PartialDs(ds_full, unlabeled_idxs)\n",
    "    dl_unlabeled = torch.utils.data.DataLoader(ds_unlabeled, batch_size=batch_size, shuffle=False, drop_last=False)\n",
    "    model.eval()    \n",
    "    entropies = []\n",
    "    for inp, tgt in dl_unlabeled:\n",
    "        with torch.no_grad():\n",
    "            out = model(inp.to(device))\n",
    "        entropies.append(AL.compute_entropies(out))\n",
    "    entropies = torch.cat(entropies)\n",
    "    order = entropies.sort(descending=True).indices\n",
    "    labeled_idxs += torch.tensor(unlabeled_idxs)[order[:N_step]].tolist()\n",
    "    unlabeled_idxs = torch.tensor(unlabeled_idxs)[order[N_step:]].tolist()"
   ]
  },
  {
   "cell_type": "code",
   "execution_count": null,
   "id": "0f9fe763-8e8a-4613-a8ff-456b63c40fb4",
   "metadata": {},
   "outputs": [],
   "source": []
  }
 ],
 "metadata": {
  "kernelspec": {
   "display_name": "stenoses",
   "language": "python",
   "name": "stenoses"
  },
  "language_info": {
   "codemirror_mode": {
    "name": "ipython",
    "version": 3
   },
   "file_extension": ".py",
   "mimetype": "text/x-python",
   "name": "python",
   "nbconvert_exporter": "python",
   "pygments_lexer": "ipython3",
   "version": "3.10.15"
  }
 },
 "nbformat": 4,
 "nbformat_minor": 5
}
