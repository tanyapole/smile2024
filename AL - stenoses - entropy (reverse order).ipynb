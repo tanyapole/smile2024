{
 "cells": [
  {
   "cell_type": "code",
   "execution_count": 1,
   "id": "39058e05-8f10-4cd8-8658-ae33981f9209",
   "metadata": {},
   "outputs": [],
   "source": [
    "import gc\n",
    "import numpy as np\n",
    "import torch\n",
    "import torch.nn as nn\n",
    "import segmentation_models_pytorch as smp\n",
    "import utils, segmentation, AL, presentation\n",
    "from tqdm.auto import tqdm"
   ]
  },
  {
   "cell_type": "code",
   "execution_count": 2,
   "id": "95b179fd-bf2d-4eb6-b32f-dbedec5565cd",
   "metadata": {},
   "outputs": [
    {
     "name": "stdout",
     "output_type": "stream",
     "text": [
      "cuda:1\n"
     ]
    }
   ],
   "source": [
    "device = torch.device('cuda:1') if torch.cuda.is_available() else torch.device('cpu')\n",
    "# device = torch.device('cpu')\n",
    "print(device)"
   ]
  },
  {
   "cell_type": "code",
   "execution_count": 3,
   "id": "f9eaa47f-929a-43d5-b4af-ed66b2fd65dc",
   "metadata": {},
   "outputs": [],
   "source": [
    "ds_full = segmentation.SegmentationDataset('./cut_stenoses_data/train/', 2)\n",
    "ds_test = segmentation.SegmentationDataset('./cut_stenoses_data/test/', 2)\n",
    "\n",
    "batch_size = 8\n",
    "dl_full = torch.utils.data.DataLoader(ds_full, batch_size=batch_size, shuffle=False, drop_last=False)\n",
    "dl_test = torch.utils.data.DataLoader(ds_test, batch_size=batch_size, shuffle=False, drop_last=False)"
   ]
  },
  {
   "cell_type": "code",
   "execution_count": 4,
   "id": "30247f1b-e743-4580-b01f-c539f36b0de5",
   "metadata": {},
   "outputs": [],
   "source": [
    "# w = 0.\n",
    "# for imgs, masks in dl_full:\n",
    "#     w += masks.sum() / (masks.numel() * len(dl_full))\n",
    "# loss_fn = nn.CrossEntropyLoss(weight=torch.Tensor([1 / (1-w), 1/ w])).to(device)\n",
    "loss_fn = nn.CrossEntropyLoss()"
   ]
  },
  {
   "cell_type": "code",
   "execution_count": 5,
   "id": "a86ad94b-09ac-4471-9fc0-cedf14ad655c",
   "metadata": {},
   "outputs": [],
   "source": [
    "model = presentation.create_model().to(device)\n",
    "optimizer = presentation.create_optimizer(model)"
   ]
  },
  {
   "cell_type": "code",
   "execution_count": 6,
   "id": "b118463a-6223-4a06-852e-85f744554f14",
   "metadata": {},
   "outputs": [
    {
     "data": {
      "text/plain": [
       "(598, 59)"
      ]
     },
     "execution_count": 6,
     "metadata": {},
     "output_type": "execute_result"
    }
   ],
   "source": [
    "N = len(ds_full)\n",
    "N_step = int(N*0.1)\n",
    "N, N_step"
   ]
  },
  {
   "cell_type": "code",
   "execution_count": 7,
   "id": "c4553031-2dc7-404c-9570-833cf8467a68",
   "metadata": {},
   "outputs": [],
   "source": [
    "idxs = list(range(N))\n",
    "np.random.seed(0)\n",
    "np.random.shuffle(idxs)\n",
    "labeled_idxs, unlabeled_idxs = idxs[:N_step], idxs[N_step:]"
   ]
  },
  {
   "cell_type": "code",
   "execution_count": 8,
   "id": "88c04902-bd67-4ff2-b738-eab385eeef07",
   "metadata": {},
   "outputs": [
    {
     "name": "stdout",
     "output_type": "stream",
     "text": [
      ">>>>>>>>>>>> Iter 0\n"
     ]
    },
    {
     "data": {
      "application/vnd.jupyter.widget-view+json": {
       "model_id": "102ff7185f2c45d592717dc8edc80c20",
       "version_major": 2,
       "version_minor": 0
      },
      "text/plain": [
       "Epoch:   0%|          | 0/30 [00:00<?, ?it/s]"
      ]
     },
     "metadata": {},
     "output_type": "display_data"
    },
    {
     "name": "stdout",
     "output_type": "stream",
     "text": [
      "0 0.1729 0.0454 tensor([0.])\n",
      "1 0.0233 0.0320 tensor([0.])\n",
      "2 0.0156 0.0268 tensor([0.])\n",
      "3 0.0118 0.0240 tensor([0.])\n",
      "4 0.0099 0.0238 tensor([0.])\n",
      "5 0.0095 0.0220 tensor([0.])\n",
      "6 0.0090 0.0234 tensor([0.])\n",
      "7 0.0083 0.0251 tensor([0.])\n",
      "8 0.0076 0.0253 tensor([0.])\n",
      "9 0.0073 0.0249 tensor([0.])\n",
      "10 0.0072 0.0264 tensor([0.])\n",
      "11 0.0072 0.0254 tensor([0.])\n",
      "12 0.0069 0.0251 tensor([0.])\n",
      "13 0.0065 0.0247 tensor([0.])\n",
      "14 0.0065 0.0244 tensor([0.])\n",
      "15 0.0063 0.0249 tensor([0.])\n",
      "16 0.0063 0.0247 tensor([0.])\n",
      "17 0.0061 0.0263 tensor([0.])\n",
      "18 0.0059 0.0270 tensor([0.])\n",
      "19 0.0060 0.0276 tensor([0.])\n",
      "20 0.0059 0.0263 tensor([0.])\n",
      "21 0.0059 0.0254 tensor([0.])\n",
      "22 0.0058 0.0267 tensor([0.])\n",
      "23 0.0057 0.0245 tensor([0.])\n",
      "24 0.0056 0.0289 tensor([0.])\n",
      "25 0.0055 0.0253 tensor([0.])\n",
      "26 0.0055 0.0278 tensor([0.])\n",
      "27 0.0057 0.0266 tensor([0.])\n",
      "28 0.0054 0.0252 tensor([0.])\n",
      "29 0.0054 0.0270 tensor([0.])\n",
      "\n",
      ">>>>>>>>>>>> Iter 1\n"
     ]
    },
    {
     "data": {
      "application/vnd.jupyter.widget-view+json": {
       "model_id": "f6bb03fa02b84c52becf4b50c74de988",
       "version_major": 2,
       "version_minor": 0
      },
      "text/plain": [
       "Epoch:   0%|          | 0/30 [00:00<?, ?it/s]"
      ]
     },
     "metadata": {},
     "output_type": "display_data"
    },
    {
     "name": "stdout",
     "output_type": "stream",
     "text": [
      "0 0.1108 0.0346 tensor([0.])\n",
      "1 0.0143 0.0214 tensor([0.])\n",
      "2 0.0107 0.0210 tensor([0.])\n",
      "3 0.0088 0.0220 tensor([0.])\n",
      "4 0.0080 0.0216 tensor([0.])\n",
      "5 0.0071 0.0225 tensor([0.])\n",
      "6 0.0069 0.0215 tensor([0.])\n",
      "7 0.0064 0.0231 tensor([0.])\n",
      "8 0.0063 0.0239 tensor([0.])\n",
      "9 0.0062 0.0209 tensor([0.])\n",
      "10 0.0061 0.0218 tensor([0.])\n",
      "11 0.0059 0.0228 tensor([0.])\n",
      "12 0.0056 0.0230 tensor([0.])\n",
      "13 0.0054 0.0223 tensor([0.])\n",
      "14 0.0054 0.0227 tensor([0.])\n",
      "15 0.0053 0.0225 tensor([0.])\n",
      "16 0.0052 0.0216 tensor([0.])\n",
      "17 0.0050 0.0223 tensor([0.])\n",
      "18 0.0049 0.0214 tensor([0.])\n",
      "19 0.0048 0.0217 tensor([0.])\n",
      "20 0.0047 0.0201 tensor([0.])\n",
      "21 0.0047 0.0223 tensor([2.3981e-05])\n",
      "22 0.0046 0.0194 tensor([0.0011])\n",
      "23 0.0045 0.0191 tensor([0.3019])\n",
      "24 0.0044 0.0202 tensor([0.2979])\n",
      "25 0.0043 0.0205 tensor([0.3114])\n",
      "26 0.0042 0.0207 tensor([0.3061])\n",
      "27 0.0042 0.0208 tensor([0.3223])\n",
      "28 0.0041 0.0206 tensor([0.3101])\n",
      "29 0.0042 0.0202 tensor([0.3324])\n",
      "\n",
      ">>>>>>>>>>>> Iter 2\n"
     ]
    },
    {
     "data": {
      "application/vnd.jupyter.widget-view+json": {
       "model_id": "1d6c896b521d4cb5ae42add1b2abb30c",
       "version_major": 2,
       "version_minor": 0
      },
      "text/plain": [
       "Epoch:   0%|          | 0/30 [00:00<?, ?it/s]"
      ]
     },
     "metadata": {},
     "output_type": "display_data"
    },
    {
     "name": "stdout",
     "output_type": "stream",
     "text": [
      "0 0.0856 0.0271 tensor([0.])\n",
      "1 0.0116 0.0261 tensor([0.])\n",
      "2 0.0087 0.0254 tensor([0.])\n",
      "3 0.0075 0.0271 tensor([0.])\n",
      "4 0.0066 0.0272 tensor([0.])\n",
      "5 0.0062 0.0265 tensor([0.])\n",
      "6 0.0058 0.0277 tensor([0.])\n",
      "7 0.0055 0.0284 tensor([0.])\n",
      "8 0.0054 0.0245 tensor([0.])\n",
      "9 0.0052 0.0273 tensor([0.])\n",
      "10 0.0050 0.0284 tensor([0.])\n",
      "11 0.0048 0.0279 tensor([0.])\n",
      "12 0.0047 0.0243 tensor([0.])\n",
      "13 0.0045 0.0279 tensor([0.])\n",
      "14 0.0044 0.0268 tensor([0.])\n",
      "15 0.0043 0.0281 tensor([0.])\n",
      "16 0.0042 0.0271 tensor([0.])\n",
      "17 0.0041 0.0275 tensor([0.2080])\n",
      "18 0.0041 0.0255 tensor([0.2551])\n",
      "19 0.0039 0.0235 tensor([0.2960])\n",
      "20 0.0038 0.0266 tensor([0.2643])\n",
      "21 0.0038 0.0256 tensor([0.2891])\n",
      "22 0.0036 0.0267 tensor([0.2911])\n",
      "23 0.0035 0.0257 tensor([0.3020])\n",
      "24 0.0034 0.0250 tensor([0.3195])\n",
      "25 0.0034 0.0254 tensor([0.3188])\n",
      "26 0.0033 0.0260 tensor([0.3188])\n",
      "27 0.0032 0.0256 tensor([0.3225])\n",
      "28 0.0032 0.0256 tensor([0.3258])\n",
      "29 0.0031 0.0245 tensor([0.3397])\n",
      "\n",
      ">>>>>>>>>>>> Iter 3\n"
     ]
    },
    {
     "data": {
      "application/vnd.jupyter.widget-view+json": {
       "model_id": "9632c6d2b8e3487eadaeda263cd1683b",
       "version_major": 2,
       "version_minor": 0
      },
      "text/plain": [
       "Epoch:   0%|          | 0/30 [00:00<?, ?it/s]"
      ]
     },
     "metadata": {},
     "output_type": "display_data"
    },
    {
     "name": "stdout",
     "output_type": "stream",
     "text": [
      "0 0.0416 0.0246 tensor([0.])\n",
      "1 0.0097 0.0272 tensor([0.])\n",
      "2 0.0071 0.0249 tensor([0.])\n",
      "3 0.0063 0.0243 tensor([0.])\n",
      "4 0.0057 0.0236 tensor([0.])\n",
      "5 0.0052 0.0236 tensor([0.])\n",
      "6 0.0050 0.0242 tensor([0.])\n",
      "7 0.0048 0.0253 tensor([0.])\n",
      "8 0.0046 0.0252 tensor([0.])\n",
      "9 0.0044 0.0249 tensor([3.5802e-05])\n",
      "10 0.0042 0.0254 tensor([0.0011])\n",
      "11 0.0042 0.0235 tensor([0.1899])\n",
      "12 0.0040 0.0266 tensor([0.2172])\n",
      "13 0.0039 0.0221 tensor([0.2733])\n",
      "14 0.0038 0.0240 tensor([0.2756])\n",
      "15 0.0036 0.0250 tensor([0.2752])\n",
      "16 0.0035 0.0253 tensor([0.2899])\n",
      "17 0.0034 0.0260 tensor([0.2798])\n",
      "18 0.0034 0.0267 tensor([0.2857])\n",
      "19 0.0033 0.0249 tensor([0.3126])\n",
      "20 0.0032 0.0261 tensor([0.3015])\n",
      "21 0.0032 0.0240 tensor([0.3284])\n",
      "22 0.0030 0.0233 tensor([0.3374])\n",
      "23 0.0029 0.0255 tensor([0.3242])\n",
      "24 0.0029 0.0242 tensor([0.3447])\n",
      "25 0.0028 0.0217 tensor([0.3707])\n",
      "26 0.0028 0.0245 tensor([0.3539])\n",
      "27 0.0027 0.0230 tensor([0.3658])\n",
      "28 0.0026 0.0209 tensor([0.3893])\n",
      "29 0.0026 0.0233 tensor([0.3707])\n",
      "\n",
      ">>>>>>>>>>>> Iter 4\n"
     ]
    },
    {
     "data": {
      "application/vnd.jupyter.widget-view+json": {
       "model_id": "f056fc8be7bc426892b13add4813ad2b",
       "version_major": 2,
       "version_minor": 0
      },
      "text/plain": [
       "Epoch:   0%|          | 0/30 [00:00<?, ?it/s]"
      ]
     },
     "metadata": {},
     "output_type": "display_data"
    },
    {
     "name": "stdout",
     "output_type": "stream",
     "text": [
      "0 0.0515 0.0224 tensor([0.])\n",
      "1 0.0079 0.0237 tensor([0.])\n",
      "2 0.0065 0.0233 tensor([0.])\n",
      "3 0.0058 0.0233 tensor([0.])\n",
      "4 0.0053 0.0206 tensor([0.])\n",
      "5 0.0051 0.0201 tensor([0.])\n",
      "6 0.0048 0.0200 tensor([0.])\n",
      "7 0.0046 0.0178 tensor([0.])\n",
      "8 0.0044 0.0215 tensor([0.])\n",
      "9 0.0043 0.0202 tensor([0.0007])\n",
      "10 0.0040 0.0214 tensor([0.2591])\n",
      "11 0.0038 0.0207 tensor([0.3080])\n",
      "12 0.0037 0.0215 tensor([0.3153])\n",
      "13 0.0036 0.0206 tensor([0.3358])\n",
      "14 0.0035 0.0216 tensor([0.3429])\n",
      "15 0.0034 0.0200 tensor([0.3736])\n",
      "16 0.0032 0.0225 tensor([0.3462])\n",
      "17 0.0031 0.0235 tensor([0.3427])\n",
      "18 0.0030 0.0216 tensor([0.3691])\n",
      "19 0.0029 0.0202 tensor([0.4032])\n",
      "20 0.0029 0.0212 tensor([0.3930])\n",
      "21 0.0028 0.0201 tensor([0.4069])\n",
      "22 0.0027 0.0204 tensor([0.4023])\n",
      "23 0.0026 0.0216 tensor([0.3978])\n",
      "24 0.0026 0.0225 tensor([0.3916])\n",
      "25 0.0025 0.0219 tensor([0.3995])\n",
      "26 0.0025 0.0209 tensor([0.4132])\n",
      "27 0.0024 0.0200 tensor([0.4262])\n",
      "28 0.0023 0.0203 tensor([0.4312])\n",
      "29 0.0022 0.0196 tensor([0.4396])\n",
      "\n",
      ">>>>>>>>>>>> Iter 5\n"
     ]
    },
    {
     "data": {
      "application/vnd.jupyter.widget-view+json": {
       "model_id": "46e8bc3376f64747bc484e025fe33181",
       "version_major": 2,
       "version_minor": 0
      },
      "text/plain": [
       "Epoch:   0%|          | 0/30 [00:00<?, ?it/s]"
      ]
     },
     "metadata": {},
     "output_type": "display_data"
    },
    {
     "name": "stdout",
     "output_type": "stream",
     "text": [
      "0 0.0305 0.0252 tensor([0.])\n",
      "1 0.0088 0.0231 tensor([0.])\n",
      "2 0.0067 0.0204 tensor([0.])\n",
      "3 0.0057 0.0209 tensor([0.])\n",
      "4 0.0052 0.0217 tensor([0.])\n",
      "5 0.0048 0.0198 tensor([0.])\n",
      "6 0.0048 0.0188 tensor([0.])\n",
      "7 0.0045 0.0202 tensor([0.2282])\n",
      "8 0.0042 0.0179 tensor([0.2959])\n",
      "9 0.0039 0.0192 tensor([0.3278])\n",
      "10 0.0037 0.0218 tensor([0.2879])\n",
      "11 0.0036 0.0212 tensor([0.3212])\n",
      "12 0.0035 0.0208 tensor([0.3361])\n",
      "13 0.0033 0.0227 tensor([0.3290])\n",
      "14 0.0032 0.0210 tensor([0.3518])\n",
      "15 0.0031 0.0224 tensor([0.3406])\n",
      "16 0.0030 0.0190 tensor([0.4022])\n",
      "17 0.0029 0.0196 tensor([0.3923])\n",
      "18 0.0028 0.0214 tensor([0.3786])\n",
      "19 0.0027 0.0232 tensor([0.3626])\n",
      "20 0.0026 0.0237 tensor([0.3617])\n",
      "21 0.0026 0.0207 tensor([0.4010])\n",
      "22 0.0024 0.0204 tensor([0.4153])\n",
      "23 0.0024 0.0208 tensor([0.4196])\n",
      "24 0.0024 0.0221 tensor([0.4072])\n",
      "25 0.0023 0.0193 tensor([0.4490])\n",
      "26 0.0022 0.0199 tensor([0.4437])\n",
      "27 0.0021 0.0213 tensor([0.4303])\n",
      "28 0.0021 0.0198 tensor([0.4536])\n",
      "29 0.0020 0.0190 tensor([0.4722])\n",
      "\n",
      ">>>>>>>>>>>> Iter 6\n"
     ]
    },
    {
     "data": {
      "application/vnd.jupyter.widget-view+json": {
       "model_id": "e32feb0d66a94a368873a5806bdb1b5d",
       "version_major": 2,
       "version_minor": 0
      },
      "text/plain": [
       "Epoch:   0%|          | 0/30 [00:00<?, ?it/s]"
      ]
     },
     "metadata": {},
     "output_type": "display_data"
    },
    {
     "name": "stdout",
     "output_type": "stream",
     "text": [
      "0 0.0607 0.0236 tensor([0.])\n",
      "1 0.0075 0.0223 tensor([0.])\n",
      "2 0.0064 0.0230 tensor([0.])\n",
      "3 0.0058 0.0216 tensor([0.])\n",
      "4 0.0053 0.0223 tensor([0.])\n",
      "5 0.0050 0.0181 tensor([0.])\n",
      "6 0.0047 0.0187 tensor([0.])\n",
      "7 0.0044 0.0205 tensor([0.])\n",
      "8 0.0042 0.0197 tensor([0.2589])\n",
      "9 0.0040 0.0196 tensor([0.3140])\n",
      "10 0.0037 0.0194 tensor([0.3354])\n",
      "11 0.0036 0.0209 tensor([0.3408])\n",
      "12 0.0034 0.0194 tensor([0.3752])\n",
      "13 0.0032 0.0177 tensor([0.4151])\n",
      "14 0.0031 0.0185 tensor([0.4228])\n",
      "15 0.0030 0.0184 tensor([0.4237])\n",
      "16 0.0029 0.0186 tensor([0.4304])\n",
      "17 0.0028 0.0148 tensor([0.5062])\n",
      "18 0.0027 0.0180 tensor([0.4506])\n",
      "19 0.0026 0.0183 tensor([0.4511])\n",
      "20 0.0025 0.0189 tensor([0.4583])\n",
      "21 0.0024 0.0186 tensor([0.4637])\n",
      "22 0.0023 0.0175 tensor([0.4757])\n",
      "23 0.0022 0.0161 tensor([0.5130])\n",
      "24 0.0022 0.0173 tensor([0.4841])\n",
      "25 0.0021 0.0176 tensor([0.4904])\n",
      "26 0.0021 0.0178 tensor([0.4909])\n",
      "27 0.0020 0.0180 tensor([0.4802])\n",
      "28 0.0019 0.0169 tensor([0.5096])\n",
      "29 0.0019 0.0174 tensor([0.5030])\n",
      "\n",
      ">>>>>>>>>>>> Iter 7\n"
     ]
    },
    {
     "data": {
      "application/vnd.jupyter.widget-view+json": {
       "model_id": "0b19d642006a4536a15a2d65d3d6a795",
       "version_major": 2,
       "version_minor": 0
      },
      "text/plain": [
       "Epoch:   0%|          | 0/30 [00:00<?, ?it/s]"
      ]
     },
     "metadata": {},
     "output_type": "display_data"
    },
    {
     "name": "stdout",
     "output_type": "stream",
     "text": [
      "0 0.0267 0.0170 tensor([0.])\n",
      "1 0.0070 0.0140 tensor([0.])\n",
      "2 0.0057 0.0153 tensor([0.])\n",
      "3 0.0051 0.0136 tensor([0.0002])\n",
      "4 0.0047 0.0130 tensor([0.3560])\n",
      "5 0.0044 0.0124 tensor([0.4550])\n",
      "6 0.0041 0.0129 tensor([0.4719])\n",
      "7 0.0038 0.0121 tensor([0.5211])\n",
      "8 0.0037 0.0113 tensor([0.5549])\n",
      "9 0.0035 0.0117 tensor([0.5438])\n",
      "10 0.0033 0.0111 tensor([0.5591])\n",
      "11 0.0031 0.0099 tensor([0.5957])\n",
      "12 0.0030 0.0117 tensor([0.5512])\n",
      "13 0.0028 0.0113 tensor([0.5708])\n",
      "14 0.0027 0.0098 tensor([0.6020])\n",
      "15 0.0026 0.0113 tensor([0.5727])\n",
      "16 0.0025 0.0107 tensor([0.5858])\n",
      "17 0.0024 0.0111 tensor([0.5825])\n",
      "18 0.0023 0.0115 tensor([0.5768])\n",
      "19 0.0022 0.0114 tensor([0.5842])\n",
      "20 0.0022 0.0107 tensor([0.5983])\n",
      "21 0.0021 0.0107 tensor([0.6010])\n",
      "22 0.0020 0.0111 tensor([0.6006])\n",
      "23 0.0020 0.0113 tensor([0.5951])\n",
      "24 0.0019 0.0112 tensor([0.6015])\n",
      "25 0.0019 0.0119 tensor([0.5897])\n",
      "26 0.0018 0.0109 tensor([0.6068])\n",
      "27 0.0018 0.0101 tensor([0.6179])\n",
      "28 0.0017 0.0107 tensor([0.6111])\n",
      "29 0.0017 0.0107 tensor([0.6145])\n",
      "\n",
      ">>>>>>>>>>>> Iter 8\n"
     ]
    },
    {
     "data": {
      "application/vnd.jupyter.widget-view+json": {
       "model_id": "01d3e1e89afd4bdd9cef3ac4a43f5de0",
       "version_major": 2,
       "version_minor": 0
      },
      "text/plain": [
       "Epoch:   0%|          | 0/30 [00:00<?, ?it/s]"
      ]
     },
     "metadata": {},
     "output_type": "display_data"
    },
    {
     "name": "stdout",
     "output_type": "stream",
     "text": [
      "0 0.0275 0.0202 tensor([0.])\n",
      "1 0.0068 0.0209 tensor([0.])\n",
      "2 0.0058 0.0210 tensor([0.])\n",
      "3 0.0053 0.0210 tensor([0.])\n",
      "4 0.0048 0.0205 tensor([0.2618])\n",
      "5 0.0044 0.0203 tensor([0.3399])\n",
      "6 0.0041 0.0195 tensor([0.3819])\n",
      "7 0.0038 0.0198 tensor([0.4035])\n",
      "8 0.0036 0.0137 tensor([0.4964])\n",
      "9 0.0035 0.0160 tensor([0.4635])\n",
      "10 0.0032 0.0162 tensor([0.4821])\n",
      "11 0.0031 0.0160 tensor([0.4867])\n",
      "12 0.0029 0.0180 tensor([0.4686])\n",
      "13 0.0027 0.0175 tensor([0.4790])\n",
      "14 0.0026 0.0184 tensor([0.4722])\n",
      "15 0.0025 0.0197 tensor([0.4641])\n",
      "16 0.0024 0.0202 tensor([0.4628])\n",
      "17 0.0024 0.0188 tensor([0.4919])\n",
      "18 0.0023 0.0195 tensor([0.4823])\n",
      "19 0.0022 0.0173 tensor([0.4998])\n",
      "20 0.0021 0.0184 tensor([0.4947])\n",
      "21 0.0021 0.0181 tensor([0.5058])\n",
      "22 0.0020 0.0181 tensor([0.5148])\n",
      "23 0.0019 0.0191 tensor([0.5114])\n",
      "24 0.0018 0.0159 tensor([0.5422])\n",
      "25 0.0018 0.0183 tensor([0.5257])\n",
      "26 0.0017 0.0185 tensor([0.5234])\n",
      "27 0.0017 0.0173 tensor([0.5322])\n",
      "28 0.0017 0.0182 tensor([0.5316])\n",
      "29 0.0016 0.0175 tensor([0.5432])\n",
      "\n",
      ">>>>>>>>>>>> Iter 9\n"
     ]
    },
    {
     "data": {
      "application/vnd.jupyter.widget-view+json": {
       "model_id": "f0788048519d4903854a5be7be5eb2dd",
       "version_major": 2,
       "version_minor": 0
      },
      "text/plain": [
       "Epoch:   0%|          | 0/30 [00:00<?, ?it/s]"
      ]
     },
     "metadata": {},
     "output_type": "display_data"
    },
    {
     "name": "stdout",
     "output_type": "stream",
     "text": [
      "0 0.0208 0.0238 tensor([0.])\n",
      "1 0.0069 0.0218 tensor([0.])\n",
      "2 0.0058 0.0256 tensor([0.0002])\n",
      "3 0.0052 0.0238 tensor([0.2376])\n",
      "4 0.0047 0.0217 tensor([0.3202])\n",
      "5 0.0043 0.0218 tensor([0.3272])\n",
      "6 0.0040 0.0214 tensor([0.3508])\n",
      "7 0.0037 0.0206 tensor([0.3731])\n",
      "8 0.0035 0.0199 tensor([0.3954])\n",
      "9 0.0033 0.0207 tensor([0.4039])\n",
      "10 0.0031 0.0183 tensor([0.4272])\n",
      "11 0.0029 0.0197 tensor([0.4187])\n",
      "12 0.0028 0.0224 tensor([0.3972])\n",
      "13 0.0026 0.0252 tensor([0.3772])\n",
      "14 0.0025 0.0197 tensor([0.4314])\n",
      "15 0.0024 0.0214 tensor([0.4147])\n",
      "16 0.0023 0.0223 tensor([0.4218])\n",
      "17 0.0022 0.0233 tensor([0.4144])\n",
      "18 0.0021 0.0233 tensor([0.4230])\n",
      "19 0.0021 0.0234 tensor([0.4168])\n",
      "20 0.0020 0.0213 tensor([0.4417])\n",
      "21 0.0019 0.0220 tensor([0.4379])\n",
      "22 0.0019 0.0219 tensor([0.4433])\n",
      "23 0.0018 0.0233 tensor([0.4364])\n",
      "24 0.0018 0.0205 tensor([0.4657])\n",
      "25 0.0017 0.0218 tensor([0.4561])\n",
      "26 0.0017 0.0223 tensor([0.4478])\n",
      "27 0.0016 0.0216 tensor([0.4602])\n",
      "28 0.0016 0.0223 tensor([0.4568])\n",
      "29 0.0016 0.0213 tensor([0.4697])\n",
      "\n"
     ]
    }
   ],
   "source": [
    "for n_iter in range(10):\n",
    "    print(f'>>>>>>>>>>>> Iter {n_iter}')\n",
    "    del model\n",
    "    del optimizer\n",
    "    gc.collect()\n",
    "    ds_train = AL.PartialDs(ds_full, labeled_idxs)\n",
    "    dl_train = torch.utils.data.DataLoader(ds_train, batch_size=batch_size, shuffle=True, drop_last=True)\n",
    "\n",
    "    model = presentation.create_model().to(device)\n",
    "    optimizer = presentation.create_optimizer(model)\n",
    "\n",
    "    num_epochs = 30\n",
    "    for epoch in tqdm(range(num_epochs), desc='Epoch'):\n",
    "        trn_loss = utils.train(dl_train, loss_fn, model, optimizer)\n",
    "        val_loss, val_IoUs = segmentation.evaluate(dl_test, loss_fn, model)\n",
    "        print(epoch, f'{trn_loss:.4f}', f'{val_loss:.4f}', val_IoUs)\n",
    "    print()\n",
    "\n",
    "    ds_unlabeled = AL.PartialDs(ds_full, unlabeled_idxs)\n",
    "    dl_unlabeled = torch.utils.data.DataLoader(ds_unlabeled, batch_size=batch_size, shuffle=False, drop_last=False)\n",
    "    model.eval()    \n",
    "    entropies = []\n",
    "    for inp, tgt in dl_unlabeled:\n",
    "        with torch.no_grad():\n",
    "            out = model(inp.to(device))\n",
    "        entropies.append(AL.compute_entropies(out))\n",
    "    entropies = torch.cat(entropies)\n",
    "    order = entropies.sort(descending=False).indices\n",
    "    labeled_idxs += torch.tensor(unlabeled_idxs)[order[:N_step]].tolist()\n",
    "    unlabeled_idxs = torch.tensor(unlabeled_idxs)[order[N_step:]].tolist()"
   ]
  },
  {
   "cell_type": "code",
   "execution_count": null,
   "id": "0f9fe763-8e8a-4613-a8ff-456b63c40fb4",
   "metadata": {},
   "outputs": [],
   "source": []
  }
 ],
 "metadata": {
  "kernelspec": {
   "display_name": "stenoses",
   "language": "python",
   "name": "stenoses"
  },
  "language_info": {
   "codemirror_mode": {
    "name": "ipython",
    "version": 3
   },
   "file_extension": ".py",
   "mimetype": "text/x-python",
   "name": "python",
   "nbconvert_exporter": "python",
   "pygments_lexer": "ipython3",
   "version": "3.10.15"
  }
 },
 "nbformat": 4,
 "nbformat_minor": 5
}
