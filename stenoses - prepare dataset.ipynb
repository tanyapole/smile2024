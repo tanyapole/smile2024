{
 "cells": [
  {
   "cell_type": "code",
   "execution_count": 1,
   "id": "41c96ea6-1731-4a95-b08f-30f61e02399f",
   "metadata": {},
   "outputs": [],
   "source": [
    "import numpy as np\n",
    "from pathlib import Path\n",
    "import os\n",
    "import shutil\n",
    "from PIL import Image"
   ]
  },
  {
   "cell_type": "code",
   "execution_count": 2,
   "id": "0a6341be-3aef-473c-9cc6-5cac861a3e68",
   "metadata": {},
   "outputs": [],
   "source": [
    "modes = ['train', 'test']\n",
    "patients = {\n",
    "    'train': [\n",
    "        'v1_Спорыш_DICOM_22112215_30450000',\n",
    "        'v1_Боггданов_DICOM_PA000000_ST000000_SE000006',\n",
    "        'v2_Гордеев_DICOM_S6160_S4010',\n",
    "        'v2_Ушанова_DICOM_S54640_S4010',\n",
    "        'v1_Запрягалов_Борис_Сергеевич_DICOM_S9670_S4010',\n",
    "        'v1_Бедоев_БЦА_23011115',\n",
    "    ],\n",
    "    'test': [\n",
    "        'v2_Желудкова_DICOM_23031810_14110003',\n",
    "        'v2_Желудкова_DICOM_23031810_14110005',\n",
    "    ]\n",
    "}"
   ]
  },
  {
   "cell_type": "code",
   "execution_count": 3,
   "id": "f5707b8d-5559-4133-be5c-ed5577f05317",
   "metadata": {},
   "outputs": [],
   "source": [
    "src_fldr = Path('../stenoses/smile_stenoses_cleaned_data/')\n",
    "tgt_fldr = Path('stenoses_data/')\n",
    "tgt_fldr.mkdir()\n",
    "for mode in modes: (tgt_fldr / mode).mkdir()\n",
    "for mode in modes: \n",
    "    (tgt_fldr / mode / 'images').mkdir()\n",
    "    (tgt_fldr / mode / 'masks').mkdir()"
   ]
  },
  {
   "cell_type": "code",
   "execution_count": 4,
   "id": "b6590b8f-2b29-41df-a8a7-ad9934d51b47",
   "metadata": {},
   "outputs": [],
   "source": [
    "for mode in modes:\n",
    "    for patient in patients[mode]:\n",
    "        for f in (src_fldr / 'grey' / patient).iterdir():\n",
    "            Image.open(f).convert('RGB').save(tgt_fldr / mode / 'images' / f'{patient}__{f.name}')\n",
    "            mask = np.load(src_fldr / 'masks' / patient / f.with_suffix('.npy').name)\n",
    "            mask = Image.fromarray(mask.astype(np.uint8))\n",
    "            mask.save(tgt_fldr / mode / 'masks' / f'{patient}__{f.name}')"
   ]
  },
  {
   "cell_type": "code",
   "execution_count": null,
   "id": "ad8e4b97-1f75-4adf-bf05-e99d0e5f2012",
   "metadata": {},
   "outputs": [],
   "source": []
  }
 ],
 "metadata": {
  "kernelspec": {
   "display_name": "stenoses",
   "language": "python",
   "name": "stenoses"
  },
  "language_info": {
   "codemirror_mode": {
    "name": "ipython",
    "version": 3
   },
   "file_extension": ".py",
   "mimetype": "text/x-python",
   "name": "python",
   "nbconvert_exporter": "python",
   "pygments_lexer": "ipython3",
   "version": "3.10.15"
  }
 },
 "nbformat": 4,
 "nbformat_minor": 5
}
