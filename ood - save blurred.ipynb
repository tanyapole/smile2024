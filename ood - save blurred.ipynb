{
 "cells": [
  {
   "cell_type": "code",
   "execution_count": 1,
   "id": "0a974332-7f65-4b8d-a5c6-cf7a7fd783aa",
   "metadata": {},
   "outputs": [],
   "source": [
    "from pathlib import Path\n",
    "import os\n",
    "from PIL import Image\n",
    "import torchvision.transforms as TF"
   ]
  },
  {
   "cell_type": "code",
   "execution_count": 2,
   "id": "9bc47942-bed4-4fc0-ad64-a8079e5dced4",
   "metadata": {},
   "outputs": [],
   "source": [
    "def get_image_files(fldr):\n",
    "    return list(filter(lambda f: f.suffix == '.png', fldr.iterdir()))"
   ]
  },
  {
   "cell_type": "code",
   "execution_count": 3,
   "id": "e87d0054-65cb-4845-9024-66a434bef374",
   "metadata": {},
   "outputs": [],
   "source": [
    "src_fldr = Path('Cifar10/test')\n",
    "tgt_fldr = Path('Cifar10/blur')\n",
    "tgt_fldr.mkdir()"
   ]
  },
  {
   "cell_type": "code",
   "execution_count": 4,
   "id": "c1cf09b7-c29d-45bd-9beb-719c84904de7",
   "metadata": {},
   "outputs": [],
   "source": [
    "blur_tfm = TF.GaussianBlur(kernel_size=3, sigma=(1., 2.))"
   ]
  },
  {
   "cell_type": "code",
   "execution_count": 5,
   "id": "c3e0f16f-a3be-4cd5-97c3-4c03c90746e0",
   "metadata": {},
   "outputs": [],
   "source": [
    "for sub in src_fldr.iterdir():\n",
    "    (tgt_fldr / sub.name).mkdir()\n",
    "    for f in get_image_files(sub):\n",
    "        img = Image.open(f)\n",
    "        img = blur_tfm(img)\n",
    "        img.save(tgt_fldr / f.relative_to(src_fldr))"
   ]
  },
  {
   "cell_type": "code",
   "execution_count": 6,
   "id": "7ae71b2d-67ce-42f5-9acd-9936d6bab091",
   "metadata": {},
   "outputs": [],
   "source": [
    "for sub in tgt_fldr.iterdir():\n",
    "    L1 = sorted([f.name for f in get_image_files(sub)])\n",
    "    L2 = sorted([f.name for f in get_image_files(src_fldr / sub.name)])\n",
    "    assert L1 == L2"
   ]
  },
  {
   "cell_type": "code",
   "execution_count": null,
   "id": "afccddeb-47f6-485b-ae6e-8f6f43456c15",
   "metadata": {},
   "outputs": [],
   "source": []
  }
 ],
 "metadata": {
  "kernelspec": {
   "display_name": "protozoa",
   "language": "python",
   "name": "protozoa"
  },
  "language_info": {
   "codemirror_mode": {
    "name": "ipython",
    "version": 3
   },
   "file_extension": ".py",
   "mimetype": "text/x-python",
   "name": "python",
   "nbconvert_exporter": "python",
   "pygments_lexer": "ipython3",
   "version": "3.10.15"
  }
 },
 "nbformat": 4,
 "nbformat_minor": 5
}
