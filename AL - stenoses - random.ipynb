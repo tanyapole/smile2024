{
 "cells": [
  {
   "cell_type": "code",
   "execution_count": 1,
   "id": "39058e05-8f10-4cd8-8658-ae33981f9209",
   "metadata": {},
   "outputs": [],
   "source": [
    "import gc\n",
    "import numpy as np\n",
    "import torch\n",
    "import torch.nn as nn\n",
    "import segmentation_models_pytorch as smp\n",
    "import utils, segmentation, AL, presentation\n",
    "from tqdm.auto import tqdm"
   ]
  },
  {
   "cell_type": "code",
   "execution_count": 2,
   "id": "95b179fd-bf2d-4eb6-b32f-dbedec5565cd",
   "metadata": {},
   "outputs": [
    {
     "name": "stdout",
     "output_type": "stream",
     "text": [
      "cuda:1\n"
     ]
    }
   ],
   "source": [
    "device = torch.device('cuda:1') if torch.cuda.is_available() else torch.device('cpu')\n",
    "print(device)"
   ]
  },
  {
   "cell_type": "code",
   "execution_count": 3,
   "id": "f9eaa47f-929a-43d5-b4af-ed66b2fd65dc",
   "metadata": {},
   "outputs": [],
   "source": [
    "ds_full = segmentation.SegmentationDataset('./cut_stenoses_data/train/', 2)\n",
    "ds_test = segmentation.SegmentationDataset('./cut_stenoses_data/test/', 2)\n",
    "\n",
    "batch_size = 8\n",
    "dl_full = torch.utils.data.DataLoader(ds_full, batch_size=batch_size, shuffle=False, drop_last=False)\n",
    "dl_test = torch.utils.data.DataLoader(ds_test, batch_size=batch_size, shuffle=False, drop_last=False)"
   ]
  },
  {
   "cell_type": "code",
   "execution_count": 4,
   "id": "30247f1b-e743-4580-b01f-c539f36b0de5",
   "metadata": {},
   "outputs": [],
   "source": [
    "# w = 0.\n",
    "# for imgs, masks in dl_full:\n",
    "#     w += masks.sum() / (masks.numel() * len(dl_full))\n",
    "# loss_fn = nn.CrossEntropyLoss(weight=torch.Tensor([1 / (1-w), 1/ w])).to(device)\n",
    "loss_fn = nn.CrossEntropyLoss()"
   ]
  },
  {
   "cell_type": "code",
   "execution_count": 5,
   "id": "a86ad94b-09ac-4471-9fc0-cedf14ad655c",
   "metadata": {},
   "outputs": [],
   "source": [
    "model = presentation.create_model().to(device)\n",
    "optimizer = presentation.create_optimizer(model)"
   ]
  },
  {
   "cell_type": "code",
   "execution_count": 6,
   "id": "b118463a-6223-4a06-852e-85f744554f14",
   "metadata": {},
   "outputs": [
    {
     "data": {
      "text/plain": [
       "(598, 59)"
      ]
     },
     "execution_count": 6,
     "metadata": {},
     "output_type": "execute_result"
    }
   ],
   "source": [
    "N = len(ds_full)\n",
    "N_step = int(N*0.1)\n",
    "N, N_step"
   ]
  },
  {
   "cell_type": "code",
   "execution_count": 7,
   "id": "c4553031-2dc7-404c-9570-833cf8467a68",
   "metadata": {},
   "outputs": [],
   "source": [
    "idxs = list(range(N))\n",
    "np.random.seed(0)\n",
    "np.random.shuffle(idxs)"
   ]
  },
  {
   "cell_type": "code",
   "execution_count": 8,
   "id": "88c04902-bd67-4ff2-b738-eab385eeef07",
   "metadata": {},
   "outputs": [
    {
     "name": "stdout",
     "output_type": "stream",
     "text": [
      ">>>>>>>>>>>> Iter 0\n"
     ]
    },
    {
     "data": {
      "application/vnd.jupyter.widget-view+json": {
       "model_id": "195d2d203dc046b0876b08800a73716e",
       "version_major": 2,
       "version_minor": 0
      },
      "text/plain": [
       "Epoch:   0%|          | 0/50 [00:00<?, ?it/s]"
      ]
     },
     "metadata": {},
     "output_type": "display_data"
    },
    {
     "name": "stdout",
     "output_type": "stream",
     "text": [
      "0 0.2553 0.3361 tensor([0.])\n",
      "1 0.0224 0.0283 tensor([0.])\n",
      "2 0.0156 0.0301 tensor([0.])\n",
      "3 0.0158 0.0235 tensor([0.])\n",
      "4 0.0101 0.0232 tensor([0.])\n",
      "5 0.0087 0.0230 tensor([0.])\n",
      "6 0.0093 0.0241 tensor([0.])\n",
      "7 0.0082 0.0220 tensor([0.])\n",
      "8 0.0076 0.0239 tensor([0.])\n",
      "9 0.0075 0.0260 tensor([0.])\n",
      "10 0.0075 0.0244 tensor([0.])\n",
      "11 0.0071 0.0231 tensor([0.])\n",
      "12 0.0070 0.0255 tensor([0.])\n",
      "13 0.0070 0.0248 tensor([0.])\n",
      "14 0.0068 0.0230 tensor([0.])\n",
      "15 0.0067 0.0263 tensor([0.])\n",
      "16 0.0065 0.0264 tensor([0.])\n",
      "17 0.0064 0.0258 tensor([0.])\n",
      "18 0.0064 0.0269 tensor([0.])\n",
      "19 0.0062 0.0277 tensor([0.])\n",
      "20 0.0061 0.0269 tensor([0.])\n",
      "21 0.0061 0.0277 tensor([0.])\n",
      "22 0.0060 0.0250 tensor([0.])\n",
      "23 0.0059 0.0286 tensor([0.])\n",
      "24 0.0057 0.0277 tensor([0.])\n",
      "25 0.0057 0.0291 tensor([0.])\n",
      "26 0.0057 0.0279 tensor([0.])\n",
      "27 0.0057 0.0274 tensor([0.])\n",
      "28 0.0055 0.0273 tensor([0.])\n",
      "29 0.0055 0.0262 tensor([0.])\n",
      "30 0.0054 0.0281 tensor([0.])\n",
      "31 0.0053 0.0284 tensor([0.])\n",
      "32 0.0054 0.0278 tensor([0.])\n",
      "33 0.0053 0.0278 tensor([0.])\n",
      "34 0.0051 0.0275 tensor([0.])\n",
      "35 0.0051 0.0284 tensor([0.])\n",
      "36 0.0051 0.0291 tensor([0.])\n",
      "37 0.0050 0.0293 tensor([0.])\n",
      "38 0.0049 0.0289 tensor([0.])\n",
      "39 0.0049 0.0274 tensor([0.])\n",
      "40 0.0049 0.0295 tensor([0.])\n",
      "41 0.0048 0.0286 tensor([0.])\n",
      "42 0.0048 0.0282 tensor([0.])\n",
      "43 0.0047 0.0294 tensor([1.7778e-05])\n",
      "44 0.0046 0.0298 tensor([0.2302])\n",
      "45 0.0046 0.0290 tensor([0.2571])\n",
      "46 0.0045 0.0289 tensor([0.2646])\n",
      "47 0.0045 0.0300 tensor([0.2611])\n",
      "48 0.0044 0.0278 tensor([0.2836])\n",
      "49 0.0043 0.0300 tensor([0.2770])\n",
      "\n",
      ">>>>>>>>>>>> Iter 1\n"
     ]
    },
    {
     "data": {
      "application/vnd.jupyter.widget-view+json": {
       "model_id": "ea22ad6528df4bdaaf28f89781a0eb5c",
       "version_major": 2,
       "version_minor": 0
      },
      "text/plain": [
       "Epoch:   0%|          | 0/50 [00:00<?, ?it/s]"
      ]
     },
     "metadata": {},
     "output_type": "display_data"
    },
    {
     "name": "stdout",
     "output_type": "stream",
     "text": [
      "0 0.0660 0.0317 tensor([0.])\n",
      "1 0.0169 0.0244 tensor([0.])\n",
      "2 0.0114 0.0197 tensor([0.])\n",
      "3 0.0092 0.0160 tensor([0.])\n",
      "4 0.0077 0.0175 tensor([0.])\n",
      "5 0.0071 0.0179 tensor([0.])\n",
      "6 0.0065 0.0224 tensor([0.])\n",
      "7 0.0065 0.0184 tensor([0.])\n",
      "8 0.0061 0.0157 tensor([0.])\n",
      "9 0.0059 0.0170 tensor([0.])\n",
      "10 0.0057 0.0185 tensor([0.])\n",
      "11 0.0054 0.0200 tensor([0.])\n",
      "12 0.0054 0.0186 tensor([0.])\n",
      "13 0.0052 0.0197 tensor([0.])\n",
      "14 0.0050 0.0193 tensor([5.9396e-05])\n",
      "15 0.0049 0.0199 tensor([0.0009])\n",
      "16 0.0048 0.0166 tensor([0.2807])\n",
      "17 0.0047 0.0167 tensor([0.3189])\n",
      "18 0.0047 0.0159 tensor([0.3657])\n",
      "19 0.0046 0.0195 tensor([0.2916])\n",
      "20 0.0045 0.0186 tensor([0.3121])\n",
      "21 0.0044 0.0189 tensor([0.3442])\n",
      "22 0.0043 0.0148 tensor([0.4433])\n",
      "23 0.0042 0.0195 tensor([0.3426])\n",
      "24 0.0042 0.0190 tensor([0.3631])\n",
      "25 0.0042 0.0162 tensor([0.4255])\n",
      "26 0.0040 0.0202 tensor([0.3488])\n",
      "27 0.0040 0.0181 tensor([0.3952])\n",
      "28 0.0039 0.0168 tensor([0.4266])\n",
      "29 0.0038 0.0197 tensor([0.3868])\n",
      "30 0.0038 0.0181 tensor([0.4118])\n",
      "31 0.0037 0.0188 tensor([0.4039])\n",
      "32 0.0037 0.0181 tensor([0.4154])\n",
      "33 0.0036 0.0176 tensor([0.4361])\n",
      "34 0.0036 0.0172 tensor([0.4417])\n",
      "35 0.0035 0.0178 tensor([0.4344])\n",
      "36 0.0034 0.0179 tensor([0.4417])\n",
      "37 0.0033 0.0179 tensor([0.4496])\n",
      "38 0.0033 0.0199 tensor([0.4143])\n",
      "39 0.0032 0.0184 tensor([0.4436])\n",
      "40 0.0032 0.0179 tensor([0.4540])\n",
      "41 0.0032 0.0194 tensor([0.4316])\n",
      "42 0.0031 0.0206 tensor([0.4149])\n",
      "43 0.0031 0.0182 tensor([0.4601])\n",
      "44 0.0031 0.0181 tensor([0.4619])\n",
      "45 0.0030 0.0165 tensor([0.5002])\n",
      "46 0.0030 0.0164 tensor([0.4906])\n",
      "47 0.0030 0.0161 tensor([0.5008])\n",
      "48 0.0029 0.0167 tensor([0.4888])\n",
      "49 0.0029 0.0177 tensor([0.4743])\n",
      "\n",
      ">>>>>>>>>>>> Iter 2\n"
     ]
    },
    {
     "data": {
      "application/vnd.jupyter.widget-view+json": {
       "model_id": "8f220917a521416f88df5da76c5f893c",
       "version_major": 2,
       "version_minor": 0
      },
      "text/plain": [
       "Epoch:   0%|          | 0/50 [00:00<?, ?it/s]"
      ]
     },
     "metadata": {},
     "output_type": "display_data"
    },
    {
     "name": "stdout",
     "output_type": "stream",
     "text": [
      "0 0.0507 0.0257 tensor([0.])\n",
      "1 0.0118 0.0183 tensor([0.])\n",
      "2 0.0082 0.0210 tensor([0.])\n",
      "3 0.0071 0.0215 tensor([0.])\n",
      "4 0.0063 0.0192 tensor([0.])\n",
      "5 0.0059 0.0175 tensor([0.])\n",
      "6 0.0057 0.0208 tensor([0.])\n",
      "7 0.0054 0.0210 tensor([0.])\n",
      "8 0.0053 0.0188 tensor([3.6405e-05])\n",
      "9 0.0051 0.0191 tensor([0.0021])\n",
      "10 0.0048 0.0198 tensor([0.2402])\n",
      "11 0.0046 0.0206 tensor([0.2796])\n",
      "12 0.0045 0.0214 tensor([0.2918])\n",
      "13 0.0044 0.0213 tensor([0.3249])\n",
      "14 0.0043 0.0193 tensor([0.3675])\n",
      "15 0.0041 0.0180 tensor([0.4039])\n",
      "16 0.0040 0.0205 tensor([0.3638])\n",
      "17 0.0039 0.0198 tensor([0.3835])\n",
      "18 0.0038 0.0207 tensor([0.3856])\n",
      "19 0.0037 0.0215 tensor([0.3832])\n",
      "20 0.0036 0.0192 tensor([0.4205])\n",
      "21 0.0035 0.0192 tensor([0.4277])\n",
      "22 0.0035 0.0228 tensor([0.3816])\n",
      "23 0.0034 0.0213 tensor([0.4008])\n",
      "24 0.0033 0.0195 tensor([0.4352])\n",
      "25 0.0032 0.0212 tensor([0.4116])\n",
      "26 0.0031 0.0206 tensor([0.4195])\n",
      "27 0.0031 0.0206 tensor([0.4227])\n",
      "28 0.0030 0.0202 tensor([0.4404])\n",
      "29 0.0030 0.0196 tensor([0.4545])\n",
      "30 0.0029 0.0210 tensor([0.4332])\n",
      "31 0.0028 0.0209 tensor([0.4403])\n",
      "32 0.0028 0.0207 tensor([0.4464])\n",
      "33 0.0027 0.0187 tensor([0.4731])\n",
      "34 0.0027 0.0220 tensor([0.4294])\n",
      "35 0.0026 0.0207 tensor([0.4467])\n",
      "36 0.0028 0.0178 tensor([0.4857])\n",
      "37 0.0026 0.0205 tensor([0.4494])\n",
      "38 0.0025 0.0205 tensor([0.4578])\n",
      "39 0.0024 0.0207 tensor([0.4580])\n",
      "40 0.0024 0.0201 tensor([0.4611])\n",
      "41 0.0024 0.0189 tensor([0.4782])\n",
      "42 0.0024 0.0217 tensor([0.4514])\n",
      "43 0.0023 0.0201 tensor([0.4727])\n",
      "44 0.0023 0.0198 tensor([0.4787])\n",
      "45 0.0022 0.0202 tensor([0.4742])\n",
      "46 0.0022 0.0209 tensor([0.4666])\n",
      "47 0.0021 0.0198 tensor([0.4821])\n",
      "48 0.0021 0.0175 tensor([0.5065])\n",
      "49 0.0021 0.0198 tensor([0.4877])\n",
      "\n",
      ">>>>>>>>>>>> Iter 3\n"
     ]
    },
    {
     "data": {
      "application/vnd.jupyter.widget-view+json": {
       "model_id": "6c080212cfe44db0a27208d5e5697155",
       "version_major": 2,
       "version_minor": 0
      },
      "text/plain": [
       "Epoch:   0%|          | 0/50 [00:00<?, ?it/s]"
      ]
     },
     "metadata": {},
     "output_type": "display_data"
    },
    {
     "name": "stdout",
     "output_type": "stream",
     "text": [
      "0 0.0440 0.0198 tensor([0.])\n",
      "1 0.0087 0.0156 tensor([0.])\n",
      "2 0.0069 0.0197 tensor([0.])\n",
      "3 0.0063 0.0179 tensor([0.])\n",
      "4 0.0058 0.0180 tensor([0.])\n",
      "5 0.0055 0.0166 tensor([0.])\n",
      "6 0.0052 0.0183 tensor([3.9319e-05])\n",
      "7 0.0050 0.0160 tensor([0.0007])\n",
      "8 0.0048 0.0186 tensor([0.1405])\n",
      "9 0.0046 0.0174 tensor([0.2064])\n",
      "10 0.0044 0.0187 tensor([0.2127])\n",
      "11 0.0043 0.0170 tensor([0.2893])\n",
      "12 0.0041 0.0176 tensor([0.2858])\n",
      "13 0.0041 0.0188 tensor([0.2790])\n",
      "14 0.0039 0.0156 tensor([0.3563])\n",
      "15 0.0037 0.0178 tensor([0.3355])\n",
      "16 0.0037 0.0172 tensor([0.3627])\n",
      "17 0.0035 0.0182 tensor([0.3336])\n",
      "18 0.0034 0.0170 tensor([0.3671])\n",
      "19 0.0033 0.0179 tensor([0.3642])\n",
      "20 0.0032 0.0177 tensor([0.3801])\n",
      "21 0.0031 0.0182 tensor([0.3771])\n",
      "22 0.0030 0.0189 tensor([0.3672])\n",
      "23 0.0030 0.0167 tensor([0.3975])\n",
      "24 0.0029 0.0162 tensor([0.4345])\n",
      "25 0.0029 0.0188 tensor([0.3824])\n",
      "26 0.0028 0.0156 tensor([0.4480])\n",
      "27 0.0027 0.0179 tensor([0.4148])\n",
      "28 0.0026 0.0179 tensor([0.4172])\n",
      "29 0.0026 0.0183 tensor([0.4140])\n",
      "30 0.0025 0.0178 tensor([0.4290])\n",
      "31 0.0025 0.0187 tensor([0.4202])\n",
      "32 0.0024 0.0190 tensor([0.4254])\n",
      "33 0.0023 0.0184 tensor([0.4301])\n",
      "34 0.0023 0.0192 tensor([0.4255])\n",
      "35 0.0023 0.0193 tensor([0.4230])\n",
      "36 0.0022 0.0193 tensor([0.4269])\n",
      "37 0.0022 0.0165 tensor([0.4757])\n",
      "38 0.0021 0.0183 tensor([0.4532])\n",
      "39 0.0021 0.0183 tensor([0.4538])\n",
      "40 0.0020 0.0165 tensor([0.4840])\n",
      "41 0.0020 0.0177 tensor([0.4717])\n",
      "42 0.0020 0.0142 tensor([0.5271])\n",
      "43 0.0019 0.0193 tensor([0.4574])\n",
      "44 0.0019 0.0183 tensor([0.4668])\n",
      "45 0.0019 0.0196 tensor([0.4590])\n",
      "46 0.0019 0.0212 tensor([0.4392])\n",
      "47 0.0019 0.0170 tensor([0.4919])\n",
      "48 0.0018 0.0159 tensor([0.5138])\n",
      "49 0.0018 0.0165 tensor([0.5049])\n",
      "\n",
      ">>>>>>>>>>>> Iter 4\n"
     ]
    },
    {
     "data": {
      "application/vnd.jupyter.widget-view+json": {
       "model_id": "5f9ede3f14ab4493859b6381785232b9",
       "version_major": 2,
       "version_minor": 0
      },
      "text/plain": [
       "Epoch:   0%|          | 0/50 [00:00<?, ?it/s]"
      ]
     },
     "metadata": {},
     "output_type": "display_data"
    },
    {
     "name": "stdout",
     "output_type": "stream",
     "text": [
      "0 0.0517 0.0246 tensor([0.])\n",
      "1 0.0096 0.0196 tensor([0.])\n",
      "2 0.0074 0.0190 tensor([0.])\n",
      "3 0.0064 0.0192 tensor([0.])\n",
      "4 0.0059 0.0189 tensor([0.])\n",
      "5 0.0055 0.0164 tensor([0.])\n",
      "6 0.0052 0.0155 tensor([0.])\n",
      "7 0.0050 0.0166 tensor([0.])\n",
      "8 0.0047 0.0176 tensor([0.2625])\n",
      "9 0.0045 0.0185 tensor([0.3200])\n",
      "10 0.0043 0.0180 tensor([0.3739])\n",
      "11 0.0041 0.0172 tensor([0.3829])\n",
      "12 0.0041 0.0148 tensor([0.4509])\n",
      "13 0.0038 0.0178 tensor([0.3994])\n",
      "14 0.0036 0.0168 tensor([0.4255])\n",
      "15 0.0035 0.0177 tensor([0.4241])\n",
      "16 0.0034 0.0167 tensor([0.4545])\n",
      "17 0.0032 0.0175 tensor([0.4424])\n",
      "18 0.0032 0.0165 tensor([0.4645])\n",
      "19 0.0030 0.0171 tensor([0.4600])\n",
      "20 0.0029 0.0167 tensor([0.4704])\n",
      "21 0.0028 0.0162 tensor([0.4823])\n",
      "22 0.0028 0.0199 tensor([0.4431])\n",
      "23 0.0027 0.0198 tensor([0.4450])\n",
      "24 0.0027 0.0152 tensor([0.5046])\n",
      "25 0.0025 0.0173 tensor([0.4885])\n",
      "26 0.0025 0.0170 tensor([0.4925])\n",
      "27 0.0024 0.0178 tensor([0.4888])\n",
      "28 0.0023 0.0171 tensor([0.5001])\n",
      "29 0.0023 0.0170 tensor([0.5059])\n",
      "30 0.0023 0.0165 tensor([0.5084])\n",
      "31 0.0023 0.0161 tensor([0.5199])\n",
      "32 0.0022 0.0165 tensor([0.5152])\n",
      "33 0.0021 0.0155 tensor([0.5259])\n",
      "34 0.0021 0.0139 tensor([0.5474])\n",
      "35 0.0020 0.0158 tensor([0.5281])\n",
      "36 0.0020 0.0143 tensor([0.5510])\n",
      "37 0.0019 0.0159 tensor([0.5335])\n",
      "38 0.0019 0.0137 tensor([0.5615])\n",
      "39 0.0019 0.0144 tensor([0.5545])\n",
      "40 0.0018 0.0147 tensor([0.5538])\n",
      "41 0.0018 0.0150 tensor([0.5538])\n",
      "42 0.0018 0.0171 tensor([0.5361])\n",
      "43 0.0018 0.0134 tensor([0.5700])\n",
      "44 0.0017 0.0146 tensor([0.5597])\n",
      "45 0.0018 0.0147 tensor([0.5648])\n",
      "46 0.0017 0.0158 tensor([0.5483])\n",
      "47 0.0016 0.0152 tensor([0.5646])\n",
      "48 0.0016 0.0130 tensor([0.5868])\n",
      "49 0.0016 0.0154 tensor([0.5616])\n",
      "\n",
      ">>>>>>>>>>>> Iter 5\n"
     ]
    },
    {
     "data": {
      "application/vnd.jupyter.widget-view+json": {
       "model_id": "0424d0dfd48b44b6bbaebf2dc0aadd1d",
       "version_major": 2,
       "version_minor": 0
      },
      "text/plain": [
       "Epoch:   0%|          | 0/50 [00:00<?, ?it/s]"
      ]
     },
     "metadata": {},
     "output_type": "display_data"
    },
    {
     "name": "stdout",
     "output_type": "stream",
     "text": [
      "0 0.0394 0.0199 tensor([0.])\n",
      "1 0.0079 0.0190 tensor([0.])\n",
      "2 0.0066 0.0148 tensor([0.])\n",
      "3 0.0060 0.0183 tensor([0.])\n",
      "4 0.0055 0.0175 tensor([0.])\n",
      "5 0.0052 0.0134 tensor([4.1620e-05])\n",
      "6 0.0049 0.0169 tensor([0.0040])\n",
      "7 0.0046 0.0165 tensor([0.3965])\n",
      "8 0.0043 0.0154 tensor([0.4575])\n",
      "9 0.0041 0.0176 tensor([0.4454])\n",
      "10 0.0039 0.0180 tensor([0.4579])\n",
      "11 0.0038 0.0156 tensor([0.4984])\n",
      "12 0.0036 0.0161 tensor([0.5092])\n",
      "13 0.0035 0.0167 tensor([0.5025])\n",
      "14 0.0033 0.0144 tensor([0.5496])\n",
      "15 0.0031 0.0163 tensor([0.5273])\n",
      "16 0.0030 0.0173 tensor([0.5177])\n",
      "17 0.0029 0.0172 tensor([0.5293])\n",
      "18 0.0028 0.0155 tensor([0.5576])\n",
      "19 0.0027 0.0164 tensor([0.5524])\n",
      "20 0.0026 0.0155 tensor([0.5736])\n",
      "21 0.0025 0.0177 tensor([0.5506])\n",
      "22 0.0024 0.0155 tensor([0.5774])\n",
      "23 0.0024 0.0154 tensor([0.5817])\n",
      "24 0.0023 0.0171 tensor([0.5717])\n",
      "25 0.0023 0.0162 tensor([0.5818])\n",
      "26 0.0022 0.0154 tensor([0.5892])\n",
      "27 0.0021 0.0168 tensor([0.5785])\n",
      "28 0.0021 0.0125 tensor([0.6200])\n",
      "29 0.0020 0.0156 tensor([0.5965])\n",
      "30 0.0020 0.0155 tensor([0.5964])\n",
      "31 0.0019 0.0155 tensor([0.5983])\n",
      "32 0.0019 0.0161 tensor([0.5960])\n",
      "33 0.0018 0.0170 tensor([0.5930])\n",
      "34 0.0018 0.0128 tensor([0.6272])\n",
      "35 0.0018 0.0155 tensor([0.6100])\n",
      "36 0.0017 0.0160 tensor([0.6058])\n",
      "37 0.0017 0.0135 tensor([0.6246])\n",
      "38 0.0017 0.0154 tensor([0.6152])\n",
      "39 0.0016 0.0146 tensor([0.6204])\n",
      "40 0.0016 0.0155 tensor([0.6183])\n",
      "41 0.0016 0.0145 tensor([0.6239])\n",
      "42 0.0015 0.0146 tensor([0.6226])\n",
      "43 0.0015 0.0167 tensor([0.6088])\n",
      "44 0.0015 0.0133 tensor([0.6409])\n",
      "45 0.0014 0.0152 tensor([0.6244])\n",
      "46 0.0014 0.0139 tensor([0.6333])\n",
      "47 0.0014 0.0151 tensor([0.6271])\n",
      "48 0.0013 0.0158 tensor([0.6178])\n",
      "49 0.0013 0.0154 tensor([0.6274])\n",
      "\n",
      ">>>>>>>>>>>> Iter 6\n"
     ]
    },
    {
     "data": {
      "application/vnd.jupyter.widget-view+json": {
       "model_id": "c071741f7be246acafe2f3cde8920bdd",
       "version_major": 2,
       "version_minor": 0
      },
      "text/plain": [
       "Epoch:   0%|          | 0/50 [00:00<?, ?it/s]"
      ]
     },
     "metadata": {},
     "output_type": "display_data"
    },
    {
     "name": "stdout",
     "output_type": "stream",
     "text": [
      "0 0.0257 0.0249 tensor([0.])\n",
      "1 0.0076 0.0235 tensor([0.])\n",
      "2 0.0063 0.0239 tensor([1.8993e-05])\n",
      "3 0.0055 0.0182 tensor([0.0001])\n",
      "4 0.0052 0.0201 tensor([0.1743])\n",
      "5 0.0048 0.0198 tensor([0.3048])\n",
      "6 0.0044 0.0227 tensor([0.2590])\n",
      "7 0.0043 0.0193 tensor([0.3469])\n",
      "8 0.0040 0.0227 tensor([0.3151])\n",
      "9 0.0038 0.0193 tensor([0.3713])\n",
      "10 0.0036 0.0176 tensor([0.4239])\n",
      "11 0.0034 0.0231 tensor([0.3345])\n",
      "12 0.0032 0.0223 tensor([0.3722])\n",
      "13 0.0031 0.0199 tensor([0.4108])\n",
      "14 0.0030 0.0253 tensor([0.3593])\n",
      "15 0.0029 0.0209 tensor([0.4004])\n",
      "16 0.0028 0.0203 tensor([0.4222])\n",
      "17 0.0026 0.0226 tensor([0.3924])\n",
      "18 0.0026 0.0201 tensor([0.4241])\n",
      "19 0.0026 0.0206 tensor([0.4187])\n",
      "20 0.0024 0.0209 tensor([0.4145])\n",
      "21 0.0024 0.0204 tensor([0.4406])\n",
      "22 0.0023 0.0198 tensor([0.4537])\n",
      "23 0.0022 0.0217 tensor([0.4358])\n",
      "24 0.0021 0.0215 tensor([0.4405])\n",
      "25 0.0021 0.0221 tensor([0.4368])\n",
      "26 0.0020 0.0223 tensor([0.4355])\n",
      "27 0.0020 0.0194 tensor([0.4786])\n",
      "28 0.0019 0.0210 tensor([0.4649])\n",
      "29 0.0018 0.0213 tensor([0.4591])\n",
      "30 0.0018 0.0220 tensor([0.4603])\n",
      "31 0.0018 0.0202 tensor([0.4854])\n",
      "32 0.0018 0.0218 tensor([0.4642])\n",
      "33 0.0017 0.0204 tensor([0.4878])\n",
      "34 0.0017 0.0216 tensor([0.4741])\n",
      "35 0.0016 0.0209 tensor([0.4844])\n",
      "36 0.0016 0.0223 tensor([0.4736])\n",
      "37 0.0016 0.0226 tensor([0.4746])\n",
      "38 0.0015 0.0218 tensor([0.4863])\n",
      "39 0.0015 0.0221 tensor([0.4864])\n",
      "40 0.0014 0.0236 tensor([0.4778])\n",
      "41 0.0014 0.0218 tensor([0.4948])\n",
      "42 0.0014 0.0214 tensor([0.5007])\n",
      "43 0.0014 0.0216 tensor([0.4993])\n",
      "44 0.0013 0.0224 tensor([0.4921])\n",
      "45 0.0013 0.0221 tensor([0.4974])\n",
      "46 0.0013 0.0233 tensor([0.4934])\n",
      "47 0.0013 0.0219 tensor([0.5075])\n",
      "48 0.0012 0.0230 tensor([0.4990])\n",
      "49 0.0013 0.0233 tensor([0.4950])\n",
      "\n",
      ">>>>>>>>>>>> Iter 7\n"
     ]
    },
    {
     "data": {
      "application/vnd.jupyter.widget-view+json": {
       "model_id": "2302589479f34f18890786b12c0c71fc",
       "version_major": 2,
       "version_minor": 0
      },
      "text/plain": [
       "Epoch:   0%|          | 0/50 [00:00<?, ?it/s]"
      ]
     },
     "metadata": {},
     "output_type": "display_data"
    },
    {
     "name": "stdout",
     "output_type": "stream",
     "text": [
      "0 0.0329 0.0190 tensor([0.])\n",
      "1 0.0070 0.0198 tensor([0.])\n",
      "2 0.0061 0.0192 tensor([0.])\n",
      "3 0.0055 0.0174 tensor([0.])\n",
      "4 0.0050 0.0184 tensor([6.2154e-05])\n",
      "5 0.0046 0.0182 tensor([0.3817])\n",
      "6 0.0043 0.0188 tensor([0.4158])\n",
      "7 0.0040 0.0145 tensor([0.4930])\n",
      "8 0.0038 0.0169 tensor([0.4778])\n",
      "9 0.0035 0.0163 tensor([0.4904])\n",
      "10 0.0034 0.0183 tensor([0.4829])\n",
      "11 0.0032 0.0158 tensor([0.5189])\n",
      "12 0.0030 0.0177 tensor([0.5020])\n",
      "13 0.0029 0.0182 tensor([0.5011])\n",
      "14 0.0028 0.0191 tensor([0.5006])\n",
      "15 0.0026 0.0183 tensor([0.5103])\n",
      "16 0.0025 0.0176 tensor([0.5252])\n",
      "17 0.0024 0.0200 tensor([0.4972])\n",
      "18 0.0023 0.0159 tensor([0.5405])\n",
      "19 0.0022 0.0181 tensor([0.5328])\n",
      "20 0.0022 0.0178 tensor([0.5363])\n",
      "21 0.0021 0.0160 tensor([0.5557])\n",
      "22 0.0020 0.0178 tensor([0.5423])\n",
      "23 0.0019 0.0181 tensor([0.5428])\n",
      "24 0.0019 0.0187 tensor([0.5408])\n",
      "25 0.0018 0.0179 tensor([0.5450])\n",
      "26 0.0018 0.0184 tensor([0.5453])\n",
      "27 0.0017 0.0171 tensor([0.5529])\n",
      "28 0.0017 0.0186 tensor([0.5477])\n",
      "29 0.0016 0.0186 tensor([0.5557])\n",
      "30 0.0016 0.0182 tensor([0.5494])\n",
      "31 0.0015 0.0203 tensor([0.5484])\n",
      "32 0.0015 0.0193 tensor([0.5546])\n",
      "33 0.0015 0.0196 tensor([0.5520])\n",
      "34 0.0015 0.0167 tensor([0.5668])\n",
      "35 0.0014 0.0186 tensor([0.5627])\n",
      "36 0.0014 0.0186 tensor([0.5615])\n",
      "37 0.0013 0.0177 tensor([0.5754])\n",
      "38 0.0013 0.0185 tensor([0.5677])\n",
      "39 0.0013 0.0184 tensor([0.5687])\n",
      "40 0.0013 0.0197 tensor([0.5622])\n",
      "41 0.0012 0.0187 tensor([0.5721])\n",
      "42 0.0013 0.0168 tensor([0.5872])\n",
      "43 0.0012 0.0172 tensor([0.5828])\n",
      "44 0.0012 0.0196 tensor([0.5696])\n",
      "45 0.0012 0.0202 tensor([0.5681])\n",
      "46 0.0012 0.0175 tensor([0.5780])\n",
      "47 0.0011 0.0189 tensor([0.5753])\n",
      "48 0.0011 0.0196 tensor([0.5728])\n",
      "49 0.0011 0.0193 tensor([0.5725])\n",
      "\n",
      ">>>>>>>>>>>> Iter 8\n"
     ]
    },
    {
     "data": {
      "application/vnd.jupyter.widget-view+json": {
       "model_id": "f396e4b7b8ee44e49a3df14f2a8b569e",
       "version_major": 2,
       "version_minor": 0
      },
      "text/plain": [
       "Epoch:   0%|          | 0/50 [00:00<?, ?it/s]"
      ]
     },
     "metadata": {},
     "output_type": "display_data"
    },
    {
     "name": "stdout",
     "output_type": "stream",
     "text": [
      "0 0.0219 0.0238 tensor([0.])\n",
      "1 0.0068 0.0187 tensor([0.])\n",
      "2 0.0057 0.0168 tensor([5.9431e-05])\n",
      "3 0.0051 0.0162 tensor([0.3158])\n",
      "4 0.0046 0.0149 tensor([0.3878])\n",
      "5 0.0042 0.0167 tensor([0.3863])\n",
      "6 0.0039 0.0170 tensor([0.4178])\n",
      "7 0.0037 0.0181 tensor([0.4177])\n",
      "8 0.0034 0.0160 tensor([0.4506])\n",
      "9 0.0033 0.0155 tensor([0.4656])\n",
      "10 0.0030 0.0140 tensor([0.4974])\n",
      "11 0.0029 0.0145 tensor([0.4934])\n",
      "12 0.0028 0.0164 tensor([0.4747])\n",
      "13 0.0026 0.0147 tensor([0.5012])\n",
      "14 0.0025 0.0160 tensor([0.4873])\n",
      "15 0.0024 0.0151 tensor([0.5067])\n",
      "16 0.0023 0.0153 tensor([0.5181])\n",
      "17 0.0022 0.0142 tensor([0.5358])\n",
      "18 0.0022 0.0142 tensor([0.5381])\n",
      "19 0.0021 0.0140 tensor([0.5402])\n",
      "20 0.0020 0.0148 tensor([0.5401])\n",
      "21 0.0019 0.0138 tensor([0.5487])\n",
      "22 0.0018 0.0153 tensor([0.5392])\n",
      "23 0.0018 0.0122 tensor([0.5831])\n",
      "24 0.0017 0.0151 tensor([0.5430])\n",
      "25 0.0017 0.0141 tensor([0.5607])\n",
      "26 0.0016 0.0149 tensor([0.5536])\n",
      "27 0.0015 0.0138 tensor([0.5685])\n",
      "28 0.0015 0.0099 tensor([0.6192])\n",
      "29 0.0015 0.0136 tensor([0.5776])\n",
      "30 0.0014 0.0155 tensor([0.5556])\n",
      "31 0.0014 0.0144 tensor([0.5679])\n",
      "32 0.0014 0.0140 tensor([0.5786])\n",
      "33 0.0013 0.0134 tensor([0.5935])\n",
      "34 0.0013 0.0140 tensor([0.5826])\n",
      "35 0.0013 0.0139 tensor([0.5798])\n",
      "36 0.0013 0.0132 tensor([0.5970])\n",
      "37 0.0013 0.0136 tensor([0.5947])\n",
      "38 0.0012 0.0141 tensor([0.5805])\n",
      "39 0.0012 0.0129 tensor([0.6045])\n",
      "40 0.0011 0.0137 tensor([0.5965])\n",
      "41 0.0011 0.0138 tensor([0.5967])\n",
      "42 0.0011 0.0127 tensor([0.6093])\n",
      "43 0.0011 0.0122 tensor([0.6114])\n",
      "44 0.0011 0.0135 tensor([0.5998])\n",
      "45 0.0010 0.0133 tensor([0.6031])\n",
      "46 0.0010 0.0137 tensor([0.6005])\n",
      "47 0.0010 0.0136 tensor([0.6015])\n",
      "48 0.0010 0.0133 tensor([0.6088])\n",
      "49 0.0010 0.0123 tensor([0.6084])\n",
      "\n",
      ">>>>>>>>>>>> Iter 9\n"
     ]
    },
    {
     "data": {
      "application/vnd.jupyter.widget-view+json": {
       "model_id": "ecc219d598624452a792be133d2718ae",
       "version_major": 2,
       "version_minor": 0
      },
      "text/plain": [
       "Epoch:   0%|          | 0/50 [00:00<?, ?it/s]"
      ]
     },
     "metadata": {},
     "output_type": "display_data"
    },
    {
     "name": "stdout",
     "output_type": "stream",
     "text": [
      "0 0.0263 0.0174 tensor([0.])\n",
      "1 0.0067 0.0178 tensor([0.])\n",
      "2 0.0057 0.0191 tensor([0.])\n",
      "3 0.0051 0.0161 tensor([0.0122])\n",
      "4 0.0046 0.0158 tensor([0.4458])\n",
      "5 0.0042 0.0184 tensor([0.4480])\n",
      "6 0.0039 0.0162 tensor([0.4963])\n",
      "7 0.0036 0.0159 tensor([0.5122])\n",
      "8 0.0033 0.0192 tensor([0.4781])\n",
      "9 0.0032 0.0154 tensor([0.5321])\n",
      "10 0.0029 0.0178 tensor([0.5153])\n",
      "11 0.0028 0.0189 tensor([0.5041])\n",
      "12 0.0027 0.0187 tensor([0.5153])\n",
      "13 0.0025 0.0185 tensor([0.5223])\n",
      "14 0.0024 0.0187 tensor([0.5249])\n",
      "15 0.0023 0.0171 tensor([0.5474])\n",
      "16 0.0022 0.0141 tensor([0.5752])\n",
      "17 0.0021 0.0165 tensor([0.5549])\n",
      "18 0.0020 0.0183 tensor([0.5428])\n",
      "19 0.0020 0.0168 tensor([0.5523])\n",
      "20 0.0019 0.0164 tensor([0.5645])\n",
      "21 0.0018 0.0183 tensor([0.5488])\n",
      "22 0.0018 0.0172 tensor([0.5659])\n",
      "23 0.0017 0.0166 tensor([0.5667])\n",
      "24 0.0016 0.0174 tensor([0.5693])\n",
      "25 0.0016 0.0178 tensor([0.5667])\n",
      "26 0.0016 0.0176 tensor([0.5716])\n",
      "27 0.0015 0.0178 tensor([0.5804])\n",
      "28 0.0015 0.0141 tensor([0.5984])\n",
      "29 0.0014 0.0183 tensor([0.5688])\n",
      "30 0.0014 0.0184 tensor([0.5722])\n",
      "31 0.0014 0.0156 tensor([0.5910])\n",
      "32 0.0014 0.0174 tensor([0.5825])\n",
      "33 0.0013 0.0175 tensor([0.5761])\n",
      "34 0.0013 0.0191 tensor([0.5725])\n",
      "35 0.0012 0.0180 tensor([0.5858])\n",
      "36 0.0012 0.0187 tensor([0.5804])\n",
      "37 0.0012 0.0168 tensor([0.5932])\n",
      "38 0.0011 0.0183 tensor([0.5842])\n",
      "39 0.0011 0.0182 tensor([0.5810])\n",
      "40 0.0011 0.0181 tensor([0.5908])\n",
      "41 0.0011 0.0182 tensor([0.5913])\n",
      "42 0.0011 0.0178 tensor([0.5929])\n",
      "43 0.0011 0.0194 tensor([0.5859])\n",
      "44 0.0011 0.0183 tensor([0.5891])\n",
      "45 0.0010 0.0172 tensor([0.5987])\n",
      "46 0.0011 0.0173 tensor([0.5988])\n",
      "47 0.0010 0.0185 tensor([0.5984])\n",
      "48 0.0010 0.0180 tensor([0.5944])\n",
      "49 0.0009 0.0186 tensor([0.5921])\n",
      "\n"
     ]
    }
   ],
   "source": [
    "history = []\n",
    "for n_iter in range(10):\n",
    "    print(f'>>>>>>>>>>>> Iter {n_iter}')\n",
    "    del model\n",
    "    del optimizer\n",
    "    gc.collect()\n",
    "    labeled_idxs = idxs[:N_step*(n_iter+1)]\n",
    "    history.append(labeled_idxs)\n",
    "    ds_train = AL.PartialDs(ds_full, labeled_idxs)\n",
    "    dl_train = torch.utils.data.DataLoader(ds_train, batch_size=batch_size, shuffle=True, drop_last=True)\n",
    "\n",
    "    model = presentation.create_model().to(device)\n",
    "    optimizer = presentation.create_optimizer(model)\n",
    "\n",
    "    num_epochs = 50\n",
    "    for epoch in tqdm(range(num_epochs), desc='Epoch'):\n",
    "        trn_loss = utils.train(dl_train, loss_fn, model, optimizer)\n",
    "        val_loss, val_IoUs = segmentation.evaluate(dl_test, loss_fn, model)\n",
    "        print(epoch, f'{trn_loss:.4f}', f'{val_loss:.4f}', val_IoUs)\n",
    "    print()"
   ]
  },
  {
   "cell_type": "code",
   "execution_count": null,
   "id": "39e1c8bb-1b00-4ff2-96ca-0c5d4856ae72",
   "metadata": {},
   "outputs": [],
   "source": []
  }
 ],
 "metadata": {
  "kernelspec": {
   "display_name": "stenoses",
   "language": "python",
   "name": "stenoses"
  },
  "language_info": {
   "codemirror_mode": {
    "name": "ipython",
    "version": 3
   },
   "file_extension": ".py",
   "mimetype": "text/x-python",
   "name": "python",
   "nbconvert_exporter": "python",
   "pygments_lexer": "ipython3",
   "version": "3.10.15"
  }
 },
 "nbformat": 4,
 "nbformat_minor": 5
}
