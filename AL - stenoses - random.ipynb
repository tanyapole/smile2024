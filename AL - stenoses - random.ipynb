{
 "cells": [
  {
   "cell_type": "code",
   "execution_count": 1,
   "id": "39058e05-8f10-4cd8-8658-ae33981f9209",
   "metadata": {},
   "outputs": [],
   "source": [
    "import gc\n",
    "import numpy as np\n",
    "import torch\n",
    "import torch.nn as nn\n",
    "import segmentation_models_pytorch as smp\n",
    "import utils, segmentation, AL, presentation\n",
    "from tqdm.auto import tqdm"
   ]
  },
  {
   "cell_type": "code",
   "execution_count": 2,
   "id": "95b179fd-bf2d-4eb6-b32f-dbedec5565cd",
   "metadata": {},
   "outputs": [
    {
     "name": "stdout",
     "output_type": "stream",
     "text": [
      "cuda:1\n"
     ]
    }
   ],
   "source": [
    "device = torch.device('cuda:1') if torch.cuda.is_available() else torch.device('cpu')\n",
    "print(device)"
   ]
  },
  {
   "cell_type": "code",
   "execution_count": 3,
   "id": "f9eaa47f-929a-43d5-b4af-ed66b2fd65dc",
   "metadata": {},
   "outputs": [],
   "source": [
    "ds_full = segmentation.SegmentationDataset('./cut_stenoses_data/train/', 2)\n",
    "ds_test = segmentation.SegmentationDataset('./cut_stenoses_data/test/', 2)\n",
    "\n",
    "batch_size = 8\n",
    "dl_full = torch.utils.data.DataLoader(ds_full, batch_size=batch_size, shuffle=False, drop_last=False)\n",
    "dl_test = torch.utils.data.DataLoader(ds_test, batch_size=batch_size, shuffle=False, drop_last=False)"
   ]
  },
  {
   "cell_type": "code",
   "execution_count": 4,
   "id": "30247f1b-e743-4580-b01f-c539f36b0de5",
   "metadata": {},
   "outputs": [],
   "source": [
    "# w = 0.\n",
    "# for imgs, masks in dl_full:\n",
    "#     w += masks.sum() / (masks.numel() * len(dl_full))\n",
    "# loss_fn = nn.CrossEntropyLoss(weight=torch.Tensor([1 / (1-w), 1/ w])).to(device)\n",
    "loss_fn = nn.CrossEntropyLoss()"
   ]
  },
  {
   "cell_type": "code",
   "execution_count": 5,
   "id": "a86ad94b-09ac-4471-9fc0-cedf14ad655c",
   "metadata": {},
   "outputs": [],
   "source": [
    "model = presentation.create_model().to(device)\n",
    "optimizer = presentation.create_optimizer(model)"
   ]
  },
  {
   "cell_type": "code",
   "execution_count": 6,
   "id": "b118463a-6223-4a06-852e-85f744554f14",
   "metadata": {},
   "outputs": [
    {
     "data": {
      "text/plain": [
       "(598, 59)"
      ]
     },
     "execution_count": 6,
     "metadata": {},
     "output_type": "execute_result"
    }
   ],
   "source": [
    "N = len(ds_full)\n",
    "N_step = int(N*0.1)\n",
    "N, N_step"
   ]
  },
  {
   "cell_type": "code",
   "execution_count": 7,
   "id": "c4553031-2dc7-404c-9570-833cf8467a68",
   "metadata": {},
   "outputs": [],
   "source": [
    "idxs = list(range(N))\n",
    "np.random.seed(0)\n",
    "np.random.shuffle(idxs)"
   ]
  },
  {
   "cell_type": "code",
   "execution_count": 8,
   "id": "88c04902-bd67-4ff2-b738-eab385eeef07",
   "metadata": {},
   "outputs": [
    {
     "name": "stdout",
     "output_type": "stream",
     "text": [
      ">>>>>>>>>>>> Iter 0\n"
     ]
    },
    {
     "data": {
      "application/vnd.jupyter.widget-view+json": {
       "model_id": "c0551d6f6528499c9c90d6b1176e3ecd",
       "version_major": 2,
       "version_minor": 0
      },
      "text/plain": [
       "Epoch:   0%|          | 0/30 [00:00<?, ?it/s]"
      ]
     },
     "metadata": {},
     "output_type": "display_data"
    },
    {
     "name": "stdout",
     "output_type": "stream",
     "text": [
      "0 0.1318 0.0585 tensor([0.])\n",
      "1 0.0187 0.0302 tensor([0.])\n",
      "2 0.0136 0.0269 tensor([0.])\n",
      "3 0.0112 0.0245 tensor([0.])\n",
      "4 0.0108 0.0243 tensor([0.])\n",
      "5 0.0092 0.0267 tensor([0.])\n",
      "6 0.0081 0.0274 tensor([0.])\n",
      "7 0.0077 0.0294 tensor([0.])\n",
      "8 0.0078 0.0288 tensor([0.])\n",
      "9 0.0071 0.0298 tensor([0.])\n",
      "10 0.0069 0.0289 tensor([0.])\n",
      "11 0.0071 0.0288 tensor([0.])\n",
      "12 0.0067 0.0314 tensor([0.])\n",
      "13 0.0064 0.0311 tensor([0.])\n",
      "14 0.0062 0.0310 tensor([0.])\n",
      "15 0.0062 0.0318 tensor([0.])\n",
      "16 0.0060 0.0322 tensor([0.])\n",
      "17 0.0060 0.0316 tensor([0.])\n",
      "18 0.0059 0.0338 tensor([0.])\n",
      "19 0.0058 0.0329 tensor([0.])\n",
      "20 0.0058 0.0346 tensor([0.])\n",
      "21 0.0057 0.0335 tensor([0.])\n",
      "22 0.0056 0.0342 tensor([0.])\n",
      "23 0.0055 0.0339 tensor([0.])\n",
      "24 0.0055 0.0350 tensor([0.])\n",
      "25 0.0054 0.0350 tensor([0.])\n",
      "26 0.0053 0.0338 tensor([0.])\n",
      "27 0.0054 0.0347 tensor([0.])\n",
      "28 0.0052 0.0354 tensor([0.])\n",
      "29 0.0052 0.0351 tensor([0.])\n",
      "\n",
      ">>>>>>>>>>>> Iter 1\n"
     ]
    },
    {
     "data": {
      "application/vnd.jupyter.widget-view+json": {
       "model_id": "d4f731d716d747609f2346cae763cfea",
       "version_major": 2,
       "version_minor": 0
      },
      "text/plain": [
       "Epoch:   0%|          | 0/30 [00:00<?, ?it/s]"
      ]
     },
     "metadata": {},
     "output_type": "display_data"
    },
    {
     "name": "stdout",
     "output_type": "stream",
     "text": [
      "0 0.1129 0.0288 tensor([0.])\n",
      "1 0.0160 0.0220 tensor([0.])\n",
      "2 0.0120 0.0235 tensor([0.])\n",
      "3 0.0099 0.0217 tensor([0.])\n",
      "4 0.0087 0.0202 tensor([0.])\n",
      "5 0.0077 0.0231 tensor([0.])\n",
      "6 0.0073 0.0196 tensor([0.])\n",
      "7 0.0072 0.0205 tensor([0.])\n",
      "8 0.0068 0.0220 tensor([0.])\n",
      "9 0.0065 0.0193 tensor([0.])\n",
      "10 0.0063 0.0236 tensor([0.])\n",
      "11 0.0061 0.0228 tensor([0.])\n",
      "12 0.0059 0.0217 tensor([0.])\n",
      "13 0.0057 0.0226 tensor([0.])\n",
      "14 0.0057 0.0232 tensor([0.])\n",
      "15 0.0056 0.0232 tensor([0.])\n",
      "16 0.0054 0.0232 tensor([0.])\n",
      "17 0.0053 0.0234 tensor([0.])\n",
      "18 0.0052 0.0215 tensor([0.])\n",
      "19 0.0051 0.0210 tensor([0.])\n",
      "20 0.0049 0.0213 tensor([0.])\n",
      "21 0.0048 0.0217 tensor([0.0004])\n",
      "22 0.0047 0.0214 tensor([0.2400])\n",
      "23 0.0046 0.0202 tensor([0.2828])\n",
      "24 0.0046 0.0207 tensor([0.2961])\n",
      "25 0.0045 0.0217 tensor([0.3009])\n",
      "26 0.0045 0.0208 tensor([0.3123])\n",
      "27 0.0043 0.0205 tensor([0.3283])\n",
      "28 0.0043 0.0187 tensor([0.3303])\n",
      "29 0.0042 0.0211 tensor([0.3179])\n",
      "\n",
      ">>>>>>>>>>>> Iter 2\n"
     ]
    },
    {
     "data": {
      "application/vnd.jupyter.widget-view+json": {
       "model_id": "79939d4f12e346118e2014dd2b7db44e",
       "version_major": 2,
       "version_minor": 0
      },
      "text/plain": [
       "Epoch:   0%|          | 0/30 [00:00<?, ?it/s]"
      ]
     },
     "metadata": {},
     "output_type": "display_data"
    },
    {
     "name": "stdout",
     "output_type": "stream",
     "text": [
      "0 0.0831 0.0265 tensor([0.])\n",
      "1 0.0124 0.0232 tensor([0.])\n",
      "2 0.0086 0.0247 tensor([0.])\n",
      "3 0.0077 0.0248 tensor([0.])\n",
      "4 0.0070 0.0252 tensor([0.])\n",
      "5 0.0065 0.0261 tensor([0.])\n",
      "6 0.0062 0.0280 tensor([0.])\n",
      "7 0.0059 0.0285 tensor([0.])\n",
      "8 0.0056 0.0287 tensor([0.])\n",
      "9 0.0055 0.0283 tensor([0.])\n",
      "10 0.0054 0.0261 tensor([0.])\n",
      "11 0.0053 0.0283 tensor([0.])\n",
      "12 0.0051 0.0276 tensor([0.])\n",
      "13 0.0048 0.0284 tensor([0.0007])\n",
      "14 0.0047 0.0284 tensor([0.2103])\n",
      "15 0.0045 0.0280 tensor([0.2477])\n",
      "16 0.0044 0.0278 tensor([0.2889])\n",
      "17 0.0043 0.0266 tensor([0.3095])\n",
      "18 0.0041 0.0266 tensor([0.3277])\n",
      "19 0.0041 0.0297 tensor([0.3084])\n",
      "20 0.0040 0.0276 tensor([0.3285])\n",
      "21 0.0038 0.0272 tensor([0.3483])\n",
      "22 0.0037 0.0275 tensor([0.3433])\n",
      "23 0.0037 0.0278 tensor([0.3454])\n",
      "24 0.0035 0.0275 tensor([0.3568])\n",
      "25 0.0035 0.0278 tensor([0.3631])\n",
      "26 0.0034 0.0256 tensor([0.3790])\n",
      "27 0.0033 0.0271 tensor([0.3731])\n",
      "28 0.0032 0.0273 tensor([0.3789])\n",
      "29 0.0032 0.0261 tensor([0.3927])\n",
      "\n",
      ">>>>>>>>>>>> Iter 3\n"
     ]
    },
    {
     "data": {
      "application/vnd.jupyter.widget-view+json": {
       "model_id": "9610db8b19764f8494a4a3a8b47ece27",
       "version_major": 2,
       "version_minor": 0
      },
      "text/plain": [
       "Epoch:   0%|          | 0/30 [00:00<?, ?it/s]"
      ]
     },
     "metadata": {},
     "output_type": "display_data"
    },
    {
     "name": "stdout",
     "output_type": "stream",
     "text": [
      "0 0.0373 0.0238 tensor([0.])\n",
      "1 0.0097 0.0254 tensor([0.])\n",
      "2 0.0077 0.0282 tensor([0.])\n",
      "3 0.0068 0.0253 tensor([0.])\n",
      "4 0.0062 0.0278 tensor([0.])\n",
      "5 0.0057 0.0267 tensor([0.])\n",
      "6 0.0055 0.0280 tensor([0.])\n",
      "7 0.0052 0.0269 tensor([0.0009])\n",
      "8 0.0050 0.0264 tensor([0.2215])\n",
      "9 0.0048 0.0298 tensor([0.2063])\n",
      "10 0.0046 0.0289 tensor([0.2342])\n",
      "11 0.0045 0.0280 tensor([0.2517])\n",
      "12 0.0043 0.0288 tensor([0.2724])\n",
      "13 0.0042 0.0282 tensor([0.2887])\n",
      "14 0.0040 0.0275 tensor([0.2871])\n",
      "15 0.0039 0.0283 tensor([0.3096])\n",
      "16 0.0038 0.0283 tensor([0.3034])\n",
      "17 0.0036 0.0300 tensor([0.3029])\n",
      "18 0.0035 0.0293 tensor([0.3237])\n",
      "19 0.0034 0.0299 tensor([0.3103])\n",
      "20 0.0033 0.0286 tensor([0.3183])\n",
      "21 0.0033 0.0287 tensor([0.3284])\n",
      "22 0.0032 0.0287 tensor([0.3277])\n",
      "23 0.0032 0.0290 tensor([0.3306])\n",
      "24 0.0031 0.0272 tensor([0.3360])\n",
      "25 0.0030 0.0282 tensor([0.3348])\n",
      "26 0.0029 0.0290 tensor([0.3324])\n",
      "27 0.0028 0.0285 tensor([0.3356])\n",
      "28 0.0028 0.0276 tensor([0.3380])\n",
      "29 0.0027 0.0283 tensor([0.3415])\n",
      "\n",
      ">>>>>>>>>>>> Iter 4\n"
     ]
    },
    {
     "data": {
      "application/vnd.jupyter.widget-view+json": {
       "model_id": "ec1b46311d5c48b4963fc7d4af14f88d",
       "version_major": 2,
       "version_minor": 0
      },
      "text/plain": [
       "Epoch:   0%|          | 0/30 [00:00<?, ?it/s]"
      ]
     },
     "metadata": {},
     "output_type": "display_data"
    },
    {
     "name": "stdout",
     "output_type": "stream",
     "text": [
      "0 0.0484 0.0220 tensor([0.])\n",
      "1 0.0083 0.0206 tensor([0.])\n",
      "2 0.0070 0.0160 tensor([0.])\n",
      "3 0.0065 0.0201 tensor([0.])\n",
      "4 0.0059 0.0194 tensor([0.])\n",
      "5 0.0058 0.0211 tensor([0.])\n",
      "6 0.0053 0.0224 tensor([0.])\n",
      "7 0.0050 0.0201 tensor([0.])\n",
      "8 0.0048 0.0208 tensor([0.2244])\n",
      "9 0.0046 0.0191 tensor([0.2887])\n",
      "10 0.0044 0.0178 tensor([0.3111])\n",
      "11 0.0042 0.0202 tensor([0.3120])\n",
      "12 0.0040 0.0194 tensor([0.3446])\n",
      "13 0.0039 0.0154 tensor([0.4047])\n",
      "14 0.0038 0.0122 tensor([0.4793])\n",
      "15 0.0037 0.0189 tensor([0.3638])\n",
      "16 0.0034 0.0172 tensor([0.4167])\n",
      "17 0.0033 0.0179 tensor([0.3960])\n",
      "18 0.0033 0.0176 tensor([0.4206])\n",
      "19 0.0032 0.0182 tensor([0.4176])\n",
      "20 0.0030 0.0177 tensor([0.4308])\n",
      "21 0.0030 0.0158 tensor([0.4544])\n",
      "22 0.0029 0.0196 tensor([0.4089])\n",
      "23 0.0027 0.0163 tensor([0.4526])\n",
      "24 0.0027 0.0162 tensor([0.4606])\n",
      "25 0.0026 0.0185 tensor([0.4349])\n",
      "26 0.0026 0.0175 tensor([0.4618])\n",
      "27 0.0025 0.0172 tensor([0.4636])\n",
      "28 0.0024 0.0177 tensor([0.4646])\n",
      "29 0.0024 0.0162 tensor([0.4846])\n",
      "\n",
      ">>>>>>>>>>>> Iter 5\n"
     ]
    },
    {
     "data": {
      "application/vnd.jupyter.widget-view+json": {
       "model_id": "87353366b9384f22a85438872aaaf477",
       "version_major": 2,
       "version_minor": 0
      },
      "text/plain": [
       "Epoch:   0%|          | 0/30 [00:00<?, ?it/s]"
      ]
     },
     "metadata": {},
     "output_type": "display_data"
    },
    {
     "name": "stdout",
     "output_type": "stream",
     "text": [
      "0 0.0267 0.0240 tensor([0.])\n",
      "1 0.0085 0.0191 tensor([0.])\n",
      "2 0.0068 0.0209 tensor([0.])\n",
      "3 0.0060 0.0205 tensor([0.])\n",
      "4 0.0056 0.0177 tensor([0.0002])\n",
      "5 0.0052 0.0208 tensor([0.1869])\n",
      "6 0.0050 0.0177 tensor([0.2849])\n",
      "7 0.0048 0.0178 tensor([0.3208])\n",
      "8 0.0044 0.0181 tensor([0.3442])\n",
      "9 0.0042 0.0174 tensor([0.3760])\n",
      "10 0.0041 0.0184 tensor([0.3648])\n",
      "11 0.0039 0.0161 tensor([0.4061])\n",
      "12 0.0037 0.0178 tensor([0.3949])\n",
      "13 0.0036 0.0164 tensor([0.4305])\n",
      "14 0.0034 0.0156 tensor([0.4476])\n",
      "15 0.0033 0.0165 tensor([0.4431])\n",
      "16 0.0032 0.0172 tensor([0.4377])\n",
      "17 0.0030 0.0167 tensor([0.4545])\n",
      "18 0.0031 0.0160 tensor([0.4665])\n",
      "19 0.0029 0.0138 tensor([0.5014])\n",
      "20 0.0028 0.0161 tensor([0.4762])\n",
      "21 0.0027 0.0161 tensor([0.4779])\n",
      "22 0.0026 0.0153 tensor([0.4968])\n",
      "23 0.0025 0.0164 tensor([0.4804])\n",
      "24 0.0025 0.0162 tensor([0.4871])\n",
      "25 0.0024 0.0153 tensor([0.4998])\n",
      "26 0.0023 0.0137 tensor([0.5277])\n",
      "27 0.0023 0.0172 tensor([0.4894])\n",
      "28 0.0022 0.0157 tensor([0.5059])\n",
      "29 0.0022 0.0177 tensor([0.4837])\n",
      "\n",
      ">>>>>>>>>>>> Iter 6\n"
     ]
    },
    {
     "data": {
      "application/vnd.jupyter.widget-view+json": {
       "model_id": "c84f434f8af440c0b00c6e89d17bf079",
       "version_major": 2,
       "version_minor": 0
      },
      "text/plain": [
       "Epoch:   0%|          | 0/30 [00:00<?, ?it/s]"
      ]
     },
     "metadata": {},
     "output_type": "display_data"
    },
    {
     "name": "stdout",
     "output_type": "stream",
     "text": [
      "0 0.0267 0.0237 tensor([0.])\n",
      "1 0.0078 0.0243 tensor([0.])\n",
      "2 0.0065 0.0248 tensor([0.])\n",
      "3 0.0058 0.0275 tensor([0.])\n",
      "4 0.0054 0.0251 tensor([0.0025])\n",
      "5 0.0050 0.0260 tensor([0.2460])\n",
      "6 0.0047 0.0253 tensor([0.2809])\n",
      "7 0.0044 0.0276 tensor([0.2931])\n",
      "8 0.0042 0.0279 tensor([0.3069])\n",
      "9 0.0040 0.0274 tensor([0.3229])\n",
      "10 0.0038 0.0279 tensor([0.3354])\n",
      "11 0.0036 0.0272 tensor([0.3387])\n",
      "12 0.0035 0.0244 tensor([0.3747])\n",
      "13 0.0033 0.0263 tensor([0.3548])\n",
      "14 0.0032 0.0264 tensor([0.3635])\n",
      "15 0.0031 0.0261 tensor([0.3726])\n",
      "16 0.0029 0.0252 tensor([0.3860])\n",
      "17 0.0028 0.0250 tensor([0.3897])\n",
      "18 0.0027 0.0296 tensor([0.3515])\n",
      "19 0.0027 0.0284 tensor([0.3704])\n",
      "20 0.0025 0.0271 tensor([0.3853])\n",
      "21 0.0024 0.0273 tensor([0.3871])\n",
      "22 0.0024 0.0275 tensor([0.3949])\n",
      "23 0.0023 0.0260 tensor([0.4017])\n",
      "24 0.0022 0.0282 tensor([0.3961])\n",
      "25 0.0022 0.0271 tensor([0.4120])\n",
      "26 0.0021 0.0277 tensor([0.4121])\n",
      "27 0.0021 0.0272 tensor([0.4113])\n",
      "28 0.0020 0.0273 tensor([0.4203])\n",
      "29 0.0019 0.0277 tensor([0.4199])\n",
      "\n",
      ">>>>>>>>>>>> Iter 7\n"
     ]
    },
    {
     "data": {
      "application/vnd.jupyter.widget-view+json": {
       "model_id": "babce1518b2747c99806c06c0b434794",
       "version_major": 2,
       "version_minor": 0
      },
      "text/plain": [
       "Epoch:   0%|          | 0/30 [00:00<?, ?it/s]"
      ]
     },
     "metadata": {},
     "output_type": "display_data"
    },
    {
     "name": "stdout",
     "output_type": "stream",
     "text": [
      "0 0.0247 0.0215 tensor([0.])\n",
      "1 0.0077 0.0222 tensor([0.])\n",
      "2 0.0063 0.0230 tensor([0.])\n",
      "3 0.0056 0.0203 tensor([0.])\n",
      "4 0.0051 0.0215 tensor([0.2519])\n",
      "5 0.0047 0.0226 tensor([0.2996])\n",
      "6 0.0044 0.0214 tensor([0.3359])\n",
      "7 0.0041 0.0222 tensor([0.3440])\n",
      "8 0.0039 0.0194 tensor([0.3776])\n",
      "9 0.0037 0.0180 tensor([0.4041])\n",
      "10 0.0035 0.0230 tensor([0.3626])\n",
      "11 0.0033 0.0219 tensor([0.3789])\n",
      "12 0.0031 0.0209 tensor([0.3923])\n",
      "13 0.0030 0.0221 tensor([0.3893])\n",
      "14 0.0029 0.0227 tensor([0.3913])\n",
      "15 0.0028 0.0213 tensor([0.4050])\n",
      "16 0.0027 0.0211 tensor([0.4120])\n",
      "17 0.0026 0.0221 tensor([0.4033])\n",
      "18 0.0025 0.0211 tensor([0.4254])\n",
      "19 0.0024 0.0204 tensor([0.4276])\n",
      "20 0.0023 0.0216 tensor([0.4249])\n",
      "21 0.0022 0.0225 tensor([0.4176])\n",
      "22 0.0022 0.0217 tensor([0.4214])\n",
      "23 0.0021 0.0223 tensor([0.4298])\n",
      "24 0.0020 0.0204 tensor([0.4360])\n",
      "25 0.0020 0.0217 tensor([0.4342])\n",
      "26 0.0019 0.0230 tensor([0.4258])\n",
      "27 0.0019 0.0213 tensor([0.4415])\n",
      "28 0.0018 0.0218 tensor([0.4396])\n",
      "29 0.0018 0.0214 tensor([0.4396])\n",
      "\n",
      ">>>>>>>>>>>> Iter 8\n"
     ]
    },
    {
     "data": {
      "application/vnd.jupyter.widget-view+json": {
       "model_id": "d3d7d434d5d248e789d096c3a4a3a263",
       "version_major": 2,
       "version_minor": 0
      },
      "text/plain": [
       "Epoch:   0%|          | 0/30 [00:00<?, ?it/s]"
      ]
     },
     "metadata": {},
     "output_type": "display_data"
    },
    {
     "name": "stdout",
     "output_type": "stream",
     "text": [
      "0 0.0264 0.0223 tensor([0.])\n",
      "1 0.0076 0.0234 tensor([0.])\n",
      "2 0.0064 0.0224 tensor([0.])\n",
      "3 0.0056 0.0216 tensor([5.3333e-05])\n",
      "4 0.0052 0.0203 tensor([0.1929])\n",
      "5 0.0047 0.0168 tensor([0.3121])\n",
      "6 0.0044 0.0192 tensor([0.2932])\n",
      "7 0.0041 0.0203 tensor([0.3240])\n",
      "8 0.0039 0.0196 tensor([0.3307])\n",
      "9 0.0036 0.0184 tensor([0.3679])\n",
      "10 0.0034 0.0197 tensor([0.3531])\n",
      "11 0.0032 0.0207 tensor([0.3508])\n",
      "12 0.0030 0.0202 tensor([0.3717])\n",
      "13 0.0029 0.0226 tensor([0.3495])\n",
      "14 0.0028 0.0153 tensor([0.4575])\n",
      "15 0.0027 0.0208 tensor([0.3771])\n",
      "16 0.0025 0.0208 tensor([0.3828])\n",
      "17 0.0024 0.0193 tensor([0.4089])\n",
      "18 0.0024 0.0206 tensor([0.3939])\n",
      "19 0.0022 0.0172 tensor([0.4440])\n",
      "20 0.0022 0.0197 tensor([0.4142])\n",
      "21 0.0022 0.0195 tensor([0.4154])\n",
      "22 0.0020 0.0170 tensor([0.4472])\n",
      "23 0.0020 0.0192 tensor([0.4323])\n",
      "24 0.0019 0.0216 tensor([0.4056])\n",
      "25 0.0019 0.0186 tensor([0.4429])\n",
      "26 0.0017 0.0196 tensor([0.4379])\n",
      "27 0.0017 0.0190 tensor([0.4456])\n",
      "28 0.0017 0.0170 tensor([0.4695])\n",
      "29 0.0016 0.0193 tensor([0.4422])\n",
      "\n",
      ">>>>>>>>>>>> Iter 9\n"
     ]
    },
    {
     "data": {
      "application/vnd.jupyter.widget-view+json": {
       "model_id": "2f76651023b74113a665590fc9709be5",
       "version_major": 2,
       "version_minor": 0
      },
      "text/plain": [
       "Epoch:   0%|          | 0/30 [00:00<?, ?it/s]"
      ]
     },
     "metadata": {},
     "output_type": "display_data"
    },
    {
     "name": "stdout",
     "output_type": "stream",
     "text": [
      "0 0.0307 0.0169 tensor([0.])\n",
      "1 0.0071 0.0156 tensor([0.])\n",
      "2 0.0062 0.0172 tensor([0.])\n",
      "3 0.0054 0.0173 tensor([0.])\n",
      "4 0.0049 0.0150 tensor([0.3602])\n",
      "5 0.0045 0.0177 tensor([0.3792])\n",
      "6 0.0042 0.0166 tensor([0.4174])\n",
      "7 0.0039 0.0151 tensor([0.4492])\n",
      "8 0.0036 0.0148 tensor([0.4581])\n",
      "9 0.0034 0.0177 tensor([0.4312])\n",
      "10 0.0032 0.0165 tensor([0.4523])\n",
      "11 0.0030 0.0167 tensor([0.4587])\n",
      "12 0.0029 0.0170 tensor([0.4554])\n",
      "13 0.0027 0.0167 tensor([0.4604])\n",
      "14 0.0026 0.0170 tensor([0.4635])\n",
      "15 0.0025 0.0163 tensor([0.4699])\n",
      "16 0.0023 0.0152 tensor([0.4889])\n",
      "17 0.0023 0.0157 tensor([0.4877])\n",
      "18 0.0022 0.0166 tensor([0.4803])\n",
      "19 0.0021 0.0177 tensor([0.4581])\n",
      "20 0.0021 0.0159 tensor([0.4935])\n",
      "21 0.0019 0.0154 tensor([0.5016])\n",
      "22 0.0019 0.0151 tensor([0.5149])\n",
      "23 0.0018 0.0149 tensor([0.5210])\n",
      "24 0.0018 0.0148 tensor([0.5159])\n",
      "25 0.0017 0.0154 tensor([0.5127])\n",
      "26 0.0016 0.0152 tensor([0.5166])\n",
      "27 0.0016 0.0159 tensor([0.5072])\n",
      "28 0.0016 0.0159 tensor([0.5129])\n",
      "29 0.0015 0.0156 tensor([0.5163])\n",
      "\n"
     ]
    }
   ],
   "source": [
    "for n_iter in range(10):\n",
    "    print(f'>>>>>>>>>>>> Iter {n_iter}')\n",
    "    del model\n",
    "    del optimizer\n",
    "    gc.collect()\n",
    "    labeled_idxs = idxs[:N_step*(n_iter+1)]\n",
    "    ds_train = AL.PartialDs(ds_full, labeled_idxs)\n",
    "    dl_train = torch.utils.data.DataLoader(ds_train, batch_size=batch_size, shuffle=True, drop_last=True)\n",
    "\n",
    "    model = presentation.create_model().to(device)\n",
    "    optimizer = presentation.create_optimizer(model)\n",
    "\n",
    "    num_epochs = 30\n",
    "    for epoch in tqdm(range(num_epochs), desc='Epoch'):\n",
    "        trn_loss = utils.train(dl_train, loss_fn, model, optimizer)\n",
    "        val_loss, val_IoUs = segmentation.evaluate(dl_test, loss_fn, model)\n",
    "        print(epoch, f'{trn_loss:.4f}', f'{val_loss:.4f}', val_IoUs)\n",
    "    print()"
   ]
  },
  {
   "cell_type": "code",
   "execution_count": null,
   "id": "0f9fe763-8e8a-4613-a8ff-456b63c40fb4",
   "metadata": {},
   "outputs": [],
   "source": []
  }
 ],
 "metadata": {
  "kernelspec": {
   "display_name": "stenoses",
   "language": "python",
   "name": "stenoses"
  },
  "language_info": {
   "codemirror_mode": {
    "name": "ipython",
    "version": 3
   },
   "file_extension": ".py",
   "mimetype": "text/x-python",
   "name": "python",
   "nbconvert_exporter": "python",
   "pygments_lexer": "ipython3",
   "version": "3.10.15"
  }
 },
 "nbformat": 4,
 "nbformat_minor": 5
}
