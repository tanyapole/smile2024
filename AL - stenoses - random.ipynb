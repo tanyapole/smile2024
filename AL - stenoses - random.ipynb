{
 "cells": [
  {
   "cell_type": "code",
   "execution_count": 1,
   "id": "39058e05-8f10-4cd8-8658-ae33981f9209",
   "metadata": {},
   "outputs": [],
   "source": [
    "import gc\n",
    "import numpy as np\n",
    "import torch\n",
    "import torch.nn as nn\n",
    "import segmentation_models_pytorch as smp\n",
    "import utils, segmentation\n",
    "from tqdm.auto import tqdm"
   ]
  },
  {
   "cell_type": "code",
   "execution_count": 2,
   "id": "95b179fd-bf2d-4eb6-b32f-dbedec5565cd",
   "metadata": {},
   "outputs": [
    {
     "name": "stdout",
     "output_type": "stream",
     "text": [
      "cuda:1\n"
     ]
    }
   ],
   "source": [
    "device = torch.device('cuda:1') if torch.cuda.is_available() else torch.device('cpu')\n",
    "# device = torch.device('cpu')\n",
    "print(device)"
   ]
  },
  {
   "cell_type": "code",
   "execution_count": 3,
   "id": "30728ba4-6fd6-4e50-8bf3-3e69f9121d5c",
   "metadata": {},
   "outputs": [],
   "source": [
    "class PartialDs(torch.utils.data.Dataset):\n",
    "    def __init__(self, ds, idxs):\n",
    "        self.ds = ds\n",
    "        self.idxs = idxs\n",
    "    \n",
    "    def __len__(self):\n",
    "        return len(self.idxs)\n",
    "    \n",
    "    def __getitem__(self, i): \n",
    "        return self.ds[self.idxs[i]]\n",
    "\n",
    "def create_model():\n",
    "    return smp.Unet(\n",
    "        encoder_name=\"resnet18\",        # choose encoder, e.g. mobilenet_v2 or efficientnet-b7\n",
    "        encoder_weights=\"imagenet\",     # use `imagenet` pre-trained weights for encoder initialization\n",
    "        in_channels=3,                  # model input channels (1 for gray-scale images, 3 for RGB, etc.)\n",
    "        classes=2,                      # model output channels (number of classes in your dataset)\n",
    "    )\n",
    "\n",
    "def create_optimizer(model):\n",
    "    return torch.optim.SGD(model.parameters(), lr=1e-1)"
   ]
  },
  {
   "cell_type": "code",
   "execution_count": 4,
   "id": "f9eaa47f-929a-43d5-b4af-ed66b2fd65dc",
   "metadata": {},
   "outputs": [],
   "source": [
    "ds_full = segmentation.SegmentationDataset('./stenoses_data/train/', 2)\n",
    "ds_test = segmentation.SegmentationDataset('./stenoses_data/test/', 2)\n",
    "\n",
    "batch_size = 8\n",
    "dl_full = torch.utils.data.DataLoader(ds_full, batch_size=batch_size, shuffle=False, drop_last=False)\n",
    "dl_test = torch.utils.data.DataLoader(ds_test, batch_size=batch_size, shuffle=False, drop_last=False)"
   ]
  },
  {
   "cell_type": "code",
   "execution_count": 5,
   "id": "30247f1b-e743-4580-b01f-c539f36b0de5",
   "metadata": {},
   "outputs": [],
   "source": [
    "w = 0.\n",
    "for imgs, masks in dl_full:\n",
    "    w += masks.sum() / (masks.numel() * len(dl_full))\n",
    "loss_fn = nn.CrossEntropyLoss(weight=torch.Tensor([1 / (1-w), 1/ w])).to(device)"
   ]
  },
  {
   "cell_type": "code",
   "execution_count": 6,
   "id": "a86ad94b-09ac-4471-9fc0-cedf14ad655c",
   "metadata": {},
   "outputs": [],
   "source": [
    "model = create_model().to(device)\n",
    "optimizer = create_optimizer(model)"
   ]
  },
  {
   "cell_type": "code",
   "execution_count": 7,
   "id": "b118463a-6223-4a06-852e-85f744554f14",
   "metadata": {},
   "outputs": [
    {
     "data": {
      "text/plain": [
       "(598, 59)"
      ]
     },
     "execution_count": 7,
     "metadata": {},
     "output_type": "execute_result"
    }
   ],
   "source": [
    "N = len(ds_full)\n",
    "N_step = int(N*0.1)\n",
    "N, N_step"
   ]
  },
  {
   "cell_type": "code",
   "execution_count": 8,
   "id": "c4553031-2dc7-404c-9570-833cf8467a68",
   "metadata": {},
   "outputs": [],
   "source": [
    "idxs = list(range(N))\n",
    "np.random.seed(0)\n",
    "np.random.shuffle(idxs)"
   ]
  },
  {
   "cell_type": "code",
   "execution_count": 9,
   "id": "88c04902-bd67-4ff2-b738-eab385eeef07",
   "metadata": {},
   "outputs": [
    {
     "name": "stdout",
     "output_type": "stream",
     "text": [
      ">>>>>>>>>>>> Iter 0\n"
     ]
    },
    {
     "data": {
      "application/vnd.jupyter.widget-view+json": {
       "model_id": "07ca44ec31dc49d6afad59496bb26ecf",
       "version_major": 2,
       "version_minor": 0
      },
      "text/plain": [
       "Epoch:   0%|          | 0/30 [00:00<?, ?it/s]"
      ]
     },
     "metadata": {},
     "output_type": "display_data"
    },
    {
     "name": "stdout",
     "output_type": "stream",
     "text": [
      "0 0.4571 1.8557 tensor([0.0024])\n",
      "1 0.2324 1.4524 tensor([0.0052])\n",
      "2 0.1826 0.3398 tensor([0.0085])\n",
      "3 0.1570 0.2998 tensor([0.0103])\n",
      "4 0.1024 0.2925 tensor([0.0272])\n",
      "5 0.0667 0.1586 tensor([0.0863])\n",
      "6 0.0413 0.3316 tensor([0.1308])\n",
      "7 0.0288 0.2890 tensor([0.1666])\n",
      "8 0.0280 0.1672 tensor([0.0607])\n",
      "9 0.0223 0.1043 tensor([0.0771])\n",
      "10 0.0195 0.4539 tensor([0.1302])\n",
      "11 0.0398 0.0819 tensor([0.0641])\n",
      "12 0.0423 0.6755 tensor([0.0098])\n",
      "13 0.0612 0.1405 tensor([0.0487])\n",
      "14 0.0237 0.5028 tensor([0.0989])\n",
      "15 0.0427 0.0821 tensor([0.0293])\n",
      "16 0.0298 0.1822 tensor([0.0858])\n",
      "17 0.0220 0.2859 tensor([0.1123])\n",
      "18 0.0184 0.3837 tensor([0.1588])\n",
      "19 0.0157 0.6191 tensor([0.1589])\n",
      "20 0.0131 0.7149 tensor([0.1495])\n",
      "21 0.0114 0.9659 tensor([0.1259])\n",
      "22 0.0104 0.8656 tensor([0.1391])\n",
      "23 0.0096 0.7203 tensor([0.1507])\n",
      "24 0.0084 1.2477 tensor([0.1197])\n",
      "25 0.0075 1.2970 tensor([0.1323])\n",
      "26 0.1855 7.5379 tensor([0.0026])\n",
      "27 0.0981 0.3428 tensor([0.0106])\n",
      "28 0.0596 0.1245 tensor([0.0450])\n",
      "29 0.0420 0.1521 tensor([0.0869])\n",
      "\n",
      ">>>>>>>>>>>> Iter 1\n"
     ]
    },
    {
     "data": {
      "application/vnd.jupyter.widget-view+json": {
       "model_id": "c3d5a83100b843da96c58f5340cb1711",
       "version_major": 2,
       "version_minor": 0
      },
      "text/plain": [
       "Epoch:   0%|          | 0/30 [00:00<?, ?it/s]"
      ]
     },
     "metadata": {},
     "output_type": "display_data"
    },
    {
     "name": "stdout",
     "output_type": "stream",
     "text": [
      "0 0.6060 45.0837 tensor([0.0018])\n",
      "1 0.3484 0.1699 tensor([0.0140])\n",
      "2 0.0936 0.1066 tensor([0.0341])\n",
      "3 0.0505 0.0817 tensor([0.0396])\n",
      "4 0.0551 0.1432 tensor([0.0967])\n",
      "5 0.0234 0.3747 tensor([0.2221])\n",
      "6 0.0542 0.1971 tensor([0.0138])\n",
      "7 0.0374 0.0871 tensor([0.0970])\n",
      "8 0.0205 0.0872 tensor([0.1718])\n",
      "9 0.0184 0.1300 tensor([0.2656])\n",
      "10 0.0157 0.1563 tensor([0.3081])\n",
      "11 0.0109 0.1112 tensor([0.2042])\n",
      "12 0.0087 0.1234 tensor([0.2875])\n",
      "13 0.0079 0.1859 tensor([0.3405])\n",
      "14 0.0071 0.0997 tensor([0.2087])\n",
      "15 0.0070 0.0950 tensor([0.2298])\n",
      "16 0.0086 0.1654 tensor([0.3693])\n",
      "17 0.0067 0.2082 tensor([0.3692])\n",
      "18 0.0055 0.2116 tensor([0.3937])\n",
      "19 0.0054 0.2618 tensor([0.4202])\n",
      "20 0.0050 0.2577 tensor([0.4057])\n",
      "21 0.0050 0.1985 tensor([0.3630])\n",
      "22 0.0045 0.1554 tensor([0.3625])\n",
      "23 0.0042 0.1872 tensor([0.3794])\n",
      "24 0.0122 0.1670 tensor([0.3295])\n",
      "25 0.0059 0.2948 tensor([0.3939])\n",
      "26 0.0045 0.2873 tensor([0.4076])\n",
      "27 0.0046 0.2941 tensor([0.4267])\n",
      "28 0.0040 0.3315 tensor([0.4364])\n",
      "29 0.0039 0.2775 tensor([0.4532])\n",
      "\n",
      ">>>>>>>>>>>> Iter 2\n"
     ]
    },
    {
     "data": {
      "application/vnd.jupyter.widget-view+json": {
       "model_id": "9ebeba117da24206b87b0730ca050a5f",
       "version_major": 2,
       "version_minor": 0
      },
      "text/plain": [
       "Epoch:   0%|          | 0/30 [00:00<?, ?it/s]"
      ]
     },
     "metadata": {},
     "output_type": "display_data"
    },
    {
     "name": "stdout",
     "output_type": "stream",
     "text": [
      "0 0.2553 0.5063 tensor([0.0048])\n",
      "1 0.1111 0.1315 tensor([0.0215])\n",
      "2 0.0589 0.1776 tensor([0.0408])\n",
      "3 0.0372 0.1424 tensor([0.1741])\n",
      "4 0.0296 0.1392 tensor([0.1628])\n",
      "5 0.0272 0.0962 tensor([0.0352])\n",
      "6 0.0176 0.0488 tensor([0.2248])\n",
      "7 0.0270 0.0225 tensor([0.2117])\n",
      "8 0.0118 0.0156 tensor([0.1631])\n",
      "9 0.0109 0.0187 tensor([0.2890])\n",
      "10 0.0070 0.0316 tensor([0.3660])\n",
      "11 0.0064 0.0146 tensor([0.2187])\n",
      "12 0.0059 0.0313 tensor([0.4004])\n",
      "13 0.0050 0.0523 tensor([0.3796])\n",
      "14 0.0131 0.0535 tensor([0.3863])\n",
      "15 0.0059 0.0367 tensor([0.3708])\n",
      "16 0.0075 0.0394 tensor([0.4025])\n",
      "17 0.0049 0.0461 tensor([0.4243])\n",
      "18 0.0045 0.0233 tensor([0.3300])\n",
      "19 0.0047 0.0584 tensor([0.4689])\n",
      "20 0.0045 0.0579 tensor([0.4622])\n",
      "21 0.0036 0.0582 tensor([0.4514])\n",
      "22 0.0035 0.0585 tensor([0.4879])\n",
      "23 0.0035 0.0483 tensor([0.4356])\n",
      "24 0.0034 0.0957 tensor([0.5359])\n",
      "25 0.0033 0.0951 tensor([0.5457])\n",
      "26 0.0030 0.0850 tensor([0.4620])\n",
      "27 0.0030 0.0840 tensor([0.5132])\n",
      "28 0.0027 0.1121 tensor([0.5778])\n",
      "29 0.0027 0.1148 tensor([0.5888])\n",
      "\n",
      ">>>>>>>>>>>> Iter 3\n"
     ]
    },
    {
     "data": {
      "application/vnd.jupyter.widget-view+json": {
       "model_id": "838b9156c5bb433d8e61ddd1b6e4d2d9",
       "version_major": 2,
       "version_minor": 0
      },
      "text/plain": [
       "Epoch:   0%|          | 0/30 [00:00<?, ?it/s]"
      ]
     },
     "metadata": {},
     "output_type": "display_data"
    },
    {
     "name": "stdout",
     "output_type": "stream",
     "text": [
      "0 0.3044 0.1383 tensor([0.0416])\n",
      "1 0.0931 0.0882 tensor([0.0276])\n",
      "2 0.0321 0.1179 tensor([0.2183])\n",
      "3 0.0153 0.4643 tensor([0.2540])\n",
      "4 0.0158 0.3728 tensor([0.2900])\n",
      "5 0.0087 0.5119 tensor([0.2892])\n",
      "6 0.0082 0.2687 tensor([0.2796])\n",
      "7 0.0096 0.7925 tensor([0.3441])\n",
      "8 0.0069 0.6048 tensor([0.3434])\n",
      "9 0.0068 0.4666 tensor([0.3544])\n",
      "10 0.0053 0.2910 tensor([0.4215])\n",
      "11 0.0046 0.6281 tensor([0.3931])\n",
      "12 0.0043 0.3650 tensor([0.4118])\n",
      "13 0.0037 0.6641 tensor([0.3942])\n",
      "14 0.0036 0.9369 tensor([0.3694])\n",
      "15 0.0041 0.7727 tensor([0.3962])\n",
      "16 0.0057 0.7786 tensor([0.4056])\n",
      "17 0.0036 0.7663 tensor([0.4311])\n",
      "18 0.0034 0.9707 tensor([0.3751])\n",
      "19 0.0034 0.6383 tensor([0.3723])\n",
      "20 0.0030 1.0223 tensor([0.3843])\n",
      "21 0.0030 0.7072 tensor([0.4158])\n",
      "22 0.0027 0.8574 tensor([0.4001])\n",
      "23 0.0026 0.7635 tensor([0.4131])\n",
      "24 0.0027 0.3968 tensor([0.4220])\n",
      "25 0.0037 0.7192 tensor([0.4215])\n",
      "26 0.0029 0.8785 tensor([0.4261])\n",
      "27 0.0027 0.9254 tensor([0.4096])\n",
      "28 0.0025 0.9964 tensor([0.4279])\n",
      "29 0.0023 0.8699 tensor([0.4283])\n",
      "\n",
      ">>>>>>>>>>>> Iter 4\n"
     ]
    },
    {
     "data": {
      "application/vnd.jupyter.widget-view+json": {
       "model_id": "0ba687ce4d9046c3883ac26aae6564e2",
       "version_major": 2,
       "version_minor": 0
      },
      "text/plain": [
       "Epoch:   0%|          | 0/30 [00:00<?, ?it/s]"
      ]
     },
     "metadata": {},
     "output_type": "display_data"
    },
    {
     "name": "stdout",
     "output_type": "stream",
     "text": [
      "0 0.2109 0.1857 tensor([0.0553])\n",
      "1 0.0469 0.0519 tensor([0.1047])\n",
      "2 0.0420 0.2211 tensor([0.0135])\n",
      "3 0.0343 0.0896 tensor([0.2556])\n",
      "4 0.0886 0.2761 tensor([0.2324])\n",
      "5 0.0473 0.2420 tensor([0.2700])\n",
      "6 0.0158 0.1369 tensor([0.2299])\n",
      "7 0.0116 0.1035 tensor([0.3630])\n",
      "8 0.0085 0.1207 tensor([0.4284])\n",
      "9 0.0076 0.1402 tensor([0.4451])\n",
      "10 0.0981 0.0847 tensor([0.0230])\n",
      "11 0.0466 0.0698 tensor([0.0746])\n",
      "12 0.0307 0.0830 tensor([0.0778])\n",
      "13 0.0210 0.3573 tensor([0.1472])\n",
      "14 0.0167 0.1145 tensor([0.2524])\n",
      "15 0.0105 0.2852 tensor([0.0324])\n",
      "16 0.0122 0.1557 tensor([0.2769])\n",
      "17 0.0109 0.0354 tensor([0.1472])\n",
      "18 0.0076 0.1220 tensor([0.3219])\n",
      "19 0.0367 0.1988 tensor([0.2303])\n",
      "20 0.0143 0.1825 tensor([0.2777])\n",
      "21 0.0083 0.2645 tensor([0.3087])\n",
      "22 0.0072 0.2976 tensor([0.3742])\n",
      "23 0.0060 0.3207 tensor([0.3701])\n",
      "24 0.0059 0.2800 tensor([0.4124])\n",
      "25 0.0051 0.3498 tensor([0.4155])\n",
      "26 0.0047 0.3212 tensor([0.3706])\n",
      "27 0.0057 0.3393 tensor([0.4631])\n",
      "28 0.0043 0.2908 tensor([0.4321])\n",
      "29 0.0042 0.3515 tensor([0.4708])\n",
      "\n",
      ">>>>>>>>>>>> Iter 5\n"
     ]
    },
    {
     "data": {
      "application/vnd.jupyter.widget-view+json": {
       "model_id": "d96f429a18f0431ba1eaceb4d5355c0a",
       "version_major": 2,
       "version_minor": 0
      },
      "text/plain": [
       "Epoch:   0%|          | 0/30 [00:00<?, ?it/s]"
      ]
     },
     "metadata": {},
     "output_type": "display_data"
    },
    {
     "name": "stdout",
     "output_type": "stream",
     "text": [
      "0 0.1995 0.0893 tensor([0.0856])\n",
      "1 0.0398 0.3438 tensor([0.0138])\n",
      "2 0.0304 0.7154 tensor([0.1613])\n",
      "3 0.0547 1.6217 tensor([0.0058])\n",
      "4 0.0703 0.0709 tensor([0.1360])\n",
      "5 0.0220 0.1787 tensor([0.2835])\n",
      "6 0.0148 0.0968 tensor([0.1650])\n",
      "7 0.0206 0.2362 tensor([0.2551])\n",
      "8 0.0096 0.0582 tensor([0.2274])\n",
      "9 0.0102 0.1471 tensor([0.0302])\n",
      "10 0.0197 0.0858 tensor([0.2087])\n",
      "11 0.0088 0.2233 tensor([0.3419])\n",
      "12 0.0061 0.2812 tensor([0.3413])\n",
      "13 0.0061 0.2950 tensor([0.2645])\n",
      "14 0.0050 0.4791 tensor([0.3772])\n",
      "15 0.0042 0.5004 tensor([0.4251])\n",
      "16 0.0043 0.2760 tensor([0.3489])\n",
      "17 0.0037 0.4666 tensor([0.4103])\n",
      "18 0.0038 0.2848 tensor([0.3841])\n",
      "19 0.0041 0.5977 tensor([0.4635])\n",
      "20 0.0034 0.4945 tensor([0.4604])\n",
      "21 0.0077 0.3496 tensor([0.4472])\n",
      "22 0.0038 0.4338 tensor([0.4382])\n",
      "23 0.0032 0.5123 tensor([0.4540])\n",
      "24 0.0034 0.4757 tensor([0.4687])\n",
      "25 0.0031 0.5806 tensor([0.4425])\n",
      "26 0.0029 0.6128 tensor([0.4722])\n",
      "27 0.0039 0.4910 tensor([0.4778])\n",
      "28 0.0030 0.5622 tensor([0.5070])\n",
      "29 0.0032 0.2409 tensor([0.4634])\n",
      "\n",
      ">>>>>>>>>>>> Iter 6\n"
     ]
    },
    {
     "data": {
      "application/vnd.jupyter.widget-view+json": {
       "model_id": "1085086bc0a74637b938135e32a318df",
       "version_major": 2,
       "version_minor": 0
      },
      "text/plain": [
       "Epoch:   0%|          | 0/30 [00:00<?, ?it/s]"
      ]
     },
     "metadata": {},
     "output_type": "display_data"
    },
    {
     "name": "stdout",
     "output_type": "stream",
     "text": [
      "0 0.1753 0.5943 tensor([0.1725])\n",
      "1 0.0817 0.0699 tensor([0.0563])\n",
      "2 0.0281 0.0297 tensor([0.1321])\n",
      "3 0.0159 0.0846 tensor([0.4163])\n",
      "4 0.0106 0.0551 tensor([0.4572])\n",
      "5 0.0070 0.0225 tensor([0.3293])\n",
      "6 0.0055 0.1287 tensor([0.5579])\n",
      "7 0.0073 0.1158 tensor([0.5196])\n",
      "8 0.0052 0.1889 tensor([0.5982])\n",
      "9 0.0065 0.0937 tensor([0.5506])\n",
      "10 0.0041 0.1716 tensor([0.5766])\n",
      "11 0.0036 0.1946 tensor([0.5781])\n",
      "12 0.0034 0.1757 tensor([0.5566])\n",
      "13 0.0037 0.0725 tensor([0.4164])\n",
      "14 0.0034 0.1545 tensor([0.5426])\n",
      "15 0.0033 0.2449 tensor([0.5610])\n",
      "16 0.0030 0.2017 tensor([0.5573])\n",
      "17 0.0032 0.1209 tensor([0.5316])\n",
      "18 0.0027 0.2649 tensor([0.6010])\n",
      "19 0.0030 0.1558 tensor([0.5795])\n",
      "20 0.0247 0.2110 tensor([0.4343])\n",
      "21 0.0060 0.0804 tensor([0.4678])\n",
      "22 0.0051 0.1343 tensor([0.5296])\n",
      "23 0.0041 0.1907 tensor([0.5267])\n",
      "24 0.0038 0.2486 tensor([0.5424])\n",
      "25 0.0033 0.1773 tensor([0.5233])\n",
      "26 0.0037 0.1636 tensor([0.5633])\n",
      "27 0.0032 0.1352 tensor([0.5935])\n",
      "28 0.0031 0.2537 tensor([0.5529])\n",
      "29 0.0027 0.1950 tensor([0.5431])\n",
      "\n",
      ">>>>>>>>>>>> Iter 7\n"
     ]
    },
    {
     "data": {
      "application/vnd.jupyter.widget-view+json": {
       "model_id": "4e3ffe2ebf1044278137297d744be886",
       "version_major": 2,
       "version_minor": 0
      },
      "text/plain": [
       "Epoch:   0%|          | 0/30 [00:00<?, ?it/s]"
      ]
     },
     "metadata": {},
     "output_type": "display_data"
    },
    {
     "name": "stdout",
     "output_type": "stream",
     "text": [
      "0 0.1370 0.2510 tensor([0.2826])\n",
      "1 0.0745 0.0587 tensor([0.1066])\n",
      "2 0.0207 0.1725 tensor([0.4162])\n",
      "3 0.0373 0.0544 tensor([0.0624])\n",
      "4 0.0176 0.0671 tensor([0.3339])\n",
      "5 0.0169 0.0802 tensor([0.4093])\n",
      "6 0.0090 0.0298 tensor([0.1298])\n",
      "7 0.0072 0.0217 tensor([0.3237])\n",
      "8 0.0055 0.0633 tensor([0.4791])\n",
      "9 0.0051 0.0320 tensor([0.3792])\n",
      "10 0.0051 0.0554 tensor([0.4731])\n",
      "11 0.0044 0.0887 tensor([0.5258])\n",
      "12 0.0054 0.0862 tensor([0.5340])\n",
      "13 0.0037 0.0367 tensor([0.4755])\n",
      "14 0.0045 0.1145 tensor([0.5530])\n",
      "15 0.0037 0.1043 tensor([0.5810])\n",
      "16 0.0036 0.0441 tensor([0.4274])\n",
      "17 0.0037 0.0500 tensor([0.3956])\n",
      "18 0.0033 0.1604 tensor([0.5882])\n",
      "19 0.0031 0.0692 tensor([0.5577])\n",
      "20 0.0027 0.1070 tensor([0.5638])\n",
      "21 0.0030 0.2465 tensor([0.6534])\n",
      "22 0.0030 0.1622 tensor([0.6280])\n",
      "23 0.0032 0.1008 tensor([0.5759])\n",
      "24 0.0029 0.0734 tensor([0.5164])\n",
      "25 0.0027 0.1936 tensor([0.6265])\n",
      "26 0.0024 0.2202 tensor([0.6212])\n",
      "27 0.0024 0.1765 tensor([0.6285])\n",
      "28 0.0027 0.2307 tensor([0.6362])\n",
      "29 0.0024 0.2489 tensor([0.6440])\n",
      "\n",
      ">>>>>>>>>>>> Iter 8\n"
     ]
    },
    {
     "data": {
      "application/vnd.jupyter.widget-view+json": {
       "model_id": "5256f183140d4e3ca83014bba70389a5",
       "version_major": 2,
       "version_minor": 0
      },
      "text/plain": [
       "Epoch:   0%|          | 0/30 [00:00<?, ?it/s]"
      ]
     },
     "metadata": {},
     "output_type": "display_data"
    },
    {
     "name": "stdout",
     "output_type": "stream",
     "text": [
      "0 0.1372 0.1356 tensor([0.3113])\n",
      "1 0.0144 0.0510 tensor([0.3007])\n",
      "2 0.0096 0.1763 tensor([0.5076])\n",
      "3 0.0069 0.0716 tensor([0.3916])\n",
      "4 0.0058 0.0411 tensor([0.4242])\n",
      "5 0.0051 0.1128 tensor([0.5068])\n",
      "6 0.0043 0.1320 tensor([0.5372])\n",
      "7 0.0035 0.1800 tensor([0.5835])\n",
      "8 0.7794 0.6610 tensor([0.0167])\n",
      "9 0.2081 0.5551 tensor([0.1203])\n",
      "10 0.0446 0.1358 tensor([0.0847])\n",
      "11 0.0191 0.3081 tensor([0.2146])\n",
      "12 0.0132 0.2954 tensor([0.1351])\n",
      "13 0.0101 0.5533 tensor([0.3189])\n",
      "14 0.0082 0.1937 tensor([0.1872])\n",
      "15 0.0082 0.2067 tensor([0.2819])\n",
      "16 0.0060 0.2688 tensor([0.3819])\n",
      "17 0.0075 0.3131 tensor([0.3250])\n",
      "18 0.0059 0.2340 tensor([0.3652])\n",
      "19 0.0055 0.2872 tensor([0.3469])\n",
      "20 0.0050 0.2836 tensor([0.3696])\n",
      "21 0.0045 0.2492 tensor([0.3893])\n",
      "22 0.0045 0.3696 tensor([0.4056])\n",
      "23 0.0041 0.2401 tensor([0.3137])\n",
      "24 0.0047 0.2754 tensor([0.3991])\n",
      "25 0.0044 0.3383 tensor([0.4447])\n",
      "26 0.0039 0.3196 tensor([0.4235])\n",
      "27 0.0039 0.3303 tensor([0.3975])\n",
      "28 0.0036 0.3452 tensor([0.4272])\n",
      "29 0.0036 0.3066 tensor([0.4290])\n",
      "\n",
      ">>>>>>>>>>>> Iter 9\n"
     ]
    },
    {
     "data": {
      "application/vnd.jupyter.widget-view+json": {
       "model_id": "50c42d8faecc40b7ae3717eb3d599d9a",
       "version_major": 2,
       "version_minor": 0
      },
      "text/plain": [
       "Epoch:   0%|          | 0/30 [00:00<?, ?it/s]"
      ]
     },
     "metadata": {},
     "output_type": "display_data"
    },
    {
     "name": "stdout",
     "output_type": "stream",
     "text": [
      "0 0.1634 0.1159 tensor([0.0213])\n",
      "1 0.0286 0.1450 tensor([0.0299])\n",
      "2 0.0155 0.1590 tensor([0.2512])\n",
      "3 0.0090 0.1300 tensor([0.0718])\n",
      "4 0.0069 0.2851 tensor([0.3832])\n",
      "5 0.0058 0.3977 tensor([0.4145])\n",
      "6 0.0047 0.3593 tensor([0.3964])\n",
      "7 0.0043 0.4222 tensor([0.4334])\n",
      "8 0.0042 0.5226 tensor([0.4178])\n",
      "9 0.0036 0.3227 tensor([0.3927])\n",
      "10 0.0037 0.5332 tensor([0.4202])\n",
      "11 0.0031 0.4034 tensor([0.4740])\n",
      "12 0.0030 0.4113 tensor([0.3995])\n",
      "13 0.0029 0.4095 tensor([0.4219])\n",
      "14 0.0032 0.3531 tensor([0.4627])\n",
      "15 0.0030 0.3750 tensor([0.4657])\n",
      "16 0.0027 0.4949 tensor([0.4585])\n",
      "17 0.0026 0.3753 tensor([0.4707])\n",
      "18 0.0023 0.2968 tensor([0.4146])\n",
      "19 0.0023 0.5324 tensor([0.4551])\n",
      "20 0.0022 0.4745 tensor([0.4748])\n",
      "21 0.0022 0.4011 tensor([0.4663])\n",
      "22 0.0022 0.5349 tensor([0.4823])\n",
      "23 0.0021 0.5446 tensor([0.4719])\n",
      "24 0.0020 0.5418 tensor([0.4960])\n",
      "25 0.0020 0.4030 tensor([0.4569])\n",
      "26 0.0026 0.3308 tensor([0.2549])\n",
      "27 0.0030 0.4416 tensor([0.4807])\n",
      "28 0.0035 0.2308 tensor([0.4232])\n",
      "29 0.0025 0.3406 tensor([0.4624])\n",
      "\n"
     ]
    }
   ],
   "source": [
    "for n_iter in range(10):\n",
    "    print(f'>>>>>>>>>>>> Iter {n_iter}')\n",
    "    del model\n",
    "    del optimizer\n",
    "    gc.collect()\n",
    "    labeled_idxs = idxs[:N_step*(n_iter+1)]\n",
    "    ds_train = PartialDs(ds_full, labeled_idxs)\n",
    "    dl_train = torch.utils.data.DataLoader(ds_train, batch_size=batch_size, shuffle=True, drop_last=True)\n",
    "\n",
    "    model = create_model().to(device)\n",
    "    optimizer = create_optimizer(model)\n",
    "\n",
    "    num_epochs = 30\n",
    "    for epoch in tqdm(range(num_epochs), desc='Epoch'):\n",
    "        trn_loss = utils.train(dl_train, loss_fn, model, optimizer)\n",
    "        val_loss, val_IoUs = segmentation.evaluate(dl_test, loss_fn, model)\n",
    "        print(epoch, f'{trn_loss:.4f}', f'{val_loss:.4f}', val_IoUs)\n",
    "    print()"
   ]
  },
  {
   "cell_type": "code",
   "execution_count": null,
   "id": "0f9fe763-8e8a-4613-a8ff-456b63c40fb4",
   "metadata": {},
   "outputs": [],
   "source": []
  }
 ],
 "metadata": {
  "kernelspec": {
   "display_name": "stenoses",
   "language": "python",
   "name": "stenoses"
  },
  "language_info": {
   "codemirror_mode": {
    "name": "ipython",
    "version": 3
   },
   "file_extension": ".py",
   "mimetype": "text/x-python",
   "name": "python",
   "nbconvert_exporter": "python",
   "pygments_lexer": "ipython3",
   "version": "3.10.15"
  }
 },
 "nbformat": 4,
 "nbformat_minor": 5
}
