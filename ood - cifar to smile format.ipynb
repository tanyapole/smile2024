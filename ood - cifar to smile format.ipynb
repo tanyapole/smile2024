{
 "cells": [
  {
   "cell_type": "code",
   "execution_count": 1,
   "id": "88df4fb0-140c-4415-9d36-6834d7238732",
   "metadata": {},
   "outputs": [],
   "source": [
    "import torch\n",
    "import torchvision"
   ]
  },
  {
   "cell_type": "code",
   "execution_count": 3,
   "id": "cc27ef88-0c63-412b-aa06-6b7e8e691ed3",
   "metadata": {},
   "outputs": [
    {
     "name": "stdout",
     "output_type": "stream",
     "text": [
      "Downloading https://www.cs.toronto.edu/~kriz/cifar-10-python.tar.gz to ./cifar-10-python.tar.gz\n"
     ]
    },
    {
     "name": "stderr",
     "output_type": "stream",
     "text": [
      "100%|██████████████████████████████████████████████████████████████████████████████████████████████████████████████████████████████████████████████████████████████████████████████████████████████████████| 170M/170M [00:15<00:00, 10.9MB/s]\n"
     ]
    },
    {
     "name": "stdout",
     "output_type": "stream",
     "text": [
      "Extracting ./cifar-10-python.tar.gz to .\n"
     ]
    }
   ],
   "source": [
    "ds_train = torchvision.datasets.CIFAR10(root='.', download=True, train=True)"
   ]
  },
  {
   "cell_type": "code",
   "execution_count": 4,
   "id": "bbba8dc0-b6af-46d0-bdb1-46db5dc7a988",
   "metadata": {},
   "outputs": [],
   "source": [
    "ds_val = torchvision.datasets.CIFAR10(root='.', download=False, train=False)"
   ]
  },
  {
   "cell_type": "code",
   "execution_count": 33,
   "id": "1680882b-f8d3-43b3-92a5-2057572707db",
   "metadata": {},
   "outputs": [
    {
     "data": {
      "text/plain": [
       "(50000, 10000)"
      ]
     },
     "execution_count": 33,
     "metadata": {},
     "output_type": "execute_result"
    }
   ],
   "source": [
    "len(ds_train), len(ds_val)"
   ]
  },
  {
   "cell_type": "code",
   "execution_count": 83,
   "id": "f3b0ccb9-06db-4684-8c07-892c943ff9ab",
   "metadata": {},
   "outputs": [],
   "source": [
    "import pickle\n",
    "import matplotlib.pyplot as plt\n",
    "import numpy as np\n",
    "from PIL import Image\n",
    "from pathlib import Path\n",
    "import os\n",
    "from tqdm.auto import tqdm"
   ]
  },
  {
   "cell_type": "code",
   "execution_count": 39,
   "id": "8591b4b2-83ce-4f8f-af37-7f06dbd1988d",
   "metadata": {},
   "outputs": [],
   "source": [
    "src_fldr = Path('./cifar-10-batches-py')\n",
    "tgt_fldr = Path('./Cifar10')\n",
    "tgt_fldr.mkdir()"
   ]
  },
  {
   "cell_type": "code",
   "execution_count": 41,
   "id": "63b9abd2-46f5-46f6-ac24-6180504caac6",
   "metadata": {},
   "outputs": [
    {
     "data": {
      "text/plain": [
       "['data_batch_5',\n",
       " 'data_batch_3',\n",
       " 'data_batch_2',\n",
       " 'readme.html',\n",
       " 'data_batch_1',\n",
       " 'test_batch',\n",
       " 'batches.meta',\n",
       " '.ipynb_checkpoints',\n",
       " 'data_batch_4']"
      ]
     },
     "execution_count": 41,
     "metadata": {},
     "output_type": "execute_result"
    }
   ],
   "source": [
    "os.listdir(src_fldr)"
   ]
  },
  {
   "cell_type": "code",
   "execution_count": 42,
   "id": "b47ed8b2-ea3a-4963-8955-a59d0884ee22",
   "metadata": {},
   "outputs": [],
   "source": [
    "TRAIN = 'train'\n",
    "TEST = 'test'"
   ]
  },
  {
   "cell_type": "code",
   "execution_count": 43,
   "id": "9652a095-1ca1-4dfb-bbaa-34c044c8abd4",
   "metadata": {},
   "outputs": [],
   "source": [
    "files = {\n",
    "    TRAIN: [f'data_batch_{i}' for i in range(1,6)],\n",
    "    TEST: ['test_batch']\n",
    "}"
   ]
  },
  {
   "cell_type": "code",
   "execution_count": 54,
   "id": "4d85f51a-24c8-4b2f-809a-578bd00e4f8f",
   "metadata": {},
   "outputs": [],
   "source": [
    "with open('./cifar-10-batches-py/batches.meta', 'rb') as f:\n",
    "    classnames = np.array(pickle.load(f)['label_names'])"
   ]
  },
  {
   "cell_type": "code",
   "execution_count": 55,
   "id": "43df7393-fefc-4162-adc1-6f319a193c0a",
   "metadata": {},
   "outputs": [
    {
     "data": {
      "text/plain": [
       "array(['airplane', 'automobile', 'bird', 'cat', 'deer', 'dog', 'frog',\n",
       "       'horse', 'ship', 'truck'], dtype='<U10')"
      ]
     },
     "execution_count": 55,
     "metadata": {},
     "output_type": "execute_result"
    }
   ],
   "source": [
    "classnames"
   ]
  },
  {
   "cell_type": "code",
   "execution_count": 87,
   "id": "ab94cfda-e079-40e7-9ff4-1baff4faa2f6",
   "metadata": {},
   "outputs": [
    {
     "data": {
      "application/vnd.jupyter.widget-view+json": {
       "model_id": "e3fca003454e4e8a90098cd8f1c42c1a",
       "version_major": 2,
       "version_minor": 0
      },
      "text/plain": [
       "  0%|          | 0/10000 [00:00<?, ?it/s]"
      ]
     },
     "metadata": {},
     "output_type": "display_data"
    },
    {
     "data": {
      "application/vnd.jupyter.widget-view+json": {
       "model_id": "fca3f8bb334248e99f1bb30285d9cccc",
       "version_major": 2,
       "version_minor": 0
      },
      "text/plain": [
       "  0%|          | 0/10000 [00:00<?, ?it/s]"
      ]
     },
     "metadata": {},
     "output_type": "display_data"
    },
    {
     "data": {
      "application/vnd.jupyter.widget-view+json": {
       "model_id": "1cc58edcafb246629e8492ca93047880",
       "version_major": 2,
       "version_minor": 0
      },
      "text/plain": [
       "  0%|          | 0/10000 [00:00<?, ?it/s]"
      ]
     },
     "metadata": {},
     "output_type": "display_data"
    },
    {
     "data": {
      "application/vnd.jupyter.widget-view+json": {
       "model_id": "f533cf75ce484237a231afa9276bb445",
       "version_major": 2,
       "version_minor": 0
      },
      "text/plain": [
       "  0%|          | 0/10000 [00:00<?, ?it/s]"
      ]
     },
     "metadata": {},
     "output_type": "display_data"
    },
    {
     "data": {
      "application/vnd.jupyter.widget-view+json": {
       "model_id": "15f2f29e22de488ca7ddf70bb1243de6",
       "version_major": 2,
       "version_minor": 0
      },
      "text/plain": [
       "  0%|          | 0/10000 [00:00<?, ?it/s]"
      ]
     },
     "metadata": {},
     "output_type": "display_data"
    },
    {
     "data": {
      "application/vnd.jupyter.widget-view+json": {
       "model_id": "aa2d93edc3db4266b7f49e689e1aea16",
       "version_major": 2,
       "version_minor": 0
      },
      "text/plain": [
       "  0%|          | 0/10000 [00:00<?, ?it/s]"
      ]
     },
     "metadata": {},
     "output_type": "display_data"
    }
   ],
   "source": [
    "for phase in [TRAIN, TEST]:\n",
    "    (tgt_fldr / phase).mkdir(exist_ok=False)\n",
    "    for c in classnames:\n",
    "        (tgt_fldr / phase / c).mkdir(exist_ok=False)\n",
    "\n",
    "    for file in files[phase]:\n",
    "        with open(src_fldr / file, 'rb') as f:\n",
    "            d = pickle.load(f, encoding='bytes')\n",
    "        \n",
    "        labels = np.array(d[b'labels'])\n",
    "        data = d[b'data']\n",
    "        filenames = np.array([f.decode('ascii') for f in d[b'filenames']])\n",
    "        assert len(data) == len(labels)\n",
    "        assert len(data) == len(filenames)\n",
    "        \n",
    "        for i in tqdm(list(range(len(data)))):\n",
    "            c = classnames[labels[i]]\n",
    "            fname = filenames[i]\n",
    "            img = data[i].reshape((3,32,32))\n",
    "            img = np.moveaxis(img, 0, -1)\n",
    "            Image.fromarray(img).save(tgt_fldr / phase / c / fname)"
   ]
  },
  {
   "cell_type": "code",
   "execution_count": null,
   "id": "854ade07-c53f-43fb-bc16-8aa311916213",
   "metadata": {},
   "outputs": [],
   "source": []
  }
 ],
 "metadata": {
  "kernelspec": {
   "display_name": "stenoses",
   "language": "python",
   "name": "stenoses"
  },
  "language_info": {
   "codemirror_mode": {
    "name": "ipython",
    "version": 3
   },
   "file_extension": ".py",
   "mimetype": "text/x-python",
   "name": "python",
   "nbconvert_exporter": "python",
   "pygments_lexer": "ipython3",
   "version": "3.10.15"
  }
 },
 "nbformat": 4,
 "nbformat_minor": 5
}
