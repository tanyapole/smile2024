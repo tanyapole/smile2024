{
 "cells": [
  {
   "cell_type": "code",
   "execution_count": 1,
   "id": "41c96ea6-1731-4a95-b08f-30f61e02399f",
   "metadata": {},
   "outputs": [],
   "source": [
    "import numpy as np\n",
    "from pathlib import Path\n",
    "import os\n",
    "import shutil\n",
    "from PIL import Image\n",
    "import matplotlib.pyplot as plt"
   ]
  },
  {
   "cell_type": "code",
   "execution_count": 2,
   "id": "e0415890-02f9-4e5a-a6ec-adc7f65a2450",
   "metadata": {},
   "outputs": [],
   "source": [
    "src_fldr = Path('stenoses_data/')"
   ]
  },
  {
   "cell_type": "code",
   "execution_count": 5,
   "id": "c60eee1f-3262-4139-a407-02ec6eb5a581",
   "metadata": {},
   "outputs": [],
   "source": [
    "def get_range(mask, axis):\n",
    "    size = mask.shape[axis]\n",
    "    idxs = np.where((mask == 1).any(axis=axis))[0]\n",
    "    imin, imax = idxs.min(), idxs.max()\n",
    "    eps = 20\n",
    "    imin, imax = max(imin-eps, 0), min(imax+eps, size)\n",
    "    # return imin, imax\n",
    "    return imax - imin\n",
    "\n",
    "def get_slice(L, idx): return [l[idx] for l in L]\n",
    "def slice_up(L):\n",
    "    n = len(L[0])\n",
    "    for i,l in enumerate(L):\n",
    "        assert len(l) == n, f'shape mismatch at {i}'\n",
    "    return [get_slice(L,i) for i in range(n)]"
   ]
  },
  {
   "cell_type": "code",
   "execution_count": 6,
   "id": "2601b261-1f85-4791-b90f-a0d43dd22873",
   "metadata": {},
   "outputs": [
    {
     "name": "stdout",
     "output_type": "stream",
     "text": [
      "134 205\n",
      "51 89\n"
     ]
    }
   ],
   "source": [
    "sub = src_fldr / 'train'\n",
    "sizes = []\n",
    "for pt in (sub/'masks').iterdir():\n",
    "    mask = Image.open(pt)\n",
    "    mask = np.array(mask)\n",
    "    sizes.append((get_range(mask, 0), get_range(mask, 1)))\n",
    "hsizes, wsizes = slice_up(sizes)\n",
    "print(min(hsizes), max(hsizes))\n",
    "print(min(wsizes), max(wsizes))"
   ]
  },
  {
   "cell_type": "code",
   "execution_count": 7,
   "id": "5e9f50c9-7cb6-4858-b71a-fb35897a1240",
   "metadata": {},
   "outputs": [
    {
     "name": "stdout",
     "output_type": "stream",
     "text": [
      "177 222\n",
      "53 72\n"
     ]
    }
   ],
   "source": [
    "sub = src_fldr / 'test'\n",
    "sizes = []\n",
    "for pt in (sub/'masks').iterdir():\n",
    "    mask = Image.open(pt)\n",
    "    mask = np.array(mask)\n",
    "    sizes.append((get_range(mask, 0), get_range(mask, 1)))\n",
    "hsizes, wsizes = slice_up(sizes)\n",
    "print(min(hsizes), max(hsizes))\n",
    "print(min(wsizes), max(wsizes))"
   ]
  },
  {
   "cell_type": "code",
   "execution_count": 15,
   "id": "fc96a3d6-cb78-4d49-a595-46ed83565e3d",
   "metadata": {},
   "outputs": [],
   "source": [
    "tgt_fldr = Path('./cut_stenoses_data')\n",
    "tgt_fldr.mkdir()"
   ]
  },
  {
   "cell_type": "code",
   "execution_count": 13,
   "id": "123e9587-95fc-44b3-8796-b860116c1210",
   "metadata": {},
   "outputs": [],
   "source": [
    "def get_range(mask, axis):\n",
    "    size = mask.shape[axis]\n",
    "    idxs = np.where((mask == 1).any(axis=axis))[0]\n",
    "    imin, imax = idxs.min(), idxs.max()\n",
    "    eps = 20\n",
    "    imin, imax = max(imin-eps, 0), min(imax+eps, size)\n",
    "    pad = 256 - (imax - imin)\n",
    "    assert pad >= 0\n",
    "    assert size >= 256\n",
    "    imin = max(imin - pad // 2, 0)\n",
    "    imax = imin + 256\n",
    "    return imin, imax"
   ]
  },
  {
   "cell_type": "code",
   "execution_count": 10,
   "id": "96da369c-8b05-4e72-964e-308c0743a3b7",
   "metadata": {},
   "outputs": [],
   "source": [
    "def read(pt):\n",
    "    return np.array(Image.open(pt))\n",
    "def write(arr, pt):\n",
    "    Image.fromarray(arr).save(pt)"
   ]
  },
  {
   "cell_type": "code",
   "execution_count": 16,
   "id": "612cd013-4a76-4103-845a-09d52da1fa40",
   "metadata": {},
   "outputs": [],
   "source": [
    "for phase in ['train', 'test']:\n",
    "    sub = src_fldr / phase\n",
    "    (tgt_fldr / phase).mkdir()\n",
    "    (tgt_fldr / phase / 'images').mkdir()\n",
    "    (tgt_fldr / phase / 'masks').mkdir()\n",
    "    for mask_pt in (sub/'masks').iterdir():\n",
    "        img_pt = sub / 'images' / mask_pt.name\n",
    "        mask = read(mask_pt)\n",
    "        img = read(img_pt)\n",
    "        hmin, hmax = get_range(mask, 0)\n",
    "        wmin, wmax = get_range(mask, 1)\n",
    "        mask = mask[hmin:hmax, wmin:wmax]\n",
    "        img = img[hmin:hmax, wmin:wmax]\n",
    "        write(mask, tgt_fldr / mask_pt.relative_to(src_fldr))\n",
    "        write(img, tgt_fldr / img_pt.relative_to(src_fldr))"
   ]
  }
 ],
 "metadata": {
  "kernelspec": {
   "display_name": "stenoses",
   "language": "python",
   "name": "stenoses"
  },
  "language_info": {
   "codemirror_mode": {
    "name": "ipython",
    "version": 3
   },
   "file_extension": ".py",
   "mimetype": "text/x-python",
   "name": "python",
   "nbconvert_exporter": "python",
   "pygments_lexer": "ipython3",
   "version": "3.10.15"
  }
 },
 "nbformat": 4,
 "nbformat_minor": 5
}
