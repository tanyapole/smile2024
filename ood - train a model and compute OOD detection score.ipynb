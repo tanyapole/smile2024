{
 "cells": [
  {
   "cell_type": "code",
   "execution_count": 1,
   "id": "0a974332-7f65-4b8d-a5c6-cf7a7fd783aa",
   "metadata": {},
   "outputs": [],
   "source": [
    "import torch\n",
    "import torch.nn as nn\n",
    "import torchvision\n",
    "import torchvision.transforms as TF\n",
    "import torchvision.transforms.v2 as TF2\n",
    "from tqdm.auto import tqdm\n",
    "import numpy as np\n",
    "from sklearn.metrics import roc_auc_score, roc_curve"
   ]
  },
  {
   "cell_type": "code",
   "execution_count": 2,
   "id": "20d6657f-d490-464b-9834-9097dbe60ed4",
   "metadata": {},
   "outputs": [],
   "source": [
    "def mean(L):\n",
    "    if len(L) == 0: return None\n",
    "    return sum(L) / len(L)"
   ]
  },
  {
   "cell_type": "code",
   "execution_count": 3,
   "id": "8a1780f5-aace-4627-9c8d-915ffff2fd88",
   "metadata": {},
   "outputs": [],
   "source": [
    "tfm = TF.Compose([TF.ToTensor(), TF.Normalize((0.485, 0.456, 0.406), (0.229, 0.224, 0.225))])\n",
    "ds_trn = torchvision.datasets.ImageFolder('./Cifar10/train', transform=tfm)\n",
    "ds_test = torchvision.datasets.ImageFolder('./Cifar10/test', transform=tfm)"
   ]
  },
  {
   "cell_type": "code",
   "execution_count": 4,
   "id": "05d6b922-7787-4eb7-a5ca-868496911de5",
   "metadata": {},
   "outputs": [],
   "source": [
    "assert ds_trn.classes == ds_test.classes\n",
    "num_classes = len(ds_trn.classes)"
   ]
  },
  {
   "cell_type": "code",
   "execution_count": 5,
   "id": "454be6db-1dfd-482a-866e-0308696179bb",
   "metadata": {},
   "outputs": [],
   "source": [
    "dl_trn = torch.utils.data.DataLoader(ds_trn, batch_size=32, shuffle=True, drop_last=True)\n",
    "dl_test = torch.utils.data.DataLoader(ds_test, batch_size=64, shuffle=False, drop_last=False)"
   ]
  },
  {
   "cell_type": "code",
   "execution_count": 6,
   "id": "ed8f82a7-5327-4f9b-bf26-d3daaec606f1",
   "metadata": {},
   "outputs": [],
   "source": [
    "device = torch.device('cuda:1')"
   ]
  },
  {
   "cell_type": "code",
   "execution_count": 7,
   "id": "224c73c3-44c4-44c6-9c75-59725750cd9f",
   "metadata": {},
   "outputs": [],
   "source": [
    "loss_fn = nn.CrossEntropyLoss()"
   ]
  },
  {
   "cell_type": "code",
   "execution_count": 14,
   "id": "f33fc080-f0fa-4a18-8cd8-c36eea2d2323",
   "metadata": {},
   "outputs": [],
   "source": [
    "model = torchvision.models.resnet50(weights='DEFAULT')\n",
    "model.fc = nn.Linear(model.fc.in_features, num_classes, bias=True)\n",
    "model = model.to(device)"
   ]
  },
  {
   "cell_type": "code",
   "execution_count": 15,
   "id": "205ddcb3-cc25-4e4a-a9fa-aa379b23ecd6",
   "metadata": {},
   "outputs": [],
   "source": [
    "optimizer = torch.optim.Adam(model.parameters(), lr=1e-4)"
   ]
  },
  {
   "cell_type": "code",
   "execution_count": 16,
   "id": "c643b6b9-93c3-4e75-9112-7bb01a93d8b0",
   "metadata": {},
   "outputs": [
    {
     "data": {
      "application/vnd.jupyter.widget-view+json": {
       "model_id": "e1bf2acfa7fc4012a6a1f9f0f06545c8",
       "version_major": 2,
       "version_minor": 0
      },
      "text/plain": [
       "Epoch:   0%|          | 0/6 [00:00<?, ?it/s]"
      ]
     },
     "metadata": {},
     "output_type": "display_data"
    },
    {
     "data": {
      "application/vnd.jupyter.widget-view+json": {
       "model_id": "6de8eff6eee3403c868fbc0b46872634",
       "version_major": 2,
       "version_minor": 0
      },
      "text/plain": [
       "Train:   0%|          | 0/1562 [00:00<?, ?it/s]"
      ]
     },
     "metadata": {},
     "output_type": "display_data"
    },
    {
     "data": {
      "application/vnd.jupyter.widget-view+json": {
       "model_id": "ea61d582a5794729a2035efdb21678e6",
       "version_major": 2,
       "version_minor": 0
      },
      "text/plain": [
       "Test:   0%|          | 0/157 [00:00<?, ?it/s]"
      ]
     },
     "metadata": {},
     "output_type": "display_data"
    },
    {
     "name": "stdout",
     "output_type": "stream",
     "text": [
      "0 1.1362488319031254 0.6316757074017434 tensor(0.7902)\n"
     ]
    },
    {
     "data": {
      "application/vnd.jupyter.widget-view+json": {
       "model_id": "de433304efe849dfb0e8eac33ee10dd6",
       "version_major": 2,
       "version_minor": 0
      },
      "text/plain": [
       "Train:   0%|          | 0/1562 [00:00<?, ?it/s]"
      ]
     },
     "metadata": {},
     "output_type": "display_data"
    },
    {
     "data": {
      "application/vnd.jupyter.widget-view+json": {
       "model_id": "e696f88ebbc0431288f526940fcf2136",
       "version_major": 2,
       "version_minor": 0
      },
      "text/plain": [
       "Test:   0%|          | 0/157 [00:00<?, ?it/s]"
      ]
     },
     "metadata": {},
     "output_type": "display_data"
    },
    {
     "name": "stdout",
     "output_type": "stream",
     "text": [
      "1 0.5599974916053032 0.6296425130052171 tensor(0.8306)\n"
     ]
    },
    {
     "data": {
      "application/vnd.jupyter.widget-view+json": {
       "model_id": "feb6035a126f48298b70df3324203bbe",
       "version_major": 2,
       "version_minor": 0
      },
      "text/plain": [
       "Train:   0%|          | 0/1562 [00:00<?, ?it/s]"
      ]
     },
     "metadata": {},
     "output_type": "display_data"
    },
    {
     "data": {
      "application/vnd.jupyter.widget-view+json": {
       "model_id": "f66062fba1874bf89b07f0095c762f16",
       "version_major": 2,
       "version_minor": 0
      },
      "text/plain": [
       "Test:   0%|          | 0/157 [00:00<?, ?it/s]"
      ]
     },
     "metadata": {},
     "output_type": "display_data"
    },
    {
     "name": "stdout",
     "output_type": "stream",
     "text": [
      "2 0.3874481272395991 0.43059619475796723 tensor(0.8502)\n"
     ]
    },
    {
     "data": {
      "application/vnd.jupyter.widget-view+json": {
       "model_id": "aba5d171f0da4470bee225712f80e2d2",
       "version_major": 2,
       "version_minor": 0
      },
      "text/plain": [
       "Train:   0%|          | 0/1562 [00:00<?, ?it/s]"
      ]
     },
     "metadata": {},
     "output_type": "display_data"
    },
    {
     "data": {
      "application/vnd.jupyter.widget-view+json": {
       "model_id": "eae5fa9145d64c3ab6356eed35eb7d57",
       "version_major": 2,
       "version_minor": 0
      },
      "text/plain": [
       "Test:   0%|          | 0/157 [00:00<?, ?it/s]"
      ]
     },
     "metadata": {},
     "output_type": "display_data"
    },
    {
     "name": "stdout",
     "output_type": "stream",
     "text": [
      "3 0.2717801528683507 0.4229751796384526 tensor(0.8619)\n"
     ]
    },
    {
     "data": {
      "application/vnd.jupyter.widget-view+json": {
       "model_id": "4682371481164d2c954fa25e0a4b386d",
       "version_major": 2,
       "version_minor": 0
      },
      "text/plain": [
       "Train:   0%|          | 0/1562 [00:00<?, ?it/s]"
      ]
     },
     "metadata": {},
     "output_type": "display_data"
    },
    {
     "data": {
      "application/vnd.jupyter.widget-view+json": {
       "model_id": "9dff470f74514186bb737ca1c71426f1",
       "version_major": 2,
       "version_minor": 0
      },
      "text/plain": [
       "Test:   0%|          | 0/157 [00:00<?, ?it/s]"
      ]
     },
     "metadata": {},
     "output_type": "display_data"
    },
    {
     "name": "stdout",
     "output_type": "stream",
     "text": [
      "4 0.19826159476470703 0.43168334200218983 tensor(0.8634)\n"
     ]
    },
    {
     "data": {
      "application/vnd.jupyter.widget-view+json": {
       "model_id": "ce5238649a4e41b9bc630c96bdbf6867",
       "version_major": 2,
       "version_minor": 0
      },
      "text/plain": [
       "Train:   0%|          | 0/1562 [00:00<?, ?it/s]"
      ]
     },
     "metadata": {},
     "output_type": "display_data"
    },
    {
     "data": {
      "application/vnd.jupyter.widget-view+json": {
       "model_id": "b7720a18869a4fe599922a8fff55827b",
       "version_major": 2,
       "version_minor": 0
      },
      "text/plain": [
       "Test:   0%|          | 0/157 [00:00<?, ?it/s]"
      ]
     },
     "metadata": {},
     "output_type": "display_data"
    },
    {
     "name": "stdout",
     "output_type": "stream",
     "text": [
      "5 0.14536864655843618 0.47462158113907854 tensor(0.8646)\n"
     ]
    }
   ],
   "source": [
    "n_epochs = 6\n",
    "for epoch in tqdm(range(n_epochs), desc='Epoch'):\n",
    "    model.train()\n",
    "    losses_trn = []\n",
    "    for inp, tgt in tqdm(dl_trn, desc='Train', leave=False):\n",
    "        optimizer.zero_grad()\n",
    "        out = model(inp.to(device))\n",
    "        loss = loss_fn(out, tgt.to(device))\n",
    "        loss.backward()\n",
    "        optimizer.step()\n",
    "        losses_trn.append(loss.item())\n",
    "    \n",
    "    model.eval()\n",
    "    losses_test = []\n",
    "    tgts, preds = [], []\n",
    "    for inp, tgt in tqdm(dl_test, desc='Test', leave=False):\n",
    "        with torch.no_grad():\n",
    "            out = model(inp.to(device))\n",
    "            loss = loss_fn(out, tgt.to(device))\n",
    "            tgts.append(tgt)\n",
    "            preds.append(out.argmax(dim=1).detach().cpu())\n",
    "        losses_test.append(loss.item())\n",
    "    tgts = torch.cat(tgts, dim=0)\n",
    "    preds = torch.cat(preds, dim=0)\n",
    "    accs = torch.stack([(preds == tgts)[tgts == c].float().mean() for c in range(num_classes)])\n",
    "    b_acc = accs.mean()\n",
    "    \n",
    "    print(epoch, mean(losses_trn), mean(losses_test), b_acc)"
   ]
  },
  {
   "cell_type": "code",
   "execution_count": 17,
   "id": "7c88e665-94c5-425b-b14b-362991fcd4b8",
   "metadata": {},
   "outputs": [],
   "source": [
    "def collect_preds(dl, model):\n",
    "    model.eval()\n",
    "    outs, tgts = [], []\n",
    "    for inp, tgt in dl:\n",
    "        with torch.no_grad():\n",
    "            out = model(inp.to(device))\n",
    "        outs.append(out.detach().cpu())\n",
    "        tgts.append(tgt)\n",
    "    tgts = torch.cat(tgts, dim=0)\n",
    "    outs = torch.cat(outs, dim=0)\n",
    "    return outs, tgts"
   ]
  },
  {
   "cell_type": "code",
   "execution_count": 18,
   "id": "f198c0af-bae6-4b95-94e4-6ff1d615403b",
   "metadata": {},
   "outputs": [],
   "source": [
    "# blur_tfm = TF.GaussianBlur(kernel_size=3)# TF.Compose([TF.ToTensor(), TF.Normalize((0.5,0.5,0.5), (0.5,0.5,0.5))])\n",
    "# noise_tfm = TF.Compose([TF.ToTensor(), TF.Normalize((0.5,0.5,0.5), (0.5,0.5,0.5)), \n",
    "#                         TF2.GaussianNoise(mean=0., sigma=0.01), TF.ToPILImage()])\n",
    "blur_tfm = TF.Compose([TF.GaussianBlur(kernel_size=3, sigma=(1., 2.)), \n",
    "                       TF.ToTensor(), TF.Normalize((0.485, 0.456, 0.406), (0.229, 0.224, 0.225))])\n",
    "noise_tfm = TF.Compose([TF.ToTensor(), TF.Normalize((0.485, 0.456, 0.406), (0.229, 0.224, 0.225)), \n",
    "                        TF2.GaussianNoise(mean=0., sigma=0.01)])\n",
    "ds_blur  = torchvision.datasets.ImageFolder('./Cifar10/test', transform=blur_tfm)\n",
    "ds_noise = torchvision.datasets.ImageFolder('./Cifar10/test', transform=noise_tfm)\n",
    "dl_blur = torch.utils.data.DataLoader(ds_blur, batch_size=64, shuffle=False, drop_last=False)\n",
    "dl_noise = torch.utils.data.DataLoader(ds_noise, batch_size=64, shuffle=False, drop_last=False)"
   ]
  },
  {
   "cell_type": "code",
   "execution_count": 19,
   "id": "e0603a77-62cd-4142-ab24-47fef459fc5a",
   "metadata": {},
   "outputs": [],
   "source": [
    "outs_orig, tgts_orig = collect_preds(dl_test, model)\n",
    "outs_blur, tgts_blur = collect_preds(dl_blur, model)\n",
    "outs_noise, tgts_noise = collect_preds(dl_noise, model)"
   ]
  },
  {
   "cell_type": "code",
   "execution_count": 20,
   "id": "636d3751-7b59-452e-8aaf-110bc187aa76",
   "metadata": {},
   "outputs": [],
   "source": [
    "assert (tgts_orig == tgts_blur).all()\n",
    "assert (tgts_orig == tgts_noise).all()"
   ]
  },
  {
   "cell_type": "code",
   "execution_count": 21,
   "id": "6f58ffc7-b8e7-4468-9fcc-4ca3d1767485",
   "metadata": {},
   "outputs": [],
   "source": [
    "tgts = tgts_orig"
   ]
  },
  {
   "cell_type": "code",
   "execution_count": 22,
   "id": "0a639aee-bf78-4c76-b443-4b6b89eda6f1",
   "metadata": {},
   "outputs": [],
   "source": [
    "def compute_conf_score(outs):\n",
    "    probs = outs.softmax(dim=1)\n",
    "    return probs.max(dim=1).values\n",
    "\n",
    "def compute_neg_entropy_score(outs):\n",
    "    probs = outs.softmax(dim=1)\n",
    "    entropies = probs * probs.log()\n",
    "    return entropies.sum(dim=1)"
   ]
  },
  {
   "cell_type": "code",
   "execution_count": 23,
   "id": "83b265c5-92ac-4155-91b1-ead25cc10c90",
   "metadata": {},
   "outputs": [],
   "source": [
    "def compute_OOD_det_score(outs_ID, outs_OOD, score_fn):\n",
    "    scores_ID, scores_OOD = score_fn(outs_ID), score_fn(outs_OOD)\n",
    "    scores_ID, scores_OOD = scores_ID.numpy(), scores_OOD.numpy()\n",
    "    labels_ID = np.ones((len(scores_ID),), dtype=int)\n",
    "    labels_OOD = np.zeros((len(scores_OOD),), dtype=int)\n",
    "    scores = np.concatenate((scores_ID, scores_OOD), axis=0)\n",
    "    labels = np.concatenate((labels_ID, labels_OOD), axis=0)\n",
    "    return labels, scores"
   ]
  },
  {
   "cell_type": "code",
   "execution_count": 24,
   "id": "173b523c-4386-495f-8243-109b0ec6c3c8",
   "metadata": {},
   "outputs": [],
   "source": [
    "outs_OOD = {'noise': outs_noise, 'blur': outs_blur}\n",
    "score_fns = {'conf': compute_conf_score, 'negH': compute_neg_entropy_score}"
   ]
  },
  {
   "cell_type": "code",
   "execution_count": 25,
   "id": "64596fce-da4e-4e6f-a2ee-67a3bbc6e888",
   "metadata": {},
   "outputs": [
    {
     "name": "stdout",
     "output_type": "stream",
     "text": [
      "noise conf 75.82%\n",
      "noise negH 76.81%\n",
      "blur conf 69.61%\n",
      "blur negH 70.16%\n"
     ]
    }
   ],
   "source": [
    "for corr_name, outs in outs_OOD.items():\n",
    "    for score_name, score_fn in score_fns.items():\n",
    "        rocauc = roc_auc_score(*compute_OOD_det_score(outs_orig, outs, score_fn))\n",
    "        print(corr_name, score_name, f'{rocauc*100:.2f}%')"
   ]
  },
  {
   "cell_type": "code",
   "execution_count": null,
   "id": "22b7200d-1f11-4f71-affd-f272ddb7ce90",
   "metadata": {},
   "outputs": [],
   "source": []
  },
  {
   "cell_type": "code",
   "execution_count": null,
   "id": "7364722c-0147-4aa2-abbc-d3e785059a78",
   "metadata": {},
   "outputs": [],
   "source": []
  }
 ],
 "metadata": {
  "kernelspec": {
   "display_name": "stenoses",
   "language": "python",
   "name": "stenoses"
  },
  "language_info": {
   "codemirror_mode": {
    "name": "ipython",
    "version": 3
   },
   "file_extension": ".py",
   "mimetype": "text/x-python",
   "name": "python",
   "nbconvert_exporter": "python",
   "pygments_lexer": "ipython3",
   "version": "3.10.15"
  }
 },
 "nbformat": 4,
 "nbformat_minor": 5
}
