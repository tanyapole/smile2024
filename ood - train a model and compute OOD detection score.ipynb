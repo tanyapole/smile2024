{
 "cells": [
  {
   "cell_type": "code",
   "execution_count": 1,
   "id": "0a974332-7f65-4b8d-a5c6-cf7a7fd783aa",
   "metadata": {},
   "outputs": [],
   "source": [
    "import torch\n",
    "import torch.nn as nn\n",
    "import torchvision\n",
    "import torchvision.transforms as TF\n",
    "import torchvision.transforms.v2 as TF2\n",
    "from tqdm.auto import tqdm\n",
    "import numpy as np\n",
    "from sklearn.metrics import roc_auc_score, roc_curve"
   ]
  },
  {
   "cell_type": "code",
   "execution_count": 2,
   "id": "20d6657f-d490-464b-9834-9097dbe60ed4",
   "metadata": {},
   "outputs": [],
   "source": [
    "def mean(L):\n",
    "    if len(L) == 0: return None\n",
    "    return sum(L) / len(L)"
   ]
  },
  {
   "cell_type": "code",
   "execution_count": 3,
   "id": "8a1780f5-aace-4627-9c8d-915ffff2fd88",
   "metadata": {},
   "outputs": [],
   "source": [
    "tfm = TF.Compose([TF.ToTensor(), TF.Normalize((0.5,0.5,0.5), (0.5,0.5,0.5))])\n",
    "ds_trn = torchvision.datasets.ImageFolder('./Cifar10/train', transform=tfm)\n",
    "ds_test = torchvision.datasets.ImageFolder('./Cifar10/test', transform=tfm)"
   ]
  },
  {
   "cell_type": "code",
   "execution_count": 4,
   "id": "05d6b922-7787-4eb7-a5ca-868496911de5",
   "metadata": {},
   "outputs": [],
   "source": [
    "assert ds_trn.classes == ds_test.classes\n",
    "num_classes = len(ds_trn.classes)"
   ]
  },
  {
   "cell_type": "code",
   "execution_count": 5,
   "id": "454be6db-1dfd-482a-866e-0308696179bb",
   "metadata": {},
   "outputs": [],
   "source": [
    "dl_trn = torch.utils.data.DataLoader(ds_trn, batch_size=32, shuffle=True, drop_last=True)\n",
    "dl_test = torch.utils.data.DataLoader(ds_test, batch_size=64, shuffle=False, drop_last=False)"
   ]
  },
  {
   "cell_type": "code",
   "execution_count": 6,
   "id": "ed8f82a7-5327-4f9b-bf26-d3daaec606f1",
   "metadata": {},
   "outputs": [],
   "source": [
    "device = torch.device('cuda:0')"
   ]
  },
  {
   "cell_type": "code",
   "execution_count": 7,
   "id": "224c73c3-44c4-44c6-9c75-59725750cd9f",
   "metadata": {},
   "outputs": [],
   "source": [
    "loss_fn = nn.CrossEntropyLoss()"
   ]
  },
  {
   "cell_type": "code",
   "execution_count": 8,
   "id": "f33fc080-f0fa-4a18-8cd8-c36eea2d2323",
   "metadata": {},
   "outputs": [],
   "source": [
    "model = torchvision.models.resnet18(weights='DEFAULT')\n",
    "model.fc = nn.Linear(model.fc.in_features, num_classes, bias=True)\n",
    "model = model.to(device)"
   ]
  },
  {
   "cell_type": "code",
   "execution_count": 9,
   "id": "205ddcb3-cc25-4e4a-a9fa-aa379b23ecd6",
   "metadata": {},
   "outputs": [],
   "source": [
    "optimizer = torch.optim.Adam(model.parameters(), lr=1e-4)"
   ]
  },
  {
   "cell_type": "code",
   "execution_count": 10,
   "id": "c643b6b9-93c3-4e75-9112-7bb01a93d8b0",
   "metadata": {},
   "outputs": [
    {
     "data": {
      "application/vnd.jupyter.widget-view+json": {
       "model_id": "28186d74b76a4b9da551bea81ce93e85",
       "version_major": 2,
       "version_minor": 0
      },
      "text/plain": [
       "Epoch:   0%|          | 0/6 [00:00<?, ?it/s]"
      ]
     },
     "metadata": {},
     "output_type": "display_data"
    },
    {
     "data": {
      "application/vnd.jupyter.widget-view+json": {
       "model_id": "1748aaf00ffb43e48539bedd6d6bb984",
       "version_major": 2,
       "version_minor": 0
      },
      "text/plain": [
       "Train:   0%|          | 0/1562 [00:00<?, ?it/s]"
      ]
     },
     "metadata": {},
     "output_type": "display_data"
    },
    {
     "data": {
      "application/vnd.jupyter.widget-view+json": {
       "model_id": "504a372392874355b9bce081af9777e0",
       "version_major": 2,
       "version_minor": 0
      },
      "text/plain": [
       "Test:   0%|          | 0/157 [00:00<?, ?it/s]"
      ]
     },
     "metadata": {},
     "output_type": "display_data"
    },
    {
     "name": "stdout",
     "output_type": "stream",
     "text": [
      "0 1.002741907931931 0.6946572527574126 tensor(0.7629)\n"
     ]
    },
    {
     "data": {
      "application/vnd.jupyter.widget-view+json": {
       "model_id": "a05587d857a345de9399cae4df284140",
       "version_major": 2,
       "version_minor": 0
      },
      "text/plain": [
       "Train:   0%|          | 0/1562 [00:00<?, ?it/s]"
      ]
     },
     "metadata": {},
     "output_type": "display_data"
    },
    {
     "data": {
      "application/vnd.jupyter.widget-view+json": {
       "model_id": "bb51d823b5a04ce09c8dbfc047af9ee8",
       "version_major": 2,
       "version_minor": 0
      },
      "text/plain": [
       "Test:   0%|          | 0/157 [00:00<?, ?it/s]"
      ]
     },
     "metadata": {},
     "output_type": "display_data"
    },
    {
     "name": "stdout",
     "output_type": "stream",
     "text": [
      "1 0.6286239525000356 0.5774387950730172 tensor(0.8024)\n"
     ]
    },
    {
     "data": {
      "application/vnd.jupyter.widget-view+json": {
       "model_id": "2c9907d457e14c97b648407ddfec8336",
       "version_major": 2,
       "version_minor": 0
      },
      "text/plain": [
       "Train:   0%|          | 0/1562 [00:00<?, ?it/s]"
      ]
     },
     "metadata": {},
     "output_type": "display_data"
    },
    {
     "data": {
      "application/vnd.jupyter.widget-view+json": {
       "model_id": "73867477b93344e2b6c83680e38238e8",
       "version_major": 2,
       "version_minor": 0
      },
      "text/plain": [
       "Test:   0%|          | 0/157 [00:00<?, ?it/s]"
      ]
     },
     "metadata": {},
     "output_type": "display_data"
    },
    {
     "name": "stdout",
     "output_type": "stream",
     "text": [
      "2 0.47966351742628444 0.5630277306505829 tensor(0.8080)\n"
     ]
    },
    {
     "data": {
      "application/vnd.jupyter.widget-view+json": {
       "model_id": "5d01d0eaddf448b280d6b45c2462b639",
       "version_major": 2,
       "version_minor": 0
      },
      "text/plain": [
       "Train:   0%|          | 0/1562 [00:00<?, ?it/s]"
      ]
     },
     "metadata": {},
     "output_type": "display_data"
    },
    {
     "data": {
      "application/vnd.jupyter.widget-view+json": {
       "model_id": "8e3418f17b634f39a3daadb7cfb1c6f6",
       "version_major": 2,
       "version_minor": 0
      },
      "text/plain": [
       "Test:   0%|          | 0/157 [00:00<?, ?it/s]"
      ]
     },
     "metadata": {},
     "output_type": "display_data"
    },
    {
     "name": "stdout",
     "output_type": "stream",
     "text": [
      "3 0.3628172308430743 0.5416375523444953 tensor(0.8211)\n"
     ]
    },
    {
     "data": {
      "application/vnd.jupyter.widget-view+json": {
       "model_id": "f9291566b0a34fb88ce81fd0891ddeee",
       "version_major": 2,
       "version_minor": 0
      },
      "text/plain": [
       "Train:   0%|          | 0/1562 [00:00<?, ?it/s]"
      ]
     },
     "metadata": {},
     "output_type": "display_data"
    },
    {
     "data": {
      "application/vnd.jupyter.widget-view+json": {
       "model_id": "1cda292991ee4aedbc328126d704ff15",
       "version_major": 2,
       "version_minor": 0
      },
      "text/plain": [
       "Test:   0%|          | 0/157 [00:00<?, ?it/s]"
      ]
     },
     "metadata": {},
     "output_type": "display_data"
    },
    {
     "name": "stdout",
     "output_type": "stream",
     "text": [
      "4 0.2878967738434882 0.5725828984360786 tensor(0.8129)\n"
     ]
    },
    {
     "data": {
      "application/vnd.jupyter.widget-view+json": {
       "model_id": "adcc5f4b79d44452a99729e7dfd50e22",
       "version_major": 2,
       "version_minor": 0
      },
      "text/plain": [
       "Train:   0%|          | 0/1562 [00:00<?, ?it/s]"
      ]
     },
     "metadata": {},
     "output_type": "display_data"
    },
    {
     "data": {
      "application/vnd.jupyter.widget-view+json": {
       "model_id": "e771357b29094282ae6615605abc962c",
       "version_major": 2,
       "version_minor": 0
      },
      "text/plain": [
       "Test:   0%|          | 0/157 [00:00<?, ?it/s]"
      ]
     },
     "metadata": {},
     "output_type": "display_data"
    },
    {
     "name": "stdout",
     "output_type": "stream",
     "text": [
      "5 0.22513691635227615 0.5744384775163641 tensor(0.8277)\n"
     ]
    }
   ],
   "source": [
    "n_epochs = 6\n",
    "for epoch in tqdm(range(n_epochs), desc='Epoch'):\n",
    "    model.train()\n",
    "    losses_trn = []\n",
    "    for inp, tgt in tqdm(dl_trn, desc='Train', leave=False):\n",
    "        optimizer.zero_grad()\n",
    "        out = model(inp.to(device))\n",
    "        loss = loss_fn(out, tgt.to(device))\n",
    "        loss.backward()\n",
    "        optimizer.step()\n",
    "        losses_trn.append(loss.item())\n",
    "    \n",
    "    model.eval()\n",
    "    losses_test = []\n",
    "    tgts, preds = [], []\n",
    "    for inp, tgt in tqdm(dl_test, desc='Test', leave=False):\n",
    "        with torch.no_grad():\n",
    "            out = model(inp.to(device))\n",
    "            loss = loss_fn(out, tgt.to(device))\n",
    "            tgts.append(tgt)\n",
    "            preds.append(out.argmax(dim=1).detach().cpu())\n",
    "        losses_test.append(loss.item())\n",
    "    tgts = torch.cat(tgts, dim=0)\n",
    "    preds = torch.cat(preds, dim=0)\n",
    "    accs = torch.stack([(preds == tgts)[tgts == c].float().mean() for c in range(num_classes)])\n",
    "    b_acc = accs.mean()\n",
    "    \n",
    "    print(epoch, mean(losses_trn), mean(losses_test), b_acc)"
   ]
  },
  {
   "cell_type": "code",
   "execution_count": 11,
   "id": "7c88e665-94c5-425b-b14b-362991fcd4b8",
   "metadata": {},
   "outputs": [],
   "source": [
    "def collect_preds(dl, model):\n",
    "    model.eval()\n",
    "    outs, tgts = [], []\n",
    "    for inp, tgt in dl:\n",
    "        with torch.no_grad():\n",
    "            out = model(inp.to(device))\n",
    "        outs.append(out.detach().cpu())\n",
    "        tgts.append(tgt)\n",
    "    tgts = torch.cat(tgts, dim=0)\n",
    "    outs = torch.cat(outs, dim=0)\n",
    "    return outs, tgts"
   ]
  },
  {
   "cell_type": "code",
   "execution_count": 12,
   "id": "f198c0af-bae6-4b95-94e4-6ff1d615403b",
   "metadata": {},
   "outputs": [],
   "source": [
    "# blur_tfm = TF.GaussianBlur(kernel_size=3)# TF.Compose([TF.ToTensor(), TF.Normalize((0.5,0.5,0.5), (0.5,0.5,0.5))])\n",
    "# noise_tfm = TF.Compose([TF.ToTensor(), TF.Normalize((0.5,0.5,0.5), (0.5,0.5,0.5)), \n",
    "#                         TF2.GaussianNoise(mean=0., sigma=0.01), TF.ToPILImage()])\n",
    "blur_tfm = TF.Compose([TF.GaussianBlur(kernel_size=3, sigma=(1., 2.)), \n",
    "                       TF.ToTensor(), TF.Normalize((0.5,0.5,0.5), (0.5,0.5,0.5))])\n",
    "noise_tfm = TF.Compose([TF.ToTensor(), TF.Normalize((0.5,0.5,0.5), (0.5,0.5,0.5)), \n",
    "                        TF2.GaussianNoise(mean=0., sigma=0.01)])\n",
    "ds_blur  = torchvision.datasets.ImageFolder('./Cifar10/test', transform=blur_tfm)\n",
    "ds_noise = torchvision.datasets.ImageFolder('./Cifar10/test', transform=noise_tfm)\n",
    "dl_blur = torch.utils.data.DataLoader(ds_blur, batch_size=64, shuffle=False, drop_last=False)\n",
    "dl_noise = torch.utils.data.DataLoader(ds_noise, batch_size=64, shuffle=False, drop_last=False)"
   ]
  },
  {
   "cell_type": "code",
   "execution_count": 13,
   "id": "e0603a77-62cd-4142-ab24-47fef459fc5a",
   "metadata": {},
   "outputs": [],
   "source": [
    "outs_orig, tgts_orig = collect_preds(dl_test, model)\n",
    "outs_blur, tgts_blur = collect_preds(dl_blur, model)\n",
    "outs_noise, tgts_noise = collect_preds(dl_noise, model)"
   ]
  },
  {
   "cell_type": "code",
   "execution_count": 14,
   "id": "636d3751-7b59-452e-8aaf-110bc187aa76",
   "metadata": {},
   "outputs": [],
   "source": [
    "assert (tgts_orig == tgts_blur).all()\n",
    "assert (tgts_orig == tgts_noise).all()"
   ]
  },
  {
   "cell_type": "code",
   "execution_count": 15,
   "id": "6f58ffc7-b8e7-4468-9fcc-4ca3d1767485",
   "metadata": {},
   "outputs": [],
   "source": [
    "tgts = tgts_orig"
   ]
  },
  {
   "cell_type": "code",
   "execution_count": 16,
   "id": "0a639aee-bf78-4c76-b443-4b6b89eda6f1",
   "metadata": {},
   "outputs": [],
   "source": [
    "def compute_conf_score(outs):\n",
    "    probs = outs.softmax(dim=1)\n",
    "    return probs.max(dim=1).values\n",
    "\n",
    "def compute_neg_entropy_score(outs):\n",
    "    probs = outs.softmax(dim=1)\n",
    "    entropies = probs * probs.log()\n",
    "    return entropies.sum(dim=1)"
   ]
  },
  {
   "cell_type": "code",
   "execution_count": 17,
   "id": "83b265c5-92ac-4155-91b1-ead25cc10c90",
   "metadata": {},
   "outputs": [],
   "source": [
    "def compute_OOD_det_score(outs_ID, outs_OOD, score_fn):\n",
    "    scores_ID, scores_OOD = score_fn(outs_ID), score_fn(outs_OOD)\n",
    "    scores_ID, scores_OOD = scores_ID.numpy(), scores_OOD.numpy()\n",
    "    labels_ID = np.ones((len(scores_ID),), dtype=int)\n",
    "    labels_OOD = np.zeros((len(scores_OOD),), dtype=int)\n",
    "    scores = np.concatenate((scores_ID, scores_OOD), axis=0)\n",
    "    labels = np.concatenate((labels_ID, labels_OOD), axis=0)\n",
    "    return labels, scores"
   ]
  },
  {
   "cell_type": "code",
   "execution_count": 18,
   "id": "173b523c-4386-495f-8243-109b0ec6c3c8",
   "metadata": {},
   "outputs": [],
   "source": [
    "outs_OOD = {'noise': outs_noise, 'blur': outs_blur}\n",
    "score_fns = {'conf': compute_conf_score, 'negH': compute_neg_entropy_score}"
   ]
  },
  {
   "cell_type": "code",
   "execution_count": 19,
   "id": "64596fce-da4e-4e6f-a2ee-67a3bbc6e888",
   "metadata": {},
   "outputs": [
    {
     "name": "stdout",
     "output_type": "stream",
     "text": [
      "noise conf 72.20%\n",
      "noise negH 73.41%\n",
      "blur conf 70.91%\n",
      "blur negH 71.51%\n"
     ]
    }
   ],
   "source": [
    "for corr_name, outs in outs_OOD.items():\n",
    "    for score_name, score_fn in score_fns.items():\n",
    "        rocauc = roc_auc_score(*compute_OOD_det_score(outs_orig, outs, score_fn))\n",
    "        print(corr_name, score_name, f'{rocauc*100:.2f}%')"
   ]
  },
  {
   "cell_type": "code",
   "execution_count": 157,
   "id": "d019ea95-4c21-48e2-a7a0-65bae076bd9a",
   "metadata": {},
   "outputs": [
    {
     "name": "stdout",
     "output_type": "stream",
     "text": [
      "noise conf 69.91%\n",
      "noise negH 71.19%\n",
      "blur conf 67.79%\n",
      "blur negH 68.33%\n"
     ]
    }
   ],
   "source": [
    "# модель с lr=1e-5 и более низкой ID точностью\n",
    "for corr_name, outs in outs_OOD.items():\n",
    "    for score_name, score_fn in score_fns.items():\n",
    "        rocauc = roc_auc_score(*compute_OOD_det_score(outs_orig, outs, score_fn))\n",
    "        print(corr_name, score_name, f'{rocauc*100:.2f}%')"
   ]
  },
  {
   "cell_type": "code",
   "execution_count": null,
   "id": "22b7200d-1f11-4f71-affd-f272ddb7ce90",
   "metadata": {},
   "outputs": [],
   "source": []
  },
  {
   "cell_type": "code",
   "execution_count": null,
   "id": "7364722c-0147-4aa2-abbc-d3e785059a78",
   "metadata": {},
   "outputs": [],
   "source": []
  }
 ],
 "metadata": {
  "kernelspec": {
   "display_name": "stenoses",
   "language": "python",
   "name": "stenoses"
  },
  "language_info": {
   "codemirror_mode": {
    "name": "ipython",
    "version": 3
   },
   "file_extension": ".py",
   "mimetype": "text/x-python",
   "name": "python",
   "nbconvert_exporter": "python",
   "pygments_lexer": "ipython3",
   "version": "3.10.15"
  }
 },
 "nbformat": 4,
 "nbformat_minor": 5
}
